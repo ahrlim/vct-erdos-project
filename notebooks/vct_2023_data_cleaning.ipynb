{
 "cells": [
  {
   "cell_type": "code",
   "execution_count": 1,
   "metadata": {},
   "outputs": [],
   "source": [
    "import pandas as pd"
   ]
  },
  {
   "cell_type": "code",
   "execution_count": 2,
   "metadata": {},
   "outputs": [],
   "source": [
    "# make the dictionary whose keys are file names and values are 1-dimensional ndarray.\n",
    "# we don't need teampping here because it doesn't have \"Tournament\" feature.\n",
    "data_files = [\"draft_phase\", \"eco_rounds\", \"eco_stats\", \"kills_stats\",\n",
    "              \"kills\", \"maps_played\", \"maps_scores\", \"overview\", \"rounds_kills\",\n",
    "              \"scores\", \"win_loss_methods_count\", \"win_loss_methods_round_number\"]\n",
    "tournaments = {}\n",
    "for file in data_files:\n",
    "    filename = f\"../data/vct_2023/matches/{file}.csv\"\n",
    "    tournaments[file] = pd.read_csv(filename).Tournament.unique()"
   ]
  },
  {
   "cell_type": "code",
   "execution_count": 3,
   "metadata": {},
   "outputs": [
    {
     "name": "stdout",
     "output_type": "stream",
     "text": [
      "The number of unique tournaments of each file.\n",
      "draft_phase: 10\n",
      "eco_rounds: 10\n",
      "eco_stats: 10\n",
      "kills_stats: 10\n",
      "kills: 10\n",
      "maps_played: 10\n",
      "maps_scores: 10\n",
      "overview: 10\n",
      "rounds_kills: 10\n",
      "scores: 10\n",
      "win_loss_methods_count: 10\n",
      "win_loss_methods_round_number: 10\n"
     ]
    }
   ],
   "source": [
    "print(\"The number of unique tournaments of each file.\")\n",
    "for file, df in tournaments.items():\n",
    "    print(f\"{file}: {len(df)}\")"
   ]
  },
  {
   "cell_type": "code",
   "execution_count": 4,
   "metadata": {},
   "outputs": [
    {
     "data": {
      "text/plain": [
       "{10: ['draft_phase',\n",
       "  'eco_rounds',\n",
       "  'eco_stats',\n",
       "  'kills_stats',\n",
       "  'kills',\n",
       "  'maps_played',\n",
       "  'maps_scores',\n",
       "  'overview',\n",
       "  'rounds_kills',\n",
       "  'scores',\n",
       "  'win_loss_methods_count',\n",
       "  'win_loss_methods_round_number']}"
      ]
     },
     "execution_count": 4,
     "metadata": {},
     "output_type": "execute_result"
    }
   ],
   "source": [
    "files_by_tnmt_len = {}\n",
    "\n",
    "for file, df in tournaments.items():\n",
    "    if len(df) in files_by_tnmt_len:\n",
    "        files_by_tnmt_len[len(df)].append(file)\n",
    "    else:\n",
    "        files_by_tnmt_len[len(df)] = [file]\n",
    "\n",
    "files_by_tnmt_len"
   ]
  },
  {
   "cell_type": "code",
   "execution_count": 5,
   "metadata": {},
   "outputs": [],
   "source": [
    "def not_in_the_other(a: list, b: list) -> list: \n",
    "    '''\n",
    "    input: a pair of lists\n",
    "    return: the list of elements which are in the list a, but not in b.\n",
    "    '''\n",
    "    not_in_b = []\n",
    "    for i in a:\n",
    "        if i not in b:\n",
    "            not_in_b.append(i)\n",
    "            \n",
    "    return not_in_b\n",
    "\n",
    "def all_pairs(k: int) -> list:\n",
    "    '''\n",
    "    input: a postive integer k bigger than 1\n",
    "    return: list of all pairs from 0,1,2,...,k-1.  Two elements in a pair are different.\n",
    "    '''\n",
    "    if k < 2:\n",
    "        return print(\"input needs to be an integer bigger than 1\")\n",
    "    \n",
    "    else:\n",
    "        pairs = []\n",
    "        for i in range(k):\n",
    "            n = i\n",
    "            m = i+1\n",
    "            while m < k:\n",
    "                pairs.append((n,m))\n",
    "                m += 1\n",
    "        return pairs"
   ]
  },
  {
   "cell_type": "code",
   "execution_count": 6,
   "metadata": {},
   "outputs": [
    {
     "name": "stdout",
     "output_type": "stream",
     "text": [
      "Check if all the files, having 10 many tournaments, share the same tournaments.\n",
      "All files have the same tournaments as we want.\n",
      "====================\n"
     ]
    }
   ],
   "source": [
    "for length, file_list in files_by_tnmt_len.items():\n",
    "    print(f\"Check if all the files, having {length} many tournaments, share the same tournaments.\")\n",
    "    if len(file_list) == 1:\n",
    "        print(f\"There is only one file with {length} many tournaments.\")\n",
    "    else:\n",
    "        pair_ind = all_pairs(len(file_list))\n",
    "        diff_pair_ind = []\n",
    "\n",
    "        for i, j in pair_ind:\n",
    "            not_in_intersection = not_in_the_other(tournaments[file_list[i]], tournaments[file_list[j]])\n",
    "            if not_in_intersection != []:\n",
    "                print(not_in_intersection)\n",
    "                diff_pair_ind.append((i, j))\n",
    "\n",
    "        if len(diff_pair_ind) > 0:\n",
    "            for i, j in diff_pair_ind:\n",
    "                print(f\"{file_list[i]} and {file_list[j]} have different tournaments.\")\n",
    "        else:\n",
    "            print(\"All files have the same tournaments as we want.\")\n",
    "    print(\"====================\")"
   ]
  },
  {
   "attachments": {},
   "cell_type": "markdown",
   "metadata": {},
   "source": [
    "##### As expected, 2023 year data is the cleanest."
   ]
  }
 ],
 "metadata": {
  "kernelspec": {
   "display_name": "erdos",
   "language": "python",
   "name": "python3"
  },
  "language_info": {
   "codemirror_mode": {
    "name": "ipython",
    "version": 3
   },
   "file_extension": ".py",
   "mimetype": "text/x-python",
   "name": "python",
   "nbconvert_exporter": "python",
   "pygments_lexer": "ipython3",
   "version": "3.11.7"
  },
  "orig_nbformat": 4,
  "vscode": {
   "interpreter": {
    "hash": "e6d8f4093bc2dab228779f43e389429ad3872fe88c0f6ca13c113b9c074fc1d9"
   }
  }
 },
 "nbformat": 4,
 "nbformat_minor": 2
}
