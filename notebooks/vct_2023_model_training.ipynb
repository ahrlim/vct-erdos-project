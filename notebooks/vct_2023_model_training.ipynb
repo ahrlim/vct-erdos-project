{
 "cells": [
  {
   "cell_type": "code",
   "execution_count": 1,
   "metadata": {},
   "outputs": [],
   "source": [
    "import pandas as pd\n",
    "import numpy as np"
   ]
  },
  {
   "cell_type": "code",
   "execution_count": 2,
   "metadata": {},
   "outputs": [],
   "source": [
    "train_data = pd.read_csv(\"../data/vct_2023/processed_data/AvsB_train_data_players_stats_eco_SK_rounds.csv\")\n",
    "test_data = pd.read_csv(\"../data/vct_2023/processed_data/AvsB_test_data_players_stats_eco_SK_rounds.csv\")"
   ]
  },
  {
   "attachments": {},
   "cell_type": "markdown",
   "metadata": {},
   "source": [
    "\"Player_A\", \"Player_B\" are not in train_input \n",
    "\"Composition_A\", \"Composition_B\" are in both train and test, but they are non numeric data."
   ]
  },
  {
   "cell_type": "code",
   "execution_count": 3,
   "metadata": {},
   "outputs": [],
   "source": [
    "train_input = train_data.drop(['Unnamed: 0', 'Tournament', 'Stage', 'Match Type', 'Match Name', 'Map',\n",
    "                               \"Player_A\", \"Player_B\", \"Composition_A\", \"Composition_B\",\n",
    "       'Team_A', 'Team_B', 'Team_A_score_diff', 'Team_B_score_diff', 'Team_A_win', 'Team_B_win'], axis=1)\n",
    "train_target = train_data[\"Team_A_win\"]\n",
    "\n",
    "test_input = test_data.drop(['Unnamed: 0', 'Tournament', 'Stage', 'Match Type', 'Match Name', 'Map',\n",
    "                             \"Composition_A\", \"Composition_B\",\n",
    "       'Team A', 'Team B', 'Team_A_score_diff', 'Team_B_score_diff', 'Team_A_win', 'Team_B_win'], axis=1)\n",
    "test_target = test_data[\"Team_A_win\"]"
   ]
  },
  {
   "cell_type": "code",
   "execution_count": 4,
   "metadata": {},
   "outputs": [
    {
     "data": {
      "text/plain": [
       "(746, 164)"
      ]
     },
     "execution_count": 4,
     "metadata": {},
     "output_type": "execute_result"
    }
   ],
   "source": [
    "train_input.shape"
   ]
  },
  {
   "cell_type": "code",
   "execution_count": 5,
   "metadata": {},
   "outputs": [
    {
     "data": {
      "text/plain": [
       "(84, 164)"
      ]
     },
     "execution_count": 5,
     "metadata": {},
     "output_type": "execute_result"
    }
   ],
   "source": [
    "test_input.shape"
   ]
  },
  {
   "cell_type": "code",
   "execution_count": 6,
   "metadata": {},
   "outputs": [],
   "source": [
    "for key in train_input.keys():\n",
    "    if key not in test_input.keys():\n",
    "        print(key)"
   ]
  },
  {
   "cell_type": "code",
   "execution_count": 7,
   "metadata": {},
   "outputs": [
    {
     "data": {
      "text/plain": [
       "(746,)"
      ]
     },
     "execution_count": 7,
     "metadata": {},
     "output_type": "execute_result"
    }
   ],
   "source": [
    "train_target.shape"
   ]
  },
  {
   "cell_type": "code",
   "execution_count": 8,
   "metadata": {},
   "outputs": [
    {
     "data": {
      "text/plain": [
       "(84,)"
      ]
     },
     "execution_count": 8,
     "metadata": {},
     "output_type": "execute_result"
    }
   ],
   "source": [
    "test_target.shape"
   ]
  },
  {
   "cell_type": "code",
   "execution_count": 9,
   "metadata": {},
   "outputs": [],
   "source": [
    "from pandas.api.types import is_numeric_dtype"
   ]
  },
  {
   "cell_type": "code",
   "execution_count": 10,
   "metadata": {},
   "outputs": [],
   "source": [
    "for key in train_input.keys():\n",
    "    if not is_numeric_dtype(train_input[key]):\n",
    "        print(key)"
   ]
  },
  {
   "cell_type": "code",
   "execution_count": 22,
   "metadata": {},
   "outputs": [
    {
     "data": {
      "text/plain": [
       "0.6071428571428571"
      ]
     },
     "execution_count": 22,
     "metadata": {},
     "output_type": "execute_result"
    }
   ],
   "source": [
    "from sklearn.metrics import mean_squared_error, accuracy_score\n",
    "from sklearn.model_selection import train_test_split, GridSearchCV\n",
    "from sklearn.ensemble import GradientBoostingClassifier\n",
    "\n",
    "\n",
    "gbc = GradientBoostingClassifier(n_estimators=500)\n",
    "\n",
    "gbc.fit(train_input, train_target)\n",
    "gbc_pred = gbc.predict(test_input)\n",
    "gbc_acc = accuracy_score(test_target, gbc_pred)\n",
    "\n",
    "gbc_acc"
   ]
  },
  {
   "cell_type": "code",
   "execution_count": 18,
   "metadata": {},
   "outputs": [
    {
     "data": {
      "text/plain": [
       "0.5476190476190477"
      ]
     },
     "execution_count": 18,
     "metadata": {},
     "output_type": "execute_result"
    }
   ],
   "source": [
    "np.mean(test_target)"
   ]
  },
  {
   "cell_type": "code",
   "execution_count": 20,
   "metadata": {},
   "outputs": [
    {
     "name": "stdout",
     "output_type": "stream",
     "text": [
      "eco_rating_A: 0.60072880149532\n",
      "eco_rating_B: 0.08999600727432318\n",
      "Kills Per Round_A: 0.07257268855461069\n",
      "Kills Per Round_B: 0.048163857862635856\n",
      "Rating_A: 0.03253430792234304\n",
      "Average Combat Score_B: 0.028872681434982145\n",
      "Average Combat Score_A: 0.013269913765785145\n",
      "R3_lo_B: 0.012828651290538366\n",
      "Clutch Success %_B: 0.012047018986860123\n",
      "Clutch Success %_A: 0.008024567906331716\n",
      "Rating_B: 0.00726358686859905\n",
      "R3_lo_A: 0.0053576937969313475\n",
      "Assists Per Round_A: 0.0050388575845465656\n",
      "Average Damage Per Round_A: 0.004525896415973489\n",
      "R4_Special_Kills_A: 0.004405582762244519\n",
      "R2_lo_B: 0.0038320483133121577\n",
      "R2_lo_A: 0.003551826663908854\n",
      "Assists Per Round_B: 0.003173267546683086\n",
      "Headshot %_A: 0.003054635801384075\n",
      "sent_Average Damage Per Round_B: 0.002402886059806647\n",
      "cont_Clutch Success %_A: 0.0022749394266196364\n",
      "duel_First Kills Per Round_B: 0.0021801144615960317\n",
      "init_Kill, Assist, Trade, Survive %_B: 0.002142313888658203\n",
      "Kill, Assist, Trade, Survive %_A: 0.0017427283271494\n",
      "R5_lo_B: 0.0016957080976312353\n",
      "init_Average Damage Per Round_A: 0.0016662383264694348\n",
      "init_Kills Per Round_B: 0.0014656099119352956\n",
      "duel_First Kills Per Round_A: 0.0013476228100096157\n",
      "R6_Special_Kills_B: 0.0012914705416181974\n",
      "cont_Average Combat Score_B: 0.0011866809564040762\n",
      "prob_eco_rating_B: 0.0011240724215307628\n",
      "R11_lo_A: 0.0010834490658640625\n",
      "cont_Kill, Assist, Trade, Survive %_B: 0.0009599005813228787\n",
      "cont_Average Damage Per Round_A: 0.0009589796499502392\n",
      "init_Average Combat Score_B: 0.0009041194411675009\n",
      "cont_Headshot %_A: 0.0008955730892979814\n",
      "cont_Kills Per Round_A: 0.0008551164216218583\n",
      "init_Clutch Success %_A: 0.0007722336333620642\n",
      "Average Damage Per Round_B: 0.000757849884067348\n",
      "cont_Assists Per Round_A: 0.0007434596970175509\n",
      "cont_Assists Per Round_B: 0.0007043743641691518\n",
      "R6_lo_B: 0.0006794972467327596\n",
      "cont_First Deaths Per Round_A: 0.0006380842490367316\n",
      "duel_Assists Per Round_A: 0.0006196285603795546\n",
      "init_Assists Per Round_B: 0.0005059100507455717\n",
      "R9_lo_A: 0.0004961284743377949\n",
      "duel_Kills Per Round_A: 0.00048160875365708505\n",
      "init_B: 0.00046929758362806886\n",
      "R12_Special_Kills_B: 0.00045863501137766654\n",
      "cont_Kills Per Round_B: 0.00044193164108476487\n",
      "sent_Average Combat Score_A: 0.0004191557506314743\n",
      "prob_eco_rating_A: 0.0003631844722343949\n",
      "cont_Average Combat Score_A: 0.0003111398757802361\n",
      "R12_lo_A: 0.00030238125308216645\n",
      "init_Kill, Assist, Trade, Survive %_A: 0.00028836168000099074\n",
      "init_Average Damage Per Round_B: 0.00027913310347571296\n",
      "cont_Rating_B: 0.00027381437798187805\n",
      "sent_Rating_A: 0.00023520895414867193\n",
      "R12_Special_Kills_A: 0.00021463204032712066\n",
      "init_Kills Per Round_A: 0.0002137084220422816\n",
      "R8_lo_A: 0.0002129126161272348\n",
      "duel_Rating_B: 0.0002117441749098899\n",
      "cont_Clutch Success %_B: 0.0002011002776349848\n",
      "cont_Rating_A: 0.00019178458522248716\n",
      "sent_Kill, Assist, Trade, Survive %_A: 0.00018642286361665456\n",
      "R8_Special_Kills_B: 0.00017745452246020264\n",
      "Headshot %_B: 0.0001722822025757679\n",
      "duel_Headshot %_A: 0.00017165094409541643\n",
      "sent_First Deaths Per Round_B: 0.00015243548128067894\n",
      "R4_lo_A: 0.00014733279215849753\n",
      "R13_lo_B: 0.0001451605602780709\n",
      "sent_First Kills Per Round_A: 0.0001445781660044222\n",
      "R8_Special_Kills_A: 0.00013931164862159912\n",
      "duel_Average Combat Score_A: 0.0001307745160679941\n",
      "duel_First Deaths Per Round_B: 0.00010808438241857596\n",
      "R9_lo_B: 9.913588196253113e-05\n",
      "init_First Kills Per Round_A: 8.678417977186234e-05\n",
      "init_Assists Per Round_A: 8.16647714158863e-05\n",
      "init_Rating_B: 7.390048412477681e-05\n",
      "R4_lo_B: 6.752448375143104e-05\n",
      "duel_Kill, Assist, Trade, Survive %_A: 6.606735214458621e-05\n",
      "duel_Average Damage Per Round_A: 6.349299751006617e-05\n",
      "init_First Deaths Per Round_A: 6.331604239984117e-05\n",
      "duel_Rating_A: 5.37745090643837e-05\n",
      "R2_Special_Kills_B: 5.18482197651272e-05\n",
      "R1_Special_Kills_A: 4.720257611103368e-05\n",
      "duel_Average Damage Per Round_B: 4.355552501150871e-05\n",
      "sent_Assists Per Round_A: 4.216007006085738e-05\n",
      "duel_Kill, Assist, Trade, Survive %_B: 4.194488436192945e-05\n",
      "R5_Special_Kills_A: 3.965273503020266e-05\n",
      "duel_Kills Per Round_B: 3.385759864347715e-05\n",
      "sent_Kills Per Round_A: 3.243235500742984e-05\n",
      "R2_Special_Kills_A: 2.8522673310916918e-05\n",
      "init_Rating_A: 2.735677482745813e-05\n",
      "sent_Average Damage Per Round_A: 2.6470713264862523e-05\n",
      "sent_Assists Per Round_B: 2.5800935562185137e-05\n",
      "R9_Special_Kills_A: 2.5584410868414433e-05\n",
      "R9_Special_Kills_B: 2.4911970290854657e-05\n",
      "R10_Special_Kills_B: 2.4440026923756257e-05\n",
      "sent_First Kills Per Round_B: 2.2577177253489234e-05\n",
      "init_Average Combat Score_A: 2.131090018710234e-05\n",
      "R7_lo_A: 1.7639384393835953e-05\n",
      "Kill, Assist, Trade, Survive %_B: 1.69527287838795e-05\n",
      "R10_lo_B: 1.6485656822692317e-05\n",
      "duel_Average Combat Score_B: 1.6367059489016453e-05\n",
      "cont_Kill, Assist, Trade, Survive %_A: 1.402472459637446e-05\n",
      "init_Headshot %_B: 1.2625466584198271e-05\n",
      "sent_Clutch Success %_A: 1.260648758932857e-05\n",
      "R10_lo_A: 1.1970773615361594e-05\n",
      "R11_Special_Kills_A: 1.1947883557113034e-05\n",
      "sent_Average Combat Score_B: 9.847978645670054e-06\n",
      "R11_lo_B: 7.651550346664811e-06\n",
      "init_Clutch Success %_B: 7.00724059167529e-06\n",
      "R13_Special_Kills_B: 4.622265200761937e-06\n",
      "R5_lo_A: 4.01882944687812e-06\n",
      "duel_Clutch Success %_B: 3.946495530599833e-06\n",
      "First Kills Per Round_A: 3.918019431063704e-06\n",
      "R5_Special_Kills_B: 3.889340123233109e-06\n",
      "First Kills Per Round_B: 3.6533491860477898e-06\n",
      "sent_Kills Per Round_B: 3.5307874137519e-06\n",
      "sent_Rating_B: 2.9361324687226828e-06\n",
      "duel_Assists Per Round_B: 2.7046280621174626e-06\n",
      "sent_Headshot %_A: 2.0290175719518802e-06\n",
      "init_First Deaths Per Round_B: 1.8355422121862986e-06\n",
      "duel_Headshot %_B: 1.5517599021232843e-06\n",
      "R10_Special_Kills_A: 1.4198856561918945e-06\n",
      "R1_Special_Kills_B: 1.3639535719059795e-06\n",
      "cont_A: 1.1271488080570824e-06\n",
      "First Deaths Per Round_B: 8.27680141504892e-07\n",
      "duel_First Deaths Per Round_A: 7.148687561788792e-07\n",
      "R1_lo_B: 7.010068982616336e-07\n",
      "R3_Special_Kills_B: 6.92249886144861e-07\n",
      "cont_Average Damage Per Round_B: 5.616800574871077e-07\n",
      "cont_B: 4.084047946414e-07\n",
      "R12_lo_B: 2.2694356451947594e-07\n",
      "R13_Special_Kills_A: 2.0640435200423893e-07\n",
      "R8_lo_B: 1.8457032449012654e-07\n",
      "cont_First Kills Per Round_A: 1.468832995464726e-07\n",
      "sent_First Deaths Per Round_A: 1.3094444996076432e-07\n",
      "init_First Kills Per Round_B: 1.1150915642824475e-07\n",
      "init_Headshot %_A: 6.792391306289301e-08\n",
      "R11_Special_Kills_B: 6.325419488527482e-08\n",
      "cont_First Kills Per Round_B: 6.240375963573773e-08\n",
      "sent_Clutch Success %_B: 4.402844605030019e-08\n",
      "sent_Headshot %_B: 3.2599431656175005e-08\n",
      "cont_Headshot %_B: 1.616210853372191e-08\n",
      "First Deaths Per Round_A: 7.556963826050218e-09\n",
      "R4_Special_Kills_B: 6.9679740600196064e-09\n",
      "duel_A: 6.410176664477226e-09\n",
      "R6_Special_Kills_A: 2.918004186020775e-09\n",
      "R7_Special_Kills_A: 2.5195548668458847e-09\n",
      "cont_First Deaths Per Round_B: 2.019349351513189e-09\n",
      "sent_Kill, Assist, Trade, Survive %_B: 1.790325533141885e-09\n",
      "R6_lo_A: 1.1579685814334928e-09\n",
      "R13_lo_A: 2.5879651259028397e-10\n",
      "duel_Clutch Success %_A: 5.818355052823715e-12\n",
      "sent_A: 5.658540216844793e-13\n",
      "init_A: 0.0\n",
      "R3_Special_Kills_A: 0.0\n",
      "R1_lo_A: 0.0\n",
      "duel_B: 0.0\n",
      "sent_B: 0.0\n",
      "R7_Special_Kills_B: 0.0\n",
      "R7_lo_B: 0.0\n"
     ]
    }
   ],
   "source": [
    "feature_names = train_input.keys()\n",
    "gbc_feature_importances = gbc.feature_importances_\n",
    "\n",
    "gbc_feature_importance_dict = dict(zip(feature_names, gbc_feature_importances))\n",
    "gbc_sorted_features = sorted(gbc_feature_importance_dict.items(), key=lambda x: x[1], reverse=True)\n",
    "\n",
    "for feature, importance in gbc_sorted_features:\n",
    "    print(f\"{feature}: {importance}\")"
   ]
  },
  {
   "cell_type": "code",
   "execution_count": 16,
   "metadata": {},
   "outputs": [
    {
     "data": {
      "text/plain": [
       "Index(['Rating_A', 'Average Combat Score_A',\n",
       "       'Kill, Assist, Trade, Survive %_A', 'Average Damage Per Round_A',\n",
       "       'Kills Per Round_A', 'Assists Per Round_A', 'First Kills Per Round_A',\n",
       "       'First Deaths Per Round_A', 'Headshot %_A', 'Clutch Success %_A',\n",
       "       ...\n",
       "       'R4_lo_B', 'R5_lo_B', 'R6_lo_B', 'R7_lo_B', 'R8_lo_B', 'R9_lo_B',\n",
       "       'R10_lo_B', 'R11_lo_B', 'R12_lo_B', 'R13_lo_B'],\n",
       "      dtype='object', length=164)"
      ]
     },
     "execution_count": 16,
     "metadata": {},
     "output_type": "execute_result"
    }
   ],
   "source": [
    "train_input.keys()"
   ]
  },
  {
   "cell_type": "code",
   "execution_count": null,
   "metadata": {},
   "outputs": [],
   "source": [
    "main_features = []"
   ]
  },
  {
   "cell_type": "code",
   "execution_count": 21,
   "metadata": {},
   "outputs": [],
   "source": [
    "X_train = train_input[[\"Rating_A\", \"Rating_B\", \"eco_rating_A\", \"eco_rating_B\", \"Kills Per Round_A\", \"Kills Per Round_B\"]]\n",
    "X_test = test_input[[\"Rating_A\", \"Rating_B\", \"eco_rating_A\", \"eco_rating_B\", \"Kills Per Round_A\", \"Kills Per Round_B\"]]\n",
    "\n",
    "y_train = train_data[\"Team_A_win\"]\n",
    "y_test = test_data[\"Team_A_win\"]"
   ]
  },
  {
   "cell_type": "code",
   "execution_count": 30,
   "metadata": {},
   "outputs": [
    {
     "data": {
      "text/plain": [
       "0.6309523809523809"
      ]
     },
     "execution_count": 30,
     "metadata": {},
     "output_type": "execute_result"
    }
   ],
   "source": [
    "small_gbc = GradientBoostingClassifier(n_estimators=3000)\n",
    "\n",
    "small_gbc.fit(X_train, y_train)\n",
    "small_gbc_pred = small_gbc.predict(X_test)\n",
    "small_gbc_acc = accuracy_score(y_test, small_gbc_pred)\n",
    "\n",
    "small_gbc_acc"
   ]
  },
  {
   "cell_type": "code",
   "execution_count": 14,
   "metadata": {},
   "outputs": [
    {
     "ename": "ValueError",
     "evalue": "Stop running here!",
     "output_type": "error",
     "traceback": [
      "\u001b[0;31m---------------------------------------------------------------------------\u001b[0m",
      "\u001b[0;31mValueError\u001b[0m                                Traceback (most recent call last)",
      "Cell \u001b[0;32mIn[14], line 1\u001b[0m\n\u001b[0;32m----> 1\u001b[0m \u001b[39mraise\u001b[39;00m \u001b[39mValueError\u001b[39;00m(\u001b[39m\"\u001b[39m\u001b[39mStop running here!\u001b[39m\u001b[39m\"\u001b[39m)\n",
      "\u001b[0;31mValueError\u001b[0m: Stop running here!"
     ]
    }
   ],
   "source": [
    "raise ValueError(\"Stop running here!\")"
   ]
  },
  {
   "cell_type": "code",
   "execution_count": null,
   "metadata": {},
   "outputs": [
    {
     "ename": "KeyboardInterrupt",
     "evalue": "",
     "output_type": "error",
     "traceback": [
      "\u001b[0;31m---------------------------------------------------------------------------\u001b[0m",
      "\u001b[0;31mKeyboardInterrupt\u001b[0m                         Traceback (most recent call last)",
      "Cell \u001b[0;32mIn[21], line 15\u001b[0m\n\u001b[1;32m     12\u001b[0m grid_search \u001b[39m=\u001b[39m GridSearchCV(estimator\u001b[39m=\u001b[39mclf, param_grid\u001b[39m=\u001b[39mparam_grid, cv\u001b[39m=\u001b[39m\u001b[39mNone\u001b[39;00m)\n\u001b[1;32m     14\u001b[0m \u001b[39m# Perform Grid Search\u001b[39;00m\n\u001b[0;32m---> 15\u001b[0m grid_search\u001b[39m.\u001b[39;49mfit(train_input, train_target)\n\u001b[1;32m     17\u001b[0m \u001b[39m# Print the best hyperparameters\u001b[39;00m\n\u001b[1;32m     18\u001b[0m \u001b[39mprint\u001b[39m(\u001b[39m\"\u001b[39m\u001b[39mBest Parameters:\u001b[39m\u001b[39m\"\u001b[39m, grid_search\u001b[39m.\u001b[39mbest_params_)\n",
      "File \u001b[0;32m~/miniforge3/envs/vct/lib/python3.10/site-packages/sklearn/base.py:1474\u001b[0m, in \u001b[0;36m_fit_context.<locals>.decorator.<locals>.wrapper\u001b[0;34m(estimator, *args, **kwargs)\u001b[0m\n\u001b[1;32m   1467\u001b[0m     estimator\u001b[39m.\u001b[39m_validate_params()\n\u001b[1;32m   1469\u001b[0m \u001b[39mwith\u001b[39;00m config_context(\n\u001b[1;32m   1470\u001b[0m     skip_parameter_validation\u001b[39m=\u001b[39m(\n\u001b[1;32m   1471\u001b[0m         prefer_skip_nested_validation \u001b[39mor\u001b[39;00m global_skip_validation\n\u001b[1;32m   1472\u001b[0m     )\n\u001b[1;32m   1473\u001b[0m ):\n\u001b[0;32m-> 1474\u001b[0m     \u001b[39mreturn\u001b[39;00m fit_method(estimator, \u001b[39m*\u001b[39;49margs, \u001b[39m*\u001b[39;49m\u001b[39m*\u001b[39;49mkwargs)\n",
      "File \u001b[0;32m~/miniforge3/envs/vct/lib/python3.10/site-packages/sklearn/model_selection/_search.py:970\u001b[0m, in \u001b[0;36mBaseSearchCV.fit\u001b[0;34m(self, X, y, **params)\u001b[0m\n\u001b[1;32m    964\u001b[0m     results \u001b[39m=\u001b[39m \u001b[39mself\u001b[39m\u001b[39m.\u001b[39m_format_results(\n\u001b[1;32m    965\u001b[0m         all_candidate_params, n_splits, all_out, all_more_results\n\u001b[1;32m    966\u001b[0m     )\n\u001b[1;32m    968\u001b[0m     \u001b[39mreturn\u001b[39;00m results\n\u001b[0;32m--> 970\u001b[0m \u001b[39mself\u001b[39;49m\u001b[39m.\u001b[39;49m_run_search(evaluate_candidates)\n\u001b[1;32m    972\u001b[0m \u001b[39m# multimetric is determined here because in the case of a callable\u001b[39;00m\n\u001b[1;32m    973\u001b[0m \u001b[39m# self.scoring the return type is only known after calling\u001b[39;00m\n\u001b[1;32m    974\u001b[0m first_test_score \u001b[39m=\u001b[39m all_out[\u001b[39m0\u001b[39m][\u001b[39m\"\u001b[39m\u001b[39mtest_scores\u001b[39m\u001b[39m\"\u001b[39m]\n",
      "File \u001b[0;32m~/miniforge3/envs/vct/lib/python3.10/site-packages/sklearn/model_selection/_search.py:1527\u001b[0m, in \u001b[0;36mGridSearchCV._run_search\u001b[0;34m(self, evaluate_candidates)\u001b[0m\n\u001b[1;32m   1525\u001b[0m \u001b[39mdef\u001b[39;00m \u001b[39m_run_search\u001b[39m(\u001b[39mself\u001b[39m, evaluate_candidates):\n\u001b[1;32m   1526\u001b[0m \u001b[39m    \u001b[39m\u001b[39m\"\"\"Search all candidates in param_grid\"\"\"\u001b[39;00m\n\u001b[0;32m-> 1527\u001b[0m     evaluate_candidates(ParameterGrid(\u001b[39mself\u001b[39;49m\u001b[39m.\u001b[39;49mparam_grid))\n",
      "File \u001b[0;32m~/miniforge3/envs/vct/lib/python3.10/site-packages/sklearn/model_selection/_search.py:916\u001b[0m, in \u001b[0;36mBaseSearchCV.fit.<locals>.evaluate_candidates\u001b[0;34m(candidate_params, cv, more_results)\u001b[0m\n\u001b[1;32m    908\u001b[0m \u001b[39mif\u001b[39;00m \u001b[39mself\u001b[39m\u001b[39m.\u001b[39mverbose \u001b[39m>\u001b[39m \u001b[39m0\u001b[39m:\n\u001b[1;32m    909\u001b[0m     \u001b[39mprint\u001b[39m(\n\u001b[1;32m    910\u001b[0m         \u001b[39m\"\u001b[39m\u001b[39mFitting \u001b[39m\u001b[39m{0}\u001b[39;00m\u001b[39m folds for each of \u001b[39m\u001b[39m{1}\u001b[39;00m\u001b[39m candidates,\u001b[39m\u001b[39m\"\u001b[39m\n\u001b[1;32m    911\u001b[0m         \u001b[39m\"\u001b[39m\u001b[39m totalling \u001b[39m\u001b[39m{2}\u001b[39;00m\u001b[39m fits\u001b[39m\u001b[39m\"\u001b[39m\u001b[39m.\u001b[39mformat(\n\u001b[1;32m    912\u001b[0m             n_splits, n_candidates, n_candidates \u001b[39m*\u001b[39m n_splits\n\u001b[1;32m    913\u001b[0m         )\n\u001b[1;32m    914\u001b[0m     )\n\u001b[0;32m--> 916\u001b[0m out \u001b[39m=\u001b[39m parallel(\n\u001b[1;32m    917\u001b[0m     delayed(_fit_and_score)(\n\u001b[1;32m    918\u001b[0m         clone(base_estimator),\n\u001b[1;32m    919\u001b[0m         X,\n\u001b[1;32m    920\u001b[0m         y,\n\u001b[1;32m    921\u001b[0m         train\u001b[39m=\u001b[39;49mtrain,\n\u001b[1;32m    922\u001b[0m         test\u001b[39m=\u001b[39;49mtest,\n\u001b[1;32m    923\u001b[0m         parameters\u001b[39m=\u001b[39;49mparameters,\n\u001b[1;32m    924\u001b[0m         split_progress\u001b[39m=\u001b[39;49m(split_idx, n_splits),\n\u001b[1;32m    925\u001b[0m         candidate_progress\u001b[39m=\u001b[39;49m(cand_idx, n_candidates),\n\u001b[1;32m    926\u001b[0m         \u001b[39m*\u001b[39;49m\u001b[39m*\u001b[39;49mfit_and_score_kwargs,\n\u001b[1;32m    927\u001b[0m     )\n\u001b[1;32m    928\u001b[0m     \u001b[39mfor\u001b[39;49;00m (cand_idx, parameters), (split_idx, (train, test)) \u001b[39min\u001b[39;49;00m product(\n\u001b[1;32m    929\u001b[0m         \u001b[39menumerate\u001b[39;49m(candidate_params),\n\u001b[1;32m    930\u001b[0m         \u001b[39menumerate\u001b[39;49m(cv\u001b[39m.\u001b[39;49msplit(X, y, \u001b[39m*\u001b[39;49m\u001b[39m*\u001b[39;49mrouted_params\u001b[39m.\u001b[39;49msplitter\u001b[39m.\u001b[39;49msplit)),\n\u001b[1;32m    931\u001b[0m     )\n\u001b[1;32m    932\u001b[0m )\n\u001b[1;32m    934\u001b[0m \u001b[39mif\u001b[39;00m \u001b[39mlen\u001b[39m(out) \u001b[39m<\u001b[39m \u001b[39m1\u001b[39m:\n\u001b[1;32m    935\u001b[0m     \u001b[39mraise\u001b[39;00m \u001b[39mValueError\u001b[39;00m(\n\u001b[1;32m    936\u001b[0m         \u001b[39m\"\u001b[39m\u001b[39mNo fits were performed. \u001b[39m\u001b[39m\"\u001b[39m\n\u001b[1;32m    937\u001b[0m         \u001b[39m\"\u001b[39m\u001b[39mWas the CV iterator empty? \u001b[39m\u001b[39m\"\u001b[39m\n\u001b[1;32m    938\u001b[0m         \u001b[39m\"\u001b[39m\u001b[39mWere there no candidates?\u001b[39m\u001b[39m\"\u001b[39m\n\u001b[1;32m    939\u001b[0m     )\n",
      "File \u001b[0;32m~/miniforge3/envs/vct/lib/python3.10/site-packages/sklearn/utils/parallel.py:67\u001b[0m, in \u001b[0;36mParallel.__call__\u001b[0;34m(self, iterable)\u001b[0m\n\u001b[1;32m     62\u001b[0m config \u001b[39m=\u001b[39m get_config()\n\u001b[1;32m     63\u001b[0m iterable_with_config \u001b[39m=\u001b[39m (\n\u001b[1;32m     64\u001b[0m     (_with_config(delayed_func, config), args, kwargs)\n\u001b[1;32m     65\u001b[0m     \u001b[39mfor\u001b[39;00m delayed_func, args, kwargs \u001b[39min\u001b[39;00m iterable\n\u001b[1;32m     66\u001b[0m )\n\u001b[0;32m---> 67\u001b[0m \u001b[39mreturn\u001b[39;00m \u001b[39msuper\u001b[39;49m()\u001b[39m.\u001b[39;49m\u001b[39m__call__\u001b[39;49m(iterable_with_config)\n",
      "File \u001b[0;32m~/miniforge3/envs/vct/lib/python3.10/site-packages/joblib/parallel.py:1918\u001b[0m, in \u001b[0;36mParallel.__call__\u001b[0;34m(self, iterable)\u001b[0m\n\u001b[1;32m   1916\u001b[0m     output \u001b[39m=\u001b[39m \u001b[39mself\u001b[39m\u001b[39m.\u001b[39m_get_sequential_output(iterable)\n\u001b[1;32m   1917\u001b[0m     \u001b[39mnext\u001b[39m(output)\n\u001b[0;32m-> 1918\u001b[0m     \u001b[39mreturn\u001b[39;00m output \u001b[39mif\u001b[39;00m \u001b[39mself\u001b[39m\u001b[39m.\u001b[39mreturn_generator \u001b[39melse\u001b[39;00m \u001b[39mlist\u001b[39;49m(output)\n\u001b[1;32m   1920\u001b[0m \u001b[39m# Let's create an ID that uniquely identifies the current call. If the\u001b[39;00m\n\u001b[1;32m   1921\u001b[0m \u001b[39m# call is interrupted early and that the same instance is immediately\u001b[39;00m\n\u001b[1;32m   1922\u001b[0m \u001b[39m# re-used, this id will be used to prevent workers that were\u001b[39;00m\n\u001b[1;32m   1923\u001b[0m \u001b[39m# concurrently finalizing a task from the previous call to run the\u001b[39;00m\n\u001b[1;32m   1924\u001b[0m \u001b[39m# callback.\u001b[39;00m\n\u001b[1;32m   1925\u001b[0m \u001b[39mwith\u001b[39;00m \u001b[39mself\u001b[39m\u001b[39m.\u001b[39m_lock:\n",
      "File \u001b[0;32m~/miniforge3/envs/vct/lib/python3.10/site-packages/joblib/parallel.py:1847\u001b[0m, in \u001b[0;36mParallel._get_sequential_output\u001b[0;34m(self, iterable)\u001b[0m\n\u001b[1;32m   1845\u001b[0m \u001b[39mself\u001b[39m\u001b[39m.\u001b[39mn_dispatched_batches \u001b[39m+\u001b[39m\u001b[39m=\u001b[39m \u001b[39m1\u001b[39m\n\u001b[1;32m   1846\u001b[0m \u001b[39mself\u001b[39m\u001b[39m.\u001b[39mn_dispatched_tasks \u001b[39m+\u001b[39m\u001b[39m=\u001b[39m \u001b[39m1\u001b[39m\n\u001b[0;32m-> 1847\u001b[0m res \u001b[39m=\u001b[39m func(\u001b[39m*\u001b[39;49margs, \u001b[39m*\u001b[39;49m\u001b[39m*\u001b[39;49mkwargs)\n\u001b[1;32m   1848\u001b[0m \u001b[39mself\u001b[39m\u001b[39m.\u001b[39mn_completed_tasks \u001b[39m+\u001b[39m\u001b[39m=\u001b[39m \u001b[39m1\u001b[39m\n\u001b[1;32m   1849\u001b[0m \u001b[39mself\u001b[39m\u001b[39m.\u001b[39mprint_progress()\n",
      "File \u001b[0;32m~/miniforge3/envs/vct/lib/python3.10/site-packages/sklearn/utils/parallel.py:129\u001b[0m, in \u001b[0;36m_FuncWrapper.__call__\u001b[0;34m(self, *args, **kwargs)\u001b[0m\n\u001b[1;32m    127\u001b[0m     config \u001b[39m=\u001b[39m {}\n\u001b[1;32m    128\u001b[0m \u001b[39mwith\u001b[39;00m config_context(\u001b[39m*\u001b[39m\u001b[39m*\u001b[39mconfig):\n\u001b[0;32m--> 129\u001b[0m     \u001b[39mreturn\u001b[39;00m \u001b[39mself\u001b[39;49m\u001b[39m.\u001b[39;49mfunction(\u001b[39m*\u001b[39;49margs, \u001b[39m*\u001b[39;49m\u001b[39m*\u001b[39;49mkwargs)\n",
      "File \u001b[0;32m~/miniforge3/envs/vct/lib/python3.10/site-packages/sklearn/model_selection/_validation.py:895\u001b[0m, in \u001b[0;36m_fit_and_score\u001b[0;34m(estimator, X, y, scorer, train, test, verbose, parameters, fit_params, score_params, return_train_score, return_parameters, return_n_test_samples, return_times, return_estimator, split_progress, candidate_progress, error_score)\u001b[0m\n\u001b[1;32m    893\u001b[0m         estimator\u001b[39m.\u001b[39mfit(X_train, \u001b[39m*\u001b[39m\u001b[39m*\u001b[39mfit_params)\n\u001b[1;32m    894\u001b[0m     \u001b[39melse\u001b[39;00m:\n\u001b[0;32m--> 895\u001b[0m         estimator\u001b[39m.\u001b[39;49mfit(X_train, y_train, \u001b[39m*\u001b[39;49m\u001b[39m*\u001b[39;49mfit_params)\n\u001b[1;32m    897\u001b[0m \u001b[39mexcept\u001b[39;00m \u001b[39mException\u001b[39;00m:\n\u001b[1;32m    898\u001b[0m     \u001b[39m# Note fit time as time until error\u001b[39;00m\n\u001b[1;32m    899\u001b[0m     fit_time \u001b[39m=\u001b[39m time\u001b[39m.\u001b[39mtime() \u001b[39m-\u001b[39m start_time\n",
      "File \u001b[0;32m~/miniforge3/envs/vct/lib/python3.10/site-packages/sklearn/base.py:1474\u001b[0m, in \u001b[0;36m_fit_context.<locals>.decorator.<locals>.wrapper\u001b[0;34m(estimator, *args, **kwargs)\u001b[0m\n\u001b[1;32m   1467\u001b[0m     estimator\u001b[39m.\u001b[39m_validate_params()\n\u001b[1;32m   1469\u001b[0m \u001b[39mwith\u001b[39;00m config_context(\n\u001b[1;32m   1470\u001b[0m     skip_parameter_validation\u001b[39m=\u001b[39m(\n\u001b[1;32m   1471\u001b[0m         prefer_skip_nested_validation \u001b[39mor\u001b[39;00m global_skip_validation\n\u001b[1;32m   1472\u001b[0m     )\n\u001b[1;32m   1473\u001b[0m ):\n\u001b[0;32m-> 1474\u001b[0m     \u001b[39mreturn\u001b[39;00m fit_method(estimator, \u001b[39m*\u001b[39;49margs, \u001b[39m*\u001b[39;49m\u001b[39m*\u001b[39;49mkwargs)\n",
      "File \u001b[0;32m~/miniforge3/envs/vct/lib/python3.10/site-packages/sklearn/ensemble/_gb.py:784\u001b[0m, in \u001b[0;36mBaseGradientBoosting.fit\u001b[0;34m(self, X, y, sample_weight, monitor)\u001b[0m\n\u001b[1;32m    781\u001b[0m     \u001b[39mself\u001b[39m\u001b[39m.\u001b[39m_resize_state()\n\u001b[1;32m    783\u001b[0m \u001b[39m# fit the boosting stages\u001b[39;00m\n\u001b[0;32m--> 784\u001b[0m n_stages \u001b[39m=\u001b[39m \u001b[39mself\u001b[39;49m\u001b[39m.\u001b[39;49m_fit_stages(\n\u001b[1;32m    785\u001b[0m     X_train,\n\u001b[1;32m    786\u001b[0m     y_train,\n\u001b[1;32m    787\u001b[0m     raw_predictions,\n\u001b[1;32m    788\u001b[0m     sample_weight_train,\n\u001b[1;32m    789\u001b[0m     \u001b[39mself\u001b[39;49m\u001b[39m.\u001b[39;49m_rng,\n\u001b[1;32m    790\u001b[0m     X_val,\n\u001b[1;32m    791\u001b[0m     y_val,\n\u001b[1;32m    792\u001b[0m     sample_weight_val,\n\u001b[1;32m    793\u001b[0m     begin_at_stage,\n\u001b[1;32m    794\u001b[0m     monitor,\n\u001b[1;32m    795\u001b[0m )\n\u001b[1;32m    797\u001b[0m \u001b[39m# change shape of arrays after fit (early-stopping or additional ests)\u001b[39;00m\n\u001b[1;32m    798\u001b[0m \u001b[39mif\u001b[39;00m n_stages \u001b[39m!=\u001b[39m \u001b[39mself\u001b[39m\u001b[39m.\u001b[39mestimators_\u001b[39m.\u001b[39mshape[\u001b[39m0\u001b[39m]:\n",
      "File \u001b[0;32m~/miniforge3/envs/vct/lib/python3.10/site-packages/sklearn/ensemble/_gb.py:880\u001b[0m, in \u001b[0;36mBaseGradientBoosting._fit_stages\u001b[0;34m(self, X, y, raw_predictions, sample_weight, random_state, X_val, y_val, sample_weight_val, begin_at_stage, monitor)\u001b[0m\n\u001b[1;32m    873\u001b[0m         initial_loss \u001b[39m=\u001b[39m factor \u001b[39m*\u001b[39m \u001b[39mself\u001b[39m\u001b[39m.\u001b[39m_loss(\n\u001b[1;32m    874\u001b[0m             y_true\u001b[39m=\u001b[39my_oob_masked,\n\u001b[1;32m    875\u001b[0m             raw_prediction\u001b[39m=\u001b[39mraw_predictions[\u001b[39m~\u001b[39msample_mask],\n\u001b[1;32m    876\u001b[0m             sample_weight\u001b[39m=\u001b[39msample_weight_oob_masked,\n\u001b[1;32m    877\u001b[0m         )\n\u001b[1;32m    879\u001b[0m \u001b[39m# fit next stage of trees\u001b[39;00m\n\u001b[0;32m--> 880\u001b[0m raw_predictions \u001b[39m=\u001b[39m \u001b[39mself\u001b[39;49m\u001b[39m.\u001b[39;49m_fit_stage(\n\u001b[1;32m    881\u001b[0m     i,\n\u001b[1;32m    882\u001b[0m     X,\n\u001b[1;32m    883\u001b[0m     y,\n\u001b[1;32m    884\u001b[0m     raw_predictions,\n\u001b[1;32m    885\u001b[0m     sample_weight,\n\u001b[1;32m    886\u001b[0m     sample_mask,\n\u001b[1;32m    887\u001b[0m     random_state,\n\u001b[1;32m    888\u001b[0m     X_csc\u001b[39m=\u001b[39;49mX_csc,\n\u001b[1;32m    889\u001b[0m     X_csr\u001b[39m=\u001b[39;49mX_csr,\n\u001b[1;32m    890\u001b[0m )\n\u001b[1;32m    892\u001b[0m \u001b[39m# track loss\u001b[39;00m\n\u001b[1;32m    893\u001b[0m \u001b[39mif\u001b[39;00m do_oob:\n",
      "File \u001b[0;32m~/miniforge3/envs/vct/lib/python3.10/site-packages/sklearn/ensemble/_gb.py:490\u001b[0m, in \u001b[0;36mBaseGradientBoosting._fit_stage\u001b[0;34m(self, i, X, y, raw_predictions, sample_weight, sample_mask, random_state, X_csc, X_csr)\u001b[0m\n\u001b[1;32m    487\u001b[0m     sample_weight \u001b[39m=\u001b[39m sample_weight \u001b[39m*\u001b[39m sample_mask\u001b[39m.\u001b[39mastype(np\u001b[39m.\u001b[39mfloat64)\n\u001b[1;32m    489\u001b[0m X \u001b[39m=\u001b[39m X_csc \u001b[39mif\u001b[39;00m X_csc \u001b[39mis\u001b[39;00m \u001b[39mnot\u001b[39;00m \u001b[39mNone\u001b[39;00m \u001b[39melse\u001b[39;00m X\n\u001b[0;32m--> 490\u001b[0m tree\u001b[39m.\u001b[39;49mfit(\n\u001b[1;32m    491\u001b[0m     X, neg_g_view[:, k], sample_weight\u001b[39m=\u001b[39;49msample_weight, check_input\u001b[39m=\u001b[39;49m\u001b[39mFalse\u001b[39;49;00m\n\u001b[1;32m    492\u001b[0m )\n\u001b[1;32m    494\u001b[0m \u001b[39m# update tree leaves\u001b[39;00m\n\u001b[1;32m    495\u001b[0m X_for_tree_update \u001b[39m=\u001b[39m X_csr \u001b[39mif\u001b[39;00m X_csr \u001b[39mis\u001b[39;00m \u001b[39mnot\u001b[39;00m \u001b[39mNone\u001b[39;00m \u001b[39melse\u001b[39;00m X\n",
      "File \u001b[0;32m~/miniforge3/envs/vct/lib/python3.10/site-packages/sklearn/base.py:1474\u001b[0m, in \u001b[0;36m_fit_context.<locals>.decorator.<locals>.wrapper\u001b[0;34m(estimator, *args, **kwargs)\u001b[0m\n\u001b[1;32m   1467\u001b[0m     estimator\u001b[39m.\u001b[39m_validate_params()\n\u001b[1;32m   1469\u001b[0m \u001b[39mwith\u001b[39;00m config_context(\n\u001b[1;32m   1470\u001b[0m     skip_parameter_validation\u001b[39m=\u001b[39m(\n\u001b[1;32m   1471\u001b[0m         prefer_skip_nested_validation \u001b[39mor\u001b[39;00m global_skip_validation\n\u001b[1;32m   1472\u001b[0m     )\n\u001b[1;32m   1473\u001b[0m ):\n\u001b[0;32m-> 1474\u001b[0m     \u001b[39mreturn\u001b[39;00m fit_method(estimator, \u001b[39m*\u001b[39;49margs, \u001b[39m*\u001b[39;49m\u001b[39m*\u001b[39;49mkwargs)\n",
      "File \u001b[0;32m~/miniforge3/envs/vct/lib/python3.10/site-packages/sklearn/tree/_classes.py:1377\u001b[0m, in \u001b[0;36mDecisionTreeRegressor.fit\u001b[0;34m(self, X, y, sample_weight, check_input)\u001b[0m\n\u001b[1;32m   1347\u001b[0m \u001b[39m@_fit_context\u001b[39m(prefer_skip_nested_validation\u001b[39m=\u001b[39m\u001b[39mTrue\u001b[39;00m)\n\u001b[1;32m   1348\u001b[0m \u001b[39mdef\u001b[39;00m \u001b[39mfit\u001b[39m(\u001b[39mself\u001b[39m, X, y, sample_weight\u001b[39m=\u001b[39m\u001b[39mNone\u001b[39;00m, check_input\u001b[39m=\u001b[39m\u001b[39mTrue\u001b[39;00m):\n\u001b[1;32m   1349\u001b[0m \u001b[39m    \u001b[39m\u001b[39m\"\"\"Build a decision tree regressor from the training set (X, y).\u001b[39;00m\n\u001b[1;32m   1350\u001b[0m \n\u001b[1;32m   1351\u001b[0m \u001b[39m    Parameters\u001b[39;00m\n\u001b[0;32m   (...)\u001b[0m\n\u001b[1;32m   1374\u001b[0m \u001b[39m        Fitted estimator.\u001b[39;00m\n\u001b[1;32m   1375\u001b[0m \u001b[39m    \"\"\"\u001b[39;00m\n\u001b[0;32m-> 1377\u001b[0m     \u001b[39msuper\u001b[39;49m()\u001b[39m.\u001b[39;49m_fit(\n\u001b[1;32m   1378\u001b[0m         X,\n\u001b[1;32m   1379\u001b[0m         y,\n\u001b[1;32m   1380\u001b[0m         sample_weight\u001b[39m=\u001b[39;49msample_weight,\n\u001b[1;32m   1381\u001b[0m         check_input\u001b[39m=\u001b[39;49mcheck_input,\n\u001b[1;32m   1382\u001b[0m     )\n\u001b[1;32m   1383\u001b[0m     \u001b[39mreturn\u001b[39;00m \u001b[39mself\u001b[39m\n",
      "File \u001b[0;32m~/miniforge3/envs/vct/lib/python3.10/site-packages/sklearn/tree/_classes.py:472\u001b[0m, in \u001b[0;36mBaseDecisionTree._fit\u001b[0;34m(self, X, y, sample_weight, check_input, missing_values_in_feature_mask)\u001b[0m\n\u001b[1;32m    461\u001b[0m \u001b[39melse\u001b[39;00m:\n\u001b[1;32m    462\u001b[0m     builder \u001b[39m=\u001b[39m BestFirstTreeBuilder(\n\u001b[1;32m    463\u001b[0m         splitter,\n\u001b[1;32m    464\u001b[0m         min_samples_split,\n\u001b[0;32m   (...)\u001b[0m\n\u001b[1;32m    469\u001b[0m         \u001b[39mself\u001b[39m\u001b[39m.\u001b[39mmin_impurity_decrease,\n\u001b[1;32m    470\u001b[0m     )\n\u001b[0;32m--> 472\u001b[0m builder\u001b[39m.\u001b[39;49mbuild(\u001b[39mself\u001b[39;49m\u001b[39m.\u001b[39;49mtree_, X, y, sample_weight, missing_values_in_feature_mask)\n\u001b[1;32m    474\u001b[0m \u001b[39mif\u001b[39;00m \u001b[39mself\u001b[39m\u001b[39m.\u001b[39mn_outputs_ \u001b[39m==\u001b[39m \u001b[39m1\u001b[39m \u001b[39mand\u001b[39;00m is_classifier(\u001b[39mself\u001b[39m):\n\u001b[1;32m    475\u001b[0m     \u001b[39mself\u001b[39m\u001b[39m.\u001b[39mn_classes_ \u001b[39m=\u001b[39m \u001b[39mself\u001b[39m\u001b[39m.\u001b[39mn_classes_[\u001b[39m0\u001b[39m]\n",
      "\u001b[0;31mKeyboardInterrupt\u001b[0m: "
     ]
    }
   ],
   "source": [
    "# Define the Gradient Boosting Classifier\n",
    "clf = GradientBoostingClassifier()\n",
    "\n",
    "# Define the hyperparameters to tune\n",
    "param_grid = {\n",
    "    'n_estimators': [100, 200, 300],\n",
    "    'learning_rate': [0.01, 0.1, 0.2],\n",
    "    'max_depth': [1, 2]\n",
    "}\n",
    "\n",
    "# Initialize GridSearchCV\n",
    "grid_search = GridSearchCV(estimator=clf, param_grid=param_grid, cv=None)\n",
    "\n",
    "# Perform Grid Search\n",
    "grid_search.fit(train_input, train_target)\n",
    "\n",
    "# Print the best hyperparameters\n",
    "print(\"Best Parameters:\", grid_search.best_params_)\n",
    "\n",
    "# Evaluate the model on the test set\n",
    "best_clf = grid_search.best_estimator_\n",
    "test_score = best_clf.score(test_input, test_target)\n",
    "print(\"Test Accuracy:\", test_score)"
   ]
  },
  {
   "cell_type": "code",
   "execution_count": null,
   "metadata": {},
   "outputs": [],
   "source": []
  }
 ],
 "metadata": {
  "kernelspec": {
   "display_name": "vct",
   "language": "python",
   "name": "python3"
  },
  "language_info": {
   "codemirror_mode": {
    "name": "ipython",
    "version": 3
   },
   "file_extension": ".py",
   "mimetype": "text/x-python",
   "name": "python",
   "nbconvert_exporter": "python",
   "pygments_lexer": "ipython3",
   "version": "3.10.13"
  },
  "orig_nbformat": 4,
  "vscode": {
   "interpreter": {
    "hash": "dff9a28c025b256e3dd07773b16d01fc7f1d9c1504d50adf5be320b8d91345d8"
   }
  }
 },
 "nbformat": 4,
 "nbformat_minor": 2
}
