{
 "cells": [
  {
   "cell_type": "code",
   "execution_count": null,
   "metadata": {},
   "outputs": [],
   "source": [
    "import pandas as pd\n",
    "import numpy as np\n",
    "import matplotlib.pyplot as plt\n",
    "import seaborn as sns\n",
    "sns.set_style(\"whitegrid\")\n",
    "plt_kwargs = {'figsize': (10, 4)}"
   ]
  },
  {
   "cell_type": "code",
   "execution_count": null,
   "metadata": {},
   "outputs": [],
   "source": [
    "eco_rounds = pd.read_csv(\"../../data/vct_2021/matches/eco_rounds.csv\")\n",
    "eco_stats = pd.read_csv(\"../../data/vct_2021/matches/eco_stats.csv\")"
   ]
  },
  {
   "cell_type": "code",
   "execution_count": null,
   "metadata": {},
   "outputs": [],
   "source": [
    "eco_rounds.head(5)"
   ]
  },
  {
   "cell_type": "code",
   "execution_count": null,
   "metadata": {},
   "outputs": [],
   "source": [
    "#print(eco_rounds.Stage)\n",
    "df = eco_rounds.loc[(eco_rounds[\"Stage\"]==\"Group Stage\")& (eco_rounds[\"Tournament\"]==\"Valorant Champions 2021\")&(eco_rounds[\"Map\"]==\"Fracture\")]\n",
    "#df = eco_rounds.loc[ (eco_rounds[\"Tournament\"]==\"Valorant Champions 2021\")]\n",
    "df2 = eco_rounds.copy()\n",
    "print(len(eco_rounds))\n",
    "print(len(df))\n",
    "print(len(df2))\n",
    "#print(spEco)"
   ]
  },
  {
   "cell_type": "code",
   "execution_count": null,
   "metadata": {},
   "outputs": [],
   "source": [
    "eco_rounds[\"Type\"].value_counts().plot.bar(title=\"Round Types\", **plt_kwargs)"
   ]
  },
  {
   "cell_type": "code",
   "execution_count": null,
   "metadata": {},
   "outputs": [],
   "source": [
    "def convert_to_int(word:str)->float:\n",
    "    return float(word.replace(\"k\", \"\"))\n",
    "\n",
    "def convert_to_binary(word:str)-> float:\n",
    "    if word==\"Win\":\n",
    "        return 1\n",
    "    else:\n",
    "        return 0\n",
    "\n",
    "#convert_to_int(df[ \"Loadout Value\"][3])\n",
    "\n",
    "df[\"Loadout Value\"]=df[\"Loadout Value\"].apply(convert_to_int)\n",
    "df[\"Remaining Credits\"]=df[\"Remaining Credits\"].apply(convert_to_int)\n",
    "df[\"Binary Outcome\"]=df[\"Outcome\"].apply(convert_to_binary)\n",
    "df2[\"Loadout Value\"]=df2[\"Loadout Value\"].apply(convert_to_int)\n",
    "df2[\"Remaining Credits\"]=df2[\"Remaining Credits\"].apply(convert_to_int)\n",
    "df2[\"Binary Outcome\"]=df2[\"Outcome\"].apply(convert_to_binary)\n",
    "df.head()"
   ]
  },
  {
   "cell_type": "code",
   "execution_count": null,
   "metadata": {},
   "outputs": [],
   "source": [
    "df2.loc[df2[\"Outcome\"]==\"Win\"]"
   ]
  },
  {
   "cell_type": "code",
   "execution_count": null,
   "metadata": {},
   "outputs": [],
   "source": [
    "df_win = df.loc[df[\"Outcome\"]==\"Win\"]\n",
    "df_loss = df.loc[df[\"Outcome\"]==\"Loss\"]\n",
    "fig = plt.figure(figsize=(10, 5))\n",
    "#sns.kdeplot(df2['Loadout Value'].rename('Credits Spent'))\n",
    "sns.kdeplot(df_win['Loadout Value'])\n",
    "sns.kdeplot(df_loss['Loadout Value'])\n",
    "plt.suptitle(\"Team Round Spend Values\")"
   ]
  },
  {
   "cell_type": "markdown",
   "metadata": {},
   "source": [
    "Loadout Difference\n"
   ]
  },
  {
   "cell_type": "code",
   "execution_count": null,
   "metadata": {},
   "outputs": [],
   "source": [
    "df[\"Loadout Difference\"] = df[\"Loadout Value\"]\n",
    "df[\"Enemy Loadout Value\"] = df[\"Loadout Value\"]\n",
    "\n",
    "for i in df.index:\n",
    "    if i%2==0:\n",
    "        df[\"Enemy Loadout Value\"][i] = df[\"Loadout Value\"][i+1]\n",
    "        df[\"Loadout Difference\"][i] = df[\"Loadout Value\"][i]-df[\"Loadout Value\"][i+1]\n",
    "    else:\n",
    "        df[\"Enemy Loadout Value\"][i] = df[\"Loadout Value\"][i-1]\n",
    "        df[\"Loadout Difference\"][i] = df[\"Loadout Value\"][i]-df[\"Loadout Value\"][i-1]\n",
    "\n",
    "df2[\"Loadout Difference\"] = df2[\"Loadout Value\"]\n",
    "df2[\"Enemy Loadout Value\"] = df2[\"Loadout Value\"]\n",
    "\n",
    "for i in df2.index:\n",
    "    if i%2==0:\n",
    "        df2[\"Enemy Loadout Value\"][i] = df2[\"Loadout Value\"][i+1]\n",
    "        df2[\"Loadout Difference\"][i] = df2[\"Loadout Value\"][i]-df2[\"Loadout Value\"][i+1]\n",
    "    else:\n",
    "        df2[\"Enemy Loadout Value\"][i] = df2[\"Loadout Value\"][i-1]\n",
    "        df2[\"Loadout Difference\"][i] = df2[\"Loadout Value\"][i]-df2[\"Loadout Value\"][i-1]\n"
   ]
  },
  {
   "cell_type": "code",
   "execution_count": null,
   "metadata": {},
   "outputs": [],
   "source": [
    "df2_win = df2.loc[df2[\"Outcome\"]==\"Win\"]\n",
    "df2_loss = df2.loc[df2[\"Outcome\"]==\"Loss\"]\n",
    "df2_win_fracture = df2.loc[(df2[\"Outcome\"]==\"Win\") & (df2[\"Map\"]== \"Fracture\")]\n",
    "fig = plt.figure(figsize=(10, 5))\n",
    "#sns.kdeplot(df['Loadout Difference'].rename('Credits Spent'))\n",
    "sns.kdeplot(df2_win['Loadout Difference'])\n",
    "#sns.kdeplot(df_loss['Loadout Difference'])\n",
    "#sns.kdeplot(df_win_fracture['Loadout Difference'])\n",
    "plt.suptitle(\"Team Round Spend Values\")"
   ]
  },
  {
   "cell_type": "code",
   "execution_count": null,
   "metadata": {},
   "outputs": [],
   "source": [
    "df.groupby([\"Outcome\"]).mean(\"Loadout value\")"
   ]
  },
  {
   "cell_type": "code",
   "execution_count": null,
   "metadata": {},
   "outputs": [],
   "source": [
    "df.groupby([ \"Map\", \"Outcome\"]).mean(\"Loadout value\")"
   ]
  },
  {
   "cell_type": "code",
   "execution_count": null,
   "metadata": {},
   "outputs": [],
   "source": [
    "df2.groupby([ \"Type\", \"Outcome\"]).mean(\"Loadout value\")"
   ]
  },
  {
   "cell_type": "code",
   "execution_count": null,
   "metadata": {},
   "outputs": [],
   "source": [
    "%matplotlib inline\n",
    "pd.crosstab(df.Stage,df.Map).plot(kind='bar')\n",
    "plt.title('Number of rounds played in each round and map')\n",
    "plt.xlabel('Stage')\n",
    "plt.ylabel('No of rounds')\n",
    "#plt.savefig('fig1')"
   ]
  },
  {
   "cell_type": "code",
   "execution_count": null,
   "metadata": {},
   "outputs": [],
   "source": [
    "%matplotlib inline\n",
    "pd.crosstab(df2.Type,df2.Outcome).plot(kind='bar')\n",
    "plt.title('Number of rounds played in each round and map')\n",
    "plt.xlabel('Stage')\n",
    "plt.ylabel('No of rounds')\n",
    "#plt.savefig('fig1')"
   ]
  },
  {
   "cell_type": "code",
   "execution_count": null,
   "metadata": {},
   "outputs": [],
   "source": [
    "table=pd.crosstab(df2.Type,df2.Outcome)\n",
    "table.div(table.sum(1).astype(float), axis=0).plot(kind='bar', stacked=True)\n",
    "plt.title('Stacked Bar Chart of Marital Status vs Purchase')\n",
    "plt.xlabel('Marital Status')\n",
    "plt.ylabel('Proportion of Wins')\n",
    "#plt.savefig('fig2')"
   ]
  },
  {
   "cell_type": "code",
   "execution_count": null,
   "metadata": {},
   "outputs": [],
   "source": [
    "from sklearn.linear_model import LogisticRegression\n",
    "from sklearn import metrics\n",
    "from sklearn.model_selection import train_test_split\n",
    "X_train, X_test, y_train, y_test = train_test_split(df[[\"Loadout Difference\"]], df[\"Binary Outcome\"], test_size=0.3, random_state=0)\n",
    "logreg1 = LogisticRegression()\n",
    "logreg1.fit(X_train, y_train)\n",
    "\n",
    "\n",
    "X2_train, X2_test, y2_train, y2_test = train_test_split(df[[\"Loadout Value\", \"Enemy Loadout Value\"]], df[\"Binary Outcome\"], test_size=0.3, random_state=0)\n",
    "logreg2 = LogisticRegression()\n",
    "logreg2.fit(X2_train, y2_train)\n",
    "#logreg.fit(df[[\"Loadout Difference\"]], df[\"Binary Outcome\"])\n",
    "\n",
    "\n"
   ]
  },
  {
   "cell_type": "code",
   "execution_count": null,
   "metadata": {},
   "outputs": [],
   "source": [
    "test = np.array([[1000], [2000], [0], [-1000], [-1], [1]]) \n",
    "test1 = np.array([[1000, 0], [4000, 2000], [0, 0], [800, 2000], [1, 0], [2, 3]]) \n",
    "y_pred = logreg1.predict(test)\n",
    "y1_pred = logreg2.predict(test1)\n",
    "print('Accuracy of logistic regression classifier on test set: {:.2f}'.format(logreg1.score(X_test, y_test)))\n",
    "print('Accuracy of logistic regression classifier on test set: {:.2f}'.format(logreg2.score(X2_test, y2_test)))\n",
    "print(y_pred)\n",
    "print(y1_pred)\n",
    "print(len(df_win)/len(df))\n",
    "print(y_pred.mean())\n",
    "print(y1_pred.mean())\n",
    "#df[[\"Loadout Difference\"]]"
   ]
  },
  {
   "cell_type": "markdown",
   "metadata": {},
   "source": [
    "Idea: \n",
    "1. Probability Distribution wrt Loadout Difference\n",
    "2. Probability Distribution wrt MyLoadout and Enemy Loadout\n",
    "3. Probability Distribution wrt Loadout Difference of previous rounds and results"
   ]
  }
 ],
 "metadata": {
  "kernelspec": {
   "display_name": "base",
   "language": "python",
   "name": "python3"
  },
  "language_info": {
   "codemirror_mode": {
    "name": "ipython",
    "version": 3
   },
   "file_extension": ".py",
   "mimetype": "text/x-python",
   "name": "python",
   "nbconvert_exporter": "python",
   "pygments_lexer": "ipython3",
   "version": "3.11.5"
  }
 },
 "nbformat": 4,
 "nbformat_minor": 2
}
