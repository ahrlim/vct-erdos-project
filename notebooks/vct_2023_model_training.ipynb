{
 "cells": [
  {
   "cell_type": "code",
   "execution_count": 36,
   "metadata": {},
   "outputs": [],
   "source": [
    "import pandas as pd\n",
    "import numpy as np"
   ]
  },
  {
   "cell_type": "code",
   "execution_count": 37,
   "metadata": {},
   "outputs": [],
   "source": [
    "train_data = pd.read_csv(\"../data/vct_2023/processed_data/AvsB_train_data_players_stats_eco_SK_rounds.csv\")\n",
    "test_data = pd.read_csv(\"../data/vct_2023/processed_data/AvsB_test_data_players_stats_eco_SK_rounds.csv\")"
   ]
  },
  {
   "cell_type": "code",
   "execution_count": 39,
   "metadata": {},
   "outputs": [],
   "source": [
    "game_id_columns = [\"Tournament\", \"Stage\", \"Match Type\", \"Match Name\", \"Team_A\", \"Team_B\"]\n",
    "map_composition = [\"Map\", \"Composition_A\", \"Composition_B\"]\n",
    "outcome_columns = [\"Team_A_score_diff\", \"Team_B_score_diff\", \"Team_A_win\", \"Team_B_win\"]"
   ]
  },
  {
   "cell_type": "code",
   "execution_count": 52,
   "metadata": {},
   "outputs": [],
   "source": [
    "train_input = train_data.drop(game_id_columns+map_composition+outcome_columns, axis=1)\n",
    "train_target_A = train_data[\"Team_A_win\"]\n",
    "train_target_B = train_data[\"Team_B_win\"]\n",
    "\n",
    "test_input = test_data.drop(game_id_columns+map_composition+outcome_columns, axis=1)\n",
    "test_target_A = test_data[\"Team_A_win\"]\n",
    "test_target_B = test_data[\"Team_B_win\"]"
   ]
  },
  {
   "cell_type": "code",
   "execution_count": 41,
   "metadata": {},
   "outputs": [
    {
     "data": {
      "text/plain": [
       "(746, 164)"
      ]
     },
     "execution_count": 41,
     "metadata": {},
     "output_type": "execute_result"
    }
   ],
   "source": [
    "train_input.shape"
   ]
  },
  {
   "cell_type": "code",
   "execution_count": 42,
   "metadata": {},
   "outputs": [
    {
     "data": {
      "text/plain": [
       "(84, 164)"
      ]
     },
     "execution_count": 42,
     "metadata": {},
     "output_type": "execute_result"
    }
   ],
   "source": [
    "test_input.shape"
   ]
  },
  {
   "cell_type": "code",
   "execution_count": 53,
   "metadata": {},
   "outputs": [],
   "source": [
    "assert len(train_input.keys()) == len(test_input.keys()), \"The number of train and test input are different.\"\n",
    "assert set(train_input.keys()) == set(test_input.keys()), \"Train and test have different input feature.\"\n",
    "assert len(train_input) == len(train_target_B), \"Train input and target sizes are different.\"\n",
    "assert len(test_input) == len(test_target_B), \"Test input and target sizes are different.\""
   ]
  },
  {
   "cell_type": "code",
   "execution_count": 48,
   "metadata": {},
   "outputs": [],
   "source": [
    "# Check if input has non numeric features.\n",
    "\n",
    "from pandas.api.types import is_numeric_dtype\n",
    "\n",
    "for key in train_input.keys():\n",
    "    if not is_numeric_dtype(train_input[key]):\n",
    "        print(key, \"is not numeric.\")"
   ]
  },
  {
   "cell_type": "code",
   "execution_count": 50,
   "metadata": {},
   "outputs": [
    {
     "data": {
      "text/plain": [
       "0.6428571428571429"
      ]
     },
     "execution_count": 50,
     "metadata": {},
     "output_type": "execute_result"
    }
   ],
   "source": [
    "from sklearn.metrics import mean_squared_error, accuracy_score\n",
    "from sklearn.model_selection import train_test_split, GridSearchCV\n",
    "from sklearn.ensemble import GradientBoostingClassifier\n"
   ]
  },
  {
   "attachments": {},
   "cell_type": "markdown",
   "metadata": {},
   "source": [
    "*Train two GradientBoostingClassifiers:*\n",
    "\n",
    "- Both have the same train input, but one predicts \"Team_A_win\" and the other predicts \"Team_B_win\"\n",
    "- Two models have almost the same performance.\n",
    "- Feature importances are not exactly the same, but the top most importance features are the same."
   ]
  },
  {
   "cell_type": "code",
   "execution_count": 54,
   "metadata": {},
   "outputs": [
    {
     "name": "stdout",
     "output_type": "stream",
     "text": [
      "predicting Team A win accuracy: 0.6309523809523809\n"
     ]
    }
   ],
   "source": [
    "gbcA = GradientBoostingClassifier(n_estimators=500)\n",
    "\n",
    "gbcA.fit(train_input, train_target_A)\n",
    "gbc_pred_A = gbcA.predict(test_input)\n",
    "gbc_acc_A = accuracy_score(test_target_A, gbc_pred_A)\n",
    "\n",
    "print(\"predicting Team A win accuracy:\", gbc_acc_A)\n",
    "print(\"mean of test target:\", np.mean(test_target_A))"
   ]
  },
  {
   "cell_type": "code",
   "execution_count": 57,
   "metadata": {},
   "outputs": [
    {
     "name": "stdout",
     "output_type": "stream",
     "text": [
      "predicting Team B win accuracy: 0.6309523809523809\n"
     ]
    }
   ],
   "source": [
    "gbcB = GradientBoostingClassifier(n_estimators=500)\n",
    "\n",
    "gbcB.fit(train_input, train_target_B)\n",
    "gbc_pred_B = gbcB.predict(test_input)\n",
    "gbc_acc_B = accuracy_score(test_target_B, gbc_pred_B)\n",
    "\n",
    "print(\"predicting Team B win accuracy:\", gbc_acc_B)\n",
    "print(\"mean of test target:\", np.mean(test_target_B))"
   ]
  },
  {
   "cell_type": "code",
   "execution_count": 62,
   "metadata": {},
   "outputs": [
    {
     "name": "stdout",
     "output_type": "stream",
     "text": [
      "eco_rating_A: 0.6010235222503177\n",
      "eco_rating_B: 0.0897004492737888\n",
      "Kills Per Round_A: 0.07254780881420554\n",
      "Kills Per Round_B: 0.048146497308104934\n",
      "Rating_A: 0.0325334354826335\n",
      "Average Combat Score_B: 0.029094660484180527\n",
      "Average Combat Score_A: 0.013342030367028442\n",
      "R3_lo_B: 0.012829802540833945\n",
      "Clutch Success %_B: 0.01205883319057398\n",
      "Clutch Success %_A: 0.0080393426712549\n",
      "Rating_B: 0.007263599208919777\n",
      "R3_lo_A: 0.005683895855560642\n",
      "Assists Per Round_A: 0.005072110792795694\n",
      "Average Damage Per Round_A: 0.004525288676934957\n",
      "R4_Special_Kills_A: 0.004405581612642989\n",
      "R2_lo_B: 0.004065153643881855\n",
      "R2_lo_A: 0.003550229006662639\n",
      "Assists Per Round_B: 0.003224280794233493\n",
      "Headshot %_A: 0.0031910734991574975\n",
      "sent_Average Damage Per Round_B: 0.002412511481653275\n",
      "duel_First Kills Per Round_B: 0.002257664984993997\n",
      "cont_Clutch Success %_A: 0.0020567731244820913\n",
      "Kill, Assist, Trade, Survive %_A: 0.00175648447503682\n",
      "R5_lo_B: 0.0016885426311389728\n",
      "init_Average Damage Per Round_A: 0.0016676848095513008\n",
      "init_B: 0.0016293395484820654\n",
      "init_Kills Per Round_B: 0.0014655365590860762\n",
      "duel_First Kills Per Round_A: 0.001330829018525577\n",
      "R6_Special_Kills_B: 0.0012884945103158216\n",
      "init_Kill, Assist, Trade, Survive %_B: 0.0012394165885093703\n",
      "cont_Average Combat Score_B: 0.0011958609069354785\n",
      "init_Average Combat Score_B: 0.0011027841117996515\n",
      "prob_eco_rating_A: 0.0010833584357838155\n",
      "R11_lo_A: 0.0010763713474940357\n",
      "init_Assists Per Round_B: 0.0009890480374532998\n",
      "cont_Average Damage Per Round_A: 0.0009576157626691412\n",
      "cont_Assists Per Round_B: 0.0009033283188353885\n",
      "cont_Headshot %_A: 0.0008976190760788097\n",
      "cont_Assists Per Round_A: 0.0007768652362199383\n",
      "init_Clutch Success %_A: 0.0007117822545106282\n",
      "Average Damage Per Round_B: 0.0006816467467305368\n",
      "R6_lo_B: 0.0006795314991872868\n",
      "cont_Kills Per Round_B: 0.0006552499190268697\n",
      "cont_First Deaths Per Round_A: 0.0006357416806863729\n",
      "prob_eco_rating_B: 0.0005835734848321764\n",
      "cont_Kills Per Round_A: 0.0005701060868578194\n",
      "cont_Kill, Assist, Trade, Survive %_B: 0.0005657180018840349\n",
      "sent_Average Combat Score_A: 0.0005475418883657717\n",
      "R9_lo_A: 0.0004961443592254856\n",
      "R12_Special_Kills_A: 0.00046848403650040575\n",
      "R12_Special_Kills_B: 0.0003679713259338405\n",
      "init_First Deaths Per Round_A: 0.00036035828509455226\n",
      "cont_Average Combat Score_A: 0.0003090951043115575\n",
      "R12_lo_A: 0.00030053473443956356\n",
      "cont_Rating_B: 0.00027678803959210887\n",
      "sent_Kill, Assist, Trade, Survive %_A: 0.000252147976255974\n",
      "R4_Special_Kills_B: 0.0002346222026485608\n",
      "cont_Rating_A: 0.0002236134435755065\n",
      "R8_lo_A: 0.0002093793954237568\n",
      "sent_Rating_A: 0.00018478568047366177\n",
      "R11_Special_Kills_B: 0.0001775240331711285\n",
      "duel_Assists Per Round_A: 0.00015748679521333095\n",
      "Headshot %_B: 0.00015723249158402163\n",
      "R4_lo_A: 0.00015109555519811127\n",
      "duel_Kills Per Round_B: 0.0001471175341955883\n",
      "duel_Average Combat Score_B: 0.00011541338075967375\n",
      "duel_Average Combat Score_A: 0.00010999881128105205\n",
      "R9_lo_B: 9.762144274438971e-05\n",
      "duel_Kills Per Round_A: 9.711523848096789e-05\n",
      "duel_Headshot %_B: 8.390503626960328e-05\n",
      "init_Rating_B: 7.391732969839275e-05\n",
      "R4_lo_B: 6.826647511581866e-05\n",
      "duel_Headshot %_A: 6.60860258648845e-05\n",
      "duel_Average Damage Per Round_A: 6.345982823706772e-05\n",
      "cont_First Kills Per Round_A: 6.205623831362468e-05\n",
      "R9_Special_Kills_A: 5.7798959660627905e-05\n",
      "duel_Rating_A: 5.682823527370666e-05\n",
      "R2_Special_Kills_B: 5.209567281686922e-05\n",
      "R13_lo_B: 5.1367529309896584e-05\n",
      "duel_Kill, Assist, Trade, Survive %_B: 4.2745204748901446e-05\n",
      "R5_Special_Kills_A: 3.9576343874811705e-05\n",
      "init_Kill, Assist, Trade, Survive %_A: 3.705195119766072e-05\n",
      "R10_Special_Kills_B: 3.6339302123685105e-05\n",
      "R7_Special_Kills_B: 3.633309396704589e-05\n",
      "duel_Average Damage Per Round_B: 3.587032445745567e-05\n",
      "duel_First Deaths Per Round_B: 3.4775404929555224e-05\n",
      "sent_Assists Per Round_A: 3.154732322713958e-05\n",
      "sent_Kills Per Round_A: 2.915916268414661e-05\n",
      "R2_Special_Kills_A: 2.715190753556899e-05\n",
      "duel_Assists Per Round_B: 2.713252331721703e-05\n",
      "R9_Special_Kills_B: 2.4911721797538245e-05\n",
      "sent_First Kills Per Round_B: 2.1967306674350016e-05\n",
      "init_Rating_A: 2.0710198508573664e-05\n",
      "init_Average Combat Score_A: 1.943564379413514e-05\n",
      "R10_lo_A: 1.9237710654235104e-05\n",
      "init_Assists Per Round_A: 1.8413297644941593e-05\n",
      "R6_lo_A: 1.683383318028161e-05\n",
      "R7_lo_A: 1.5849730586473348e-05\n",
      "sent_First Kills Per Round_A: 1.5375792425558383e-05\n",
      "sent_Average Damage Per Round_A: 1.5326691655541948e-05\n",
      "cont_Average Damage Per Round_B: 1.5206817030165721e-05\n",
      "R8_lo_B: 1.4985591291194989e-05\n",
      "init_Clutch Success %_B: 1.4202485289222602e-05\n",
      "cont_Clutch Success %_B: 1.404737912831175e-05\n",
      "sent_Clutch Success %_A: 1.289259700865899e-05\n",
      "init_Headshot %_B: 1.2623742290141731e-05\n",
      "sent_Assists Per Round_B: 1.1553304151947188e-05\n",
      "cont_Kill, Assist, Trade, Survive %_A: 1.1266796627290665e-05\n",
      "R7_Special_Kills_A: 1.0031310496522176e-05\n",
      "init_First Kills Per Round_A: 8.117758144821008e-06\n",
      "First Kills Per Round_B: 7.719519647651715e-06\n",
      "R11_lo_B: 6.869285690729784e-06\n",
      "cont_First Kills Per Round_B: 6.630771041350912e-06\n",
      "R13_Special_Kills_B: 4.63822529051846e-06\n",
      "duel_A: 4.328997976954693e-06\n",
      "First Kills Per Round_A: 4.140601986947273e-06\n",
      "sent_Rating_B: 3.648176640609139e-06\n",
      "duel_Rating_B: 3.595291168921331e-06\n",
      "R11_Special_Kills_A: 3.3954264969994283e-06\n",
      "R5_lo_A: 2.8972285727172504e-06\n",
      "R5_Special_Kills_B: 2.7780245755013412e-06\n",
      "R3_Special_Kills_A: 2.6407369222617674e-06\n",
      "R6_Special_Kills_A: 2.4240823662298373e-06\n",
      "init_Average Damage Per Round_B: 2.3693400380846183e-06\n",
      "R1_Special_Kills_B: 1.9324333812344606e-06\n",
      "First Deaths Per Round_B: 1.9086221070325647e-06\n",
      "init_First Deaths Per Round_B: 1.8921150283371023e-06\n",
      "sent_First Deaths Per Round_B: 1.5576897018210228e-06\n",
      "R10_Special_Kills_A: 1.4016522202372471e-06\n",
      "Kill, Assist, Trade, Survive %_B: 1.3877714077138326e-06\n",
      "duel_Clutch Success %_B: 1.3131058822876659e-06\n",
      "sent_First Deaths Per Round_A: 1.1254193383722912e-06\n",
      "init_Kills Per Round_A: 1.042094259549487e-06\n",
      "R1_lo_B: 7.027195030794114e-07\n",
      "First Deaths Per Round_A: 5.252337367231658e-07\n",
      "cont_A: 2.8354196591208925e-07\n",
      "sent_Average Combat Score_B: 2.6203757958683654e-07\n",
      "R12_lo_B: 2.2590422356882283e-07\n",
      "duel_First Deaths Per Round_A: 2.027874781981828e-07\n",
      "R13_Special_Kills_A: 1.9738797878519662e-07\n",
      "sent_Headshot %_A: 1.540690183715147e-07\n",
      "R1_Special_Kills_A: 6.795680983461853e-08\n",
      "R3_Special_Kills_B: 4.559747688470477e-08\n",
      "R10_lo_B: 3.3121940382429795e-08\n",
      "duel_Clutch Success %_A: 2.1299828707609647e-08\n",
      "cont_Headshot %_B: 1.6162108533721916e-08\n",
      "init_First Kills Per Round_B: 1.516592691228815e-08\n",
      "R13_lo_A: 4.913583082410931e-09\n",
      "R8_Special_Kills_B: 2.9588904342199954e-09\n",
      "init_Headshot %_A: 1.8039498174254557e-09\n",
      "sent_Clutch Success %_B: 4.618170451154704e-10\n",
      "sent_Kills Per Round_B: 3.9729562209246094e-10\n",
      "duel_Kill, Assist, Trade, Survive %_A: 2.227683552955045e-10\n",
      "R1_lo_A: 1.9560960329114048e-10\n",
      "R7_lo_B: 8.233896326594402e-13\n",
      "init_A: 0.0\n",
      "sent_A: 0.0\n",
      "R8_Special_Kills_A: 0.0\n",
      "cont_B: 0.0\n",
      "duel_B: 0.0\n",
      "sent_B: 0.0\n",
      "sent_Kill, Assist, Trade, Survive %_B: 0.0\n",
      "cont_First Deaths Per Round_B: 0.0\n",
      "sent_Headshot %_B: 0.0\n"
     ]
    }
   ],
   "source": [
    "feature_names = train_input.keys()\n",
    "gbcA_feature_importances = gbcA.feature_importances_\n",
    "\n",
    "gbcA_feature_importance_dict = dict(zip(feature_names, gbcA_feature_importances))\n",
    "gbcA_sorted_features = sorted(gbcA_feature_importance_dict.items(), key=lambda x: x[1], reverse=True)\n",
    "\n",
    "A_important_features_in_order = [x[0] for x in gbcA_sorted_features]\n",
    "\n",
    "for feature, importance in gbcA_sorted_features:\n",
    "    print(f\"{feature}: {importance}\")"
   ]
  },
  {
   "cell_type": "code",
   "execution_count": 63,
   "metadata": {},
   "outputs": [
    {
     "name": "stdout",
     "output_type": "stream",
     "text": [
      "eco_rating_A: 0.6009696584144684\n",
      "eco_rating_B: 0.08975448746663177\n",
      "Kills Per Round_A: 0.07246265642006013\n",
      "Kills Per Round_B: 0.046961554049968\n",
      "Rating_A: 0.03253021655864549\n",
      "Average Combat Score_B: 0.03024496742398459\n",
      "Average Combat Score_A: 0.013179233830618019\n",
      "R3_lo_B: 0.012828489170493734\n",
      "Clutch Success %_B: 0.012047320528377203\n",
      "Clutch Success %_A: 0.008010965661612442\n",
      "Rating_B: 0.007263287287016599\n",
      "R3_lo_A: 0.005356013165263008\n",
      "Assists Per Round_A: 0.005069983723564984\n",
      "Average Damage Per Round_A: 0.004534600916306702\n",
      "R4_Special_Kills_A: 0.004405599334404603\n",
      "R2_lo_B: 0.0038884335261518002\n",
      "R2_lo_A: 0.003550368591602062\n",
      "Assists Per Round_B: 0.0031405977071929797\n",
      "Headshot %_A: 0.003065143804016942\n",
      "sent_Rating_B: 0.002403995145200247\n",
      "cont_Clutch Success %_A: 0.002210568979219292\n",
      "duel_First Kills Per Round_B: 0.0021801172300105445\n",
      "Kill, Assist, Trade, Survive %_A: 0.0017401270850838596\n",
      "cont_Average Combat Score_B: 0.0017137319919893292\n",
      "init_Kill, Assist, Trade, Survive %_B: 0.0017098880281276783\n",
      "init_Average Damage Per Round_A: 0.0016665476198058494\n",
      "R5_lo_B: 0.00155777121423528\n",
      "init_Kills Per Round_B: 0.0014655107070134115\n",
      "duel_First Kills Per Round_A: 0.0013209915478817698\n",
      "R6_Special_Kills_B: 0.0012885371268084628\n",
      "R11_lo_A: 0.0010763042953167473\n",
      "prob_eco_rating_A: 0.0010317178359783403\n",
      "cont_Kill, Assist, Trade, Survive %_B: 0.00096304760892679\n",
      "cont_Average Damage Per Round_A: 0.0009607223418471578\n",
      "init_B: 0.0009465115026598\n",
      "cont_Assists Per Round_B: 0.000931080236085712\n",
      "init_Average Combat Score_B: 0.0009102716968988632\n",
      "cont_Headshot %_A: 0.0008952890639392548\n",
      "cont_Assists Per Round_A: 0.0007429238578767613\n",
      "init_Clutch Success %_A: 0.0007273181599708824\n",
      "R13_lo_B: 0.000721486185991209\n",
      "cont_Kills Per Round_A: 0.0007108014137055794\n",
      "Average Damage Per Round_B: 0.0006829929240826171\n",
      "R6_lo_B: 0.0006794979045792571\n",
      "cont_First Deaths Per Round_A: 0.0006351823689803515\n",
      "prob_eco_rating_B: 0.0005867667655547268\n",
      "R9_lo_A: 0.0004961383875833002\n",
      "init_Assists Per Round_B: 0.000474567708543129\n",
      "R12_Special_Kills_B: 0.00047329890353049503\n",
      "sent_Kill, Assist, Trade, Survive %_A: 0.00039577936486397694\n",
      "duel_Kills Per Round_A: 0.0003834813006797781\n",
      "sent_Average Combat Score_A: 0.0003679848687670845\n",
      "init_First Deaths Per Round_A: 0.00033943077507152865\n",
      "cont_Rating_B: 0.0003009766708547375\n",
      "R12_lo_A: 0.00030053471790393143\n",
      "init_Average Damage Per Round_B: 0.0002767169406825566\n",
      "sent_Rating_A: 0.00023595591212164597\n",
      "cont_Rating_A: 0.00022148857231506818\n",
      "R12_Special_Kills_A: 0.0002171402330359501\n",
      "duel_Assists Per Round_A: 0.00021365475803628408\n",
      "R4_lo_A: 0.00021334093021748598\n",
      "R8_lo_A: 0.0002093779352929632\n",
      "duel_Assists Per Round_B: 0.00020339794781073795\n",
      "duel_Average Damage Per Round_B: 0.0001967407433897136\n",
      "R8_lo_B: 0.0001842341633184337\n",
      "duel_Rating_B: 0.0001818124025799742\n",
      "init_First Deaths Per Round_B: 0.00017796209005718007\n",
      "Headshot %_B: 0.00017561992197000334\n",
      "cont_Average Combat Score_A: 0.00017502807940482292\n",
      "cont_Kills Per Round_B: 0.00015409329405312655\n",
      "R11_Special_Kills_B: 0.0001348978628389371\n",
      "R10_Special_Kills_B: 0.00010033625678485574\n",
      "R9_lo_B: 9.75070884058165e-05\n",
      "sent_Kills Per Round_A: 8.796741623717352e-05\n",
      "duel_Average Combat Score_A: 8.564404184621693e-05\n",
      "duel_Headshot %_B: 8.242593780224112e-05\n",
      "init_Rating_B: 7.392378830206309e-05\n",
      "R7_Special_Kills_B: 7.342375097004395e-05\n",
      "R4_lo_B: 6.75371578215152e-05\n",
      "duel_Average Damage Per Round_A: 6.221161928382303e-05\n",
      "R2_Special_Kills_A: 6.208023032309992e-05\n",
      "init_Rating_A: 5.6563312217841086e-05\n",
      "R7_lo_A: 5.486432508409179e-05\n",
      "duel_Rating_A: 5.400783098127391e-05\n",
      "init_Headshot %_B: 5.186844242484302e-05\n",
      "R2_Special_Kills_B: 5.1770388717304277e-05\n",
      "duel_Kill, Assist, Trade, Survive %_B: 4.187570532791526e-05\n",
      "R8_Special_Kills_A: 3.854474451028132e-05\n",
      "init_Average Combat Score_A: 3.755200227427585e-05\n",
      "duel_First Deaths Per Round_B: 3.461252498597236e-05\n",
      "R5_lo_A: 3.3397463449864096e-05\n",
      "init_Headshot %_A: 3.2659656902631026e-05\n",
      "cont_First Deaths Per Round_B: 2.6557111941267735e-05\n",
      "R7_Special_Kills_A: 2.5625366570958564e-05\n",
      "R9_Special_Kills_B: 2.5590161061412966e-05\n",
      "sent_First Kills Per Round_B: 2.1975055956932822e-05\n",
      "sent_Average Damage Per Round_A: 1.8123946838195406e-05\n",
      "R8_Special_Kills_B: 1.5074236261999392e-05\n",
      "cont_Clutch Success %_B: 1.4164491316404309e-05\n",
      "sent_Clutch Success %_A: 1.3848983548304296e-05\n",
      "R10_lo_A: 1.197622747199851e-05\n",
      "duel_Kills Per Round_B: 1.1908491987271027e-05\n",
      "cont_Kill, Assist, Trade, Survive %_A: 1.1266429234192037e-05\n",
      "sent_Headshot %_A: 8.305379682878986e-06\n",
      "init_Assists Per Round_A: 7.706054828726266e-06\n",
      "R11_lo_B: 6.869423073260278e-06\n",
      "init_Clutch Success %_B: 6.73069358549182e-06\n",
      "First Kills Per Round_A: 5.848400631309285e-06\n",
      "sent_Assists Per Round_A: 5.290777704433118e-06\n",
      "R13_Special_Kills_B: 4.623118580195705e-06\n",
      "duel_A: 4.330067725779493e-06\n",
      "First Kills Per Round_B: 4.094040107138525e-06\n",
      "First Deaths Per Round_B: 3.831284512710741e-06\n",
      "R1_Special_Kills_A: 3.660193584911588e-06\n",
      "R7_lo_B: 3.3060645198358887e-06\n",
      "R13_Special_Kills_A: 3.027469504874755e-06\n",
      "sent_Assists Per Round_B: 2.9973270099376067e-06\n",
      "R5_Special_Kills_B: 2.7543312825468587e-06\n",
      "sent_Average Damage Per Round_B: 2.619153966878078e-06\n",
      "duel_Clutch Success %_B: 2.3695208095629257e-06\n",
      "init_Kill, Assist, Trade, Survive %_A: 2.2683237198423134e-06\n",
      "duel_Average Combat Score_B: 1.6019132385180994e-06\n",
      "R10_Special_Kills_A: 1.5535172167217534e-06\n",
      "R6_lo_A: 1.2416723689455347e-06\n",
      "duel_Kill, Assist, Trade, Survive %_A: 1.1271496314467153e-06\n",
      "cont_Headshot %_B: 1.0653889640528595e-06\n",
      "init_Kills Per Round_A: 9.769681172520323e-07\n",
      "R10_lo_B: 8.893984110491143e-07\n",
      "init_First Kills Per Round_A: 7.984219665876697e-07\n",
      "sent_First Deaths Per Round_A: 7.83042171772097e-07\n",
      "R1_lo_B: 7.742967090190368e-07\n",
      "R3_Special_Kills_B: 6.437120028560969e-07\n",
      "R1_lo_A: 5.795171711262936e-07\n",
      "sent_Average Combat Score_B: 5.77014105420463e-07\n",
      "R3_Special_Kills_A: 5.657179278601313e-07\n",
      "sent_B: 4.41563270835714e-07\n",
      "First Deaths Per Round_A: 3.957039983622775e-07\n",
      "cont_First Kills Per Round_A: 3.3978770853255656e-07\n",
      "cont_First Kills Per Round_B: 2.4635380882261963e-07\n",
      "R12_lo_B: 2.2881727792824353e-07\n",
      "R11_Special_Kills_A: 1.8344687463113887e-07\n",
      "sent_First Deaths Per Round_B: 1.4181546679307772e-07\n",
      "R5_Special_Kills_A: 1.372087926011817e-07\n",
      "duel_Clutch Success %_A: 1.206356344493841e-07\n",
      "cont_Average Damage Per Round_B: 3.779587687273412e-08\n",
      "cont_A: 2.4675965356137558e-08\n",
      "init_First Kills Per Round_B: 2.3248690645534882e-08\n",
      "cont_B: 2.0309251484880223e-08\n",
      "duel_First Deaths Per Round_A: 1.101744012504646e-08\n",
      "sent_Kill, Assist, Trade, Survive %_B: 7.561997636561212e-09\n",
      "R13_lo_A: 7.470718710186551e-09\n",
      "R6_Special_Kills_A: 2.9180041860206648e-09\n",
      "sent_Kills Per Round_B: 1.7763125145801727e-09\n",
      "sent_Headshot %_B: 8.740098597255652e-10\n",
      "sent_Clutch Success %_B: 5.741525102623608e-10\n",
      "init_A: 0.0\n",
      "sent_A: 0.0\n",
      "sent_First Kills Per Round_A: 0.0\n",
      "duel_Headshot %_A: 0.0\n",
      "R9_Special_Kills_A: 0.0\n",
      "Kill, Assist, Trade, Survive %_B: 0.0\n",
      "duel_B: 0.0\n",
      "R1_Special_Kills_B: 0.0\n",
      "R4_Special_Kills_B: 0.0\n"
     ]
    }
   ],
   "source": [
    "gbcB_feature_importances = gbcB.feature_importances_\n",
    "\n",
    "gbcB_feature_importance_dict = dict(zip(feature_names, gbcB_feature_importances))\n",
    "gbcB_sorted_features = sorted(gbcB_feature_importance_dict.items(), key=lambda x: x[1], reverse=True)\n",
    "\n",
    "B_important_features_in_order = [x[0] for x in gbcB_sorted_features]\n",
    "\n",
    "for feature, importance in gbcB_sorted_features:\n",
    "    print(f\"{feature}: {importance}\")"
   ]
  },
  {
   "cell_type": "code",
   "execution_count": 71,
   "metadata": {},
   "outputs": [
    {
     "name": "stdout",
     "output_type": "stream",
     "text": [
      "The first 21 important features of gbcA and gbcB agree.\n",
      "They are\n",
      "20\n",
      "20\n"
     ]
    }
   ],
   "source": [
    "num_of_features = len(train_input.keys())\n",
    "for i in range(num_of_features):\n",
    "    if A_important_features_in_order[:i] != B_important_features_in_order[:i]:\n",
    "        print(f\"The first {i} important features of gbcA and gbcB agree.\")\n",
    "        print(\"They are\")\n",
    "        print(A_important_features_in_order[:i])\n",
    "        break"
   ]
  },
  {
   "attachments": {},
   "cell_type": "markdown",
   "metadata": {},
   "source": [
    "Since there was no big performance difference between predicting \"Team_A_win\" vs \"Team_B_win\".  From now on, our target will be \"Team_A_win\".\n",
    "\n",
    "Also, let's use the above 20 features to train GradientBoostingClassifier."
   ]
  },
  {
   "cell_type": "code",
   "execution_count": 73,
   "metadata": {},
   "outputs": [],
   "source": [
    "important_features = A_important_features_in_order[:20]\n",
    "\n",
    "gbc_X_train = train_input[important_features]\n",
    "gbc_X_test = test_input[important_features]\n",
    "\n",
    "y_train = train_data[\"Team_A_win\"]\n",
    "y_test = test_data[\"Team_A_win\"]"
   ]
  },
  {
   "cell_type": "code",
   "execution_count": 75,
   "metadata": {},
   "outputs": [
    {
     "data": {
      "text/plain": [
       "0.6309523809523809"
      ]
     },
     "execution_count": 75,
     "metadata": {},
     "output_type": "execute_result"
    }
   ],
   "source": [
    "small_gbc = GradientBoostingClassifier(n_estimators=1000)\n",
    "\n",
    "small_gbc.fit(gbc_X_train, y_train)\n",
    "small_gbc_pred = small_gbc.predict(gbc_X_test)\n",
    "small_gbc_acc = accuracy_score(y_test, small_gbc_pred)\n",
    "\n",
    "small_gbc_acc"
   ]
  },
  {
   "cell_type": "code",
   "execution_count": 84,
   "metadata": {},
   "outputs": [
    {
     "name": "stdout",
     "output_type": "stream",
     "text": [
      "Best Hyperparameters: {'n_estimators': 300, 'learning_rate': 1.5, 'max_depth': 1}\n",
      "Test Accuracy: 0.6547619047619048\n"
     ]
    }
   ],
   "source": [
    "n_estimators_list = [300, 1000, 1500]\n",
    "learning_rate_list = [0.05, 0.1, 1.5, 2]\n",
    "max_depth_list = [1, 2, 3]\n",
    "\n",
    "best_accuracy = 0\n",
    "best_params = {}\n",
    "\n",
    "# Iterate over hyperparameter combinations\n",
    "for n_estimators in n_estimators_list:\n",
    "    for learning_rate in learning_rate_list:\n",
    "        for max_depth in max_depth_list:\n",
    "            # Initialize GradientBoostingClassifier with current hyperparameters\n",
    "            clf = GradientBoostingClassifier(n_estimators=n_estimators,\n",
    "                                             learning_rate=learning_rate,\n",
    "                                             max_depth=max_depth)\n",
    "            # Train the classifier on the training data\n",
    "            clf.fit(gbc_X_train, y_train)\n",
    "            \n",
    "            # Evaluate the classifier on the test set\n",
    "            y_pred = clf.predict(gbc_X_test)\n",
    "            accuracy = accuracy_score(y_test, y_pred)\n",
    "            \n",
    "            # Check if current hyperparameters yield better accuracy\n",
    "            if accuracy > best_accuracy:\n",
    "                best_accuracy = accuracy\n",
    "                best_params = {'n_estimators': n_estimators,\n",
    "                               'learning_rate': learning_rate,\n",
    "                               'max_depth': max_depth}\n",
    "\n",
    "# Train the final classifier with the best hyperparameters on the entire training set\n",
    "final_clf = GradientBoostingClassifier(**best_params)\n",
    "final_clf.fit(gbc_X_train, y_train)\n",
    "\n",
    "# Evaluate the final classifier on the test set\n",
    "y_test_pred = final_clf.predict(gbc_X_test)\n",
    "test_accuracy = accuracy_score(y_test, y_test_pred)\n",
    "\n",
    "print(\"Best Hyperparameters:\", best_params)\n",
    "print(\"Test Accuracy:\", test_accuracy)"
   ]
  },
  {
   "cell_type": "code",
   "execution_count": null,
   "metadata": {},
   "outputs": [],
   "source": [
    "Best Hyperparameters: {'n_estimators': 300, 'learning_rate': 1.5, 'max_depth': 1}\n",
    "Test Accuracy: 0.6547619047619048"
   ]
  },
  {
   "attachments": {},
   "cell_type": "markdown",
   "metadata": {},
   "source": [
    "- Previously, we saw that interaction terms, such as \"sent_Rating_B\" and \"cont_Clutch Success %_A,\" are less important than straightforward terms, such as \"Rating_B\" and \"Clutch Success %_A.\n",
    "\n",
    "- Also, \"eco_rating_A\", \"eco_rating_B\", \"R2_lo_A\", \"R2_lo_B\", \"R3_lo_A\", and \"R3_lo_B\" didn't come from players' stats, but they have higher importance than others. Hence, we will try to use these features together with straightforward players' stats, such as \"Rating_A\" and \"Average Combat Score_A,\" and so on."
   ]
  },
  {
   "cell_type": "code",
   "execution_count": 90,
   "metadata": {},
   "outputs": [],
   "source": [
    "eco_simple_stats = [\"eco_rating_A\", \"eco_rating_B\", \"R2_lo_A\", \"R2_lo_B\", \"R3_lo_A\", \"R3_lo_B\",\n",
    "                    \"Rating_A\", \"Average Combat Score_A\", \"Kill, Assist, Trade, Survive %_A\",\n",
    "                    \"Average Damage Per Round_A\", \"Kills Per Round_A\",\n",
    "                    \"Assists Per Round_A\", \"First Kills Per Round_A\",\n",
    "                    \"First Deaths Per Round_A\", \"Headshot %_A\",\n",
    "                    \"Clutch Success %_A\",\n",
    "                    \"Rating_B\", \"Average Combat Score_B\", \"Kill, Assist, Trade, Survive %_B\",\n",
    "                    \"Average Damage Per Round_B\", \"Kills Per Round_B\",\n",
    "                    \"Assists Per Round_B\", \"First Kills Per Round_B\",\n",
    "                    \"First Deaths Per Round_B\", \"Headshot %_B\",\n",
    "                    \"Clutch Success %_B\"]\n",
    "\n",
    "es_X_train = train_data[eco_simple_stats]\n",
    "es_X_test = test_data[eco_simple_stats]\n",
    "\n",
    "y_train = train_data[\"Team_A_win\"]\n",
    "y_test = test_data[\"Team_A_win\"]"
   ]
  },
  {
   "cell_type": "code",
   "execution_count": 110,
   "metadata": {},
   "outputs": [
    {
     "data": {
      "text/plain": [
       "0.6428571428571429"
      ]
     },
     "execution_count": 110,
     "metadata": {},
     "output_type": "execute_result"
    }
   ],
   "source": [
    "es_gbc = GradientBoostingClassifier(n_estimators=1100, max_depth=1)\n",
    "\n",
    "es_gbc.fit(es_X_train, y_train)\n",
    "es_gbc_pred = es_gbc.predict(es_X_test)\n",
    "es_gbc_acc = accuracy_score(y_test, es_gbc_pred)\n",
    "\n",
    "es_gbc_acc"
   ]
  },
  {
   "attachments": {},
   "cell_type": "markdown",
   "metadata": {},
   "source": [
    "0.63 accuracy above is not bad without hyper parameter tuning."
   ]
  },
  {
   "cell_type": "code",
   "execution_count": 99,
   "metadata": {},
   "outputs": [
    {
     "name": "stdout",
     "output_type": "stream",
     "text": [
      "Best Hyperparameters: {'n_estimators': 250, 'learning_rate': 1, 'max_depth': 1}\n",
      "Test Accuracy: 0.6547619047619048\n"
     ]
    }
   ],
   "source": [
    "# Let's do hyper parameter tuning!\n",
    "\n",
    "n_estimators_list = [250, 750, 800, 850, 900, 1000, 2000]\n",
    "learning_rate_list = [0.5, 1, 1.5]\n",
    "max_depth_list = [1, 2, 3]\n",
    "\n",
    "best_accuracy = 0\n",
    "best_params = {}\n",
    "\n",
    "# Iterate over hyperparameter combinations\n",
    "for n_estimators in n_estimators_list:\n",
    "    for learning_rate in learning_rate_list:\n",
    "        for max_depth in max_depth_list:\n",
    "            # Initialize GradientBoostingClassifier with current hyperparameters\n",
    "            clf = GradientBoostingClassifier(n_estimators=n_estimators,\n",
    "                                             learning_rate=learning_rate,\n",
    "                                             max_depth=max_depth)\n",
    "            # Train the classifier on the training data\n",
    "            clf.fit(es_X_train, y_train)\n",
    "            \n",
    "            # Evaluate the classifier on the test set\n",
    "            y_pred = clf.predict(es_X_test)\n",
    "            accuracy = accuracy_score(y_test, y_pred)\n",
    "            \n",
    "            # Check if current hyperparameters yield better accuracy\n",
    "            if accuracy > best_accuracy:\n",
    "                best_accuracy = accuracy\n",
    "                best_params = {'n_estimators': n_estimators,\n",
    "                               'learning_rate': learning_rate,\n",
    "                               'max_depth': max_depth}\n",
    "\n",
    "# Train the final classifier with the best hyperparameters on the entire training set\n",
    "final_clf = GradientBoostingClassifier(**best_params)\n",
    "final_clf.fit(es_X_train, y_train)\n",
    "\n",
    "# Evaluate the final classifier on the test set\n",
    "y_test_pred = final_clf.predict(es_X_test)\n",
    "test_accuracy = accuracy_score(y_test, y_test_pred)\n",
    "\n",
    "print(\"Best Hyperparameters:\", best_params)\n",
    "print(\"Test Accuracy:\", test_accuracy)"
   ]
  },
  {
   "cell_type": "code",
   "execution_count": null,
   "metadata": {},
   "outputs": [],
   "source": [
    "Best Hyperparameters: {'n_estimators': 350, 'learning_rate': 0.5, 'max_depth': 1}\n",
    "Test Accuracy: 0.6666666666666666"
   ]
  },
  {
   "cell_type": "code",
   "execution_count": null,
   "metadata": {},
   "outputs": [],
   "source": [
    "Best Hyperparameters: {'n_estimators': 500, 'learning_rate': 1, 'max_depth': 1}\n",
    "Test Accuracy: 0.6547619047619048"
   ]
  },
  {
   "cell_type": "code",
   "execution_count": null,
   "metadata": {},
   "outputs": [],
   "source": [
    "Best Hyperparameters: {'n_estimators': 1000, 'learning_rate': 0.5, 'max_depth': 2}\n",
    "Test Accuracy: 0.6547619047619048"
   ]
  },
  {
   "cell_type": "code",
   "execution_count": null,
   "metadata": {},
   "outputs": [],
   "source": [
    "Best Hyperparameters: {'n_estimators': 1000, 'learning_rate': 0.1, 'max_depth': 1}\n",
    "Test Accuracy: 0.6428571428571429"
   ]
  },
  {
   "cell_type": "code",
   "execution_count": null,
   "metadata": {},
   "outputs": [],
   "source": [
    "raise ValueError(\"Stop running here!\")"
   ]
  },
  {
   "cell_type": "code",
   "execution_count": 112,
   "metadata": {},
   "outputs": [],
   "source": [
    "from sklearn.model_selection import train_test_split\n",
    "from sklearn.preprocessing import StandardScaler\n",
    "from sklearn.linear_model import LogisticRegression\n",
    "from sklearn.metrics import accuracy_score\n",
    "from sklearn.metrics import confusion_matrix, ConfusionMatrixDisplay\n",
    "import matplotlib.pyplot as plt"
   ]
  },
  {
   "cell_type": "code",
   "execution_count": 140,
   "metadata": {},
   "outputs": [
    {
     "data": {
      "image/png": "[encoded data removed]",
      "text/plain": [
       "<Figure size 500x450 with 1 Axes>"
      ]
     },
     "metadata": {},
     "output_type": "display_data"
    }
   ],
   "source": [
    "alpha = 0.25\n",
    "plt.figure(figsize=(5,4.5))\n",
    "plt.scatter(\n",
    "    train_data[train_data.Team_A_win == True].Rating_A,\n",
    "    train_data[train_data.Team_A_win == True].Rating_B,\n",
    "    c=\"blue\",\n",
    "    alpha=alpha,\n",
    "    label = \"A win\"\n",
    ")\n",
    "\n",
    "plt.scatter(\n",
    "    train_data[train_data.Team_A_win == False].Rating_A,\n",
    "    train_data[train_data.Team_A_win == False].Rating_B,\n",
    "    c=\"red\",\n",
    "    alpha=alpha,\n",
    "    label= \"B win\"\n",
    ")\n",
    "plt.plot(range(1,10), range(1,10), linestyle=\"dotted\", color=\"grey\", label=\"A rating = B rating\")\n",
    "plt.legend(loc=\"upper center\")\n",
    "plt.xlabel(\"Team A rating\")\n",
    "plt.ylabel(\"Team B rating\")\n",
    "plt.show()"
   ]
  },
  {
   "cell_type": "code",
   "execution_count": 77,
   "metadata": {},
   "outputs": [
    {
     "name": "stdout",
     "output_type": "stream",
     "text": [
      "Best Parameters: {'learning_rate': 0.3, 'max_depth': 2, 'n_estimators': 300}\n",
      "Test Accuracy: 0.6190476190476191\n"
     ]
    }
   ],
   "source": [
    "# # Define the Gradient Boosting Classifier\n",
    "# gbc = GradientBoostingClassifier()\n",
    "\n",
    "# # Define the hyperparameters to tune\n",
    "# param_grid = {\n",
    "#     'n_estimators': [300, 400, 500],\n",
    "#     'learning_rate': [0.1, 0.2, 0.3],\n",
    "#     'max_depth': [1, 2]\n",
    "# }\n",
    "\n",
    "# # Initialize GridSearchCV\n",
    "# grid_search = GridSearchCV(estimator=gbc, param_grid=param_grid, cv=None)\n",
    "\n",
    "# # Perform Grid Search\n",
    "# grid_search.fit(gbc_X_train, y_train)\n",
    "\n",
    "# # Print the best hyperparameters\n",
    "# print(\"Best Parameters:\", grid_search.best_params_)\n",
    "\n",
    "# # Evaluate the model on the test set\n",
    "# best_clf = grid_search.best_estimator_\n",
    "# test_score = best_clf.score(gbc_X_test, y_test)\n",
    "# print(\"Test Accuracy:\", test_score)"
   ]
  },
  {
   "cell_type": "code",
   "execution_count": null,
   "metadata": {},
   "outputs": [],
   "source": []
  }
 ],
 "metadata": {
  "kernelspec": {
   "display_name": "vct",
   "language": "python",
   "name": "python3"
  },
  "language_info": {
   "codemirror_mode": {
    "name": "ipython",
    "version": 3
   },
   "file_extension": ".py",
   "mimetype": "text/x-python",
   "name": "python",
   "nbconvert_exporter": "python",
   "pygments_lexer": "ipython3",
   "version": "3.10.13"
  },
  "orig_nbformat": 4,
  "vscode": {
   "interpreter": {
    "hash": "dff9a28c025b256e3dd07773b16d01fc7f1d9c1504d50adf5be320b8d91345d8"
   }
  }
 },
 "nbformat": 4,
 "nbformat_minor": 2
}
