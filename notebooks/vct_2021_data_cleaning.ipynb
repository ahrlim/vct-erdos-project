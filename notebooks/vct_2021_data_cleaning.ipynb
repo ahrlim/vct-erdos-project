{
 "cells": [
  {
   "attachments": {},
   "cell_type": "markdown",
   "metadata": {},
   "source": [
    "## Extracting the list of tournaments\n",
    "\n",
    "I will try to get a list of tournaments and add the dates when each of tournaments happened.  Also, I would like to add tournament tier information if possible."
   ]
  },
  {
   "cell_type": "code",
   "execution_count": 13,
   "metadata": {},
   "outputs": [],
   "source": [
    "import pandas as pd"
   ]
  },
  {
   "cell_type": "code",
   "execution_count": 14,
   "metadata": {},
   "outputs": [],
   "source": [
    "agents_pick_rates = pd.read_csv(\"../data/vct_2021/agents/agents_pick_rates.csv\")"
   ]
  },
  {
   "cell_type": "code",
   "execution_count": 15,
   "metadata": {},
   "outputs": [
    {
     "name": "stderr",
     "output_type": "stream",
     "text": [
      "/var/folders/5l/9ggb45sn6nzb744shb8z4c680000gn/T/ipykernel_2201/1161355643.py:2: DtypeWarning: Columns (17) have mixed types. Specify dtype option on import or set low_memory=False.\n",
      "  kills_stats = pd.read_csv(\"../data/vct_2021/matches/kills_stats.csv\")\n"
     ]
    }
   ],
   "source": [
    "draft_phase = pd.read_csv(\"../data/vct_2021/matches/draft_phase.csv\")\n",
    "kills_stats = pd.read_csv(\"../data/vct_2021/matches/kills_stats.csv\")\n",
    "win_loss_methods_count = pd.read_csv(\"../data/vct_2021/matches/win_loss_methods_count.csv\")"
   ]
  },
  {
   "cell_type": "code",
   "execution_count": 16,
   "metadata": {},
   "outputs": [
    {
     "name": "stdout",
     "output_type": "stream",
     "text": [
      "142 79 101 142\n"
     ]
    }
   ],
   "source": [
    "tournament_list_2021_v1 = agents_pick_rates.Tournament.unique()\n",
    "tournament_list_2021_v2 = draft_phase.Tournament.unique()\n",
    "tournament_list_2021_v2_2 = kills_stats.Tournament.unique()\n",
    "tournament_list_2021_v2_3 = win_loss_methods_count.Tournament.unique()\n",
    "\n",
    "print(len(tournament_list_2021_v1), len(tournament_list_2021_v2), len(tournament_list_2021_v2_2), len(tournament_list_2021_v2_3))\n",
    "\n",
    "for tournament in tournament_list_2021_v1:\n",
    "    if tournament not in tournament_list_2021_v2_3:\n",
    "        print(tournament)"
   ]
  },
  {
   "cell_type": "code",
   "execution_count": 17,
   "metadata": {},
   "outputs": [
    {
     "name": "stdout",
     "output_type": "stream",
     "text": [
      "['Champions Tour North America Stage 1: Masters']\n",
      "1\n"
     ]
    }
   ],
   "source": [
    "in_v2_but_not_in_v2_2 = []\n",
    "for tournament in tournament_list_2021_v2:\n",
    "    if tournament not in tournament_list_2021_v2_2:\n",
    "        in_v2_but_not_in_v2_2.append(tournament)\n",
    "\n",
    "print(in_v2_but_not_in_v2_2)\n",
    "print(len(in_v2_but_not_in_v2_2))"
   ]
  },
  {
   "attachments": {},
   "cell_type": "markdown",
   "metadata": {},
   "source": [
    "We saw above that the number of tournaments from each dataframe is `not` consistent.  For now, my best attempt would be:\n",
    "\n",
    "- first: make a list of tournaments from each dataframe obtained from csv files in the folder, matches.\n",
    "\n",
    "- second: gather all the lists and take the intersection and see how many tournaments it keeps."
   ]
  },
  {
   "cell_type": "code",
   "execution_count": 18,
   "metadata": {},
   "outputs": [
    {
     "name": "stderr",
     "output_type": "stream",
     "text": [
      "/var/folders/5l/9ggb45sn6nzb744shb8z4c680000gn/T/ipykernel_2201/293177338.py:9: DtypeWarning: Columns (17) have mixed types. Specify dtype option on import or set low_memory=False.\n",
      "  tournaments[file] = pd.read_csv(filename).Tournament.unique()\n",
      "/var/folders/5l/9ggb45sn6nzb744shb8z4c680000gn/T/ipykernel_2201/293177338.py:9: DtypeWarning: Columns (14) have mixed types. Specify dtype option on import or set low_memory=False.\n",
      "  tournaments[file] = pd.read_csv(filename).Tournament.unique()\n"
     ]
    }
   ],
   "source": [
    "# make the dictionary whose keys are file names and values are 1-dimensional ndarray.\n",
    "# we don't need teampping here because it doesn't have \"Tournament\" feature.\n",
    "data_files = [\"draft_phase\", \"eco_rounds\", \"eco_stats\", \"kills_stats\",\n",
    "              \"kills\", \"maps_played\", \"maps_scores\", \"overview\", \"rounds_kills\",\n",
    "              \"scores\", \"win_loss_methods_count\", \"win_loss_methods_round_number\"]\n",
    "tournaments = {}\n",
    "for file in data_files:\n",
    "    filename = f\"../data/vct_2021/matches/{file}.csv\"\n",
    "    tournaments[file] = pd.read_csv(filename).Tournament.unique()"
   ]
  },
  {
   "cell_type": "code",
   "execution_count": 19,
   "metadata": {},
   "outputs": [
    {
     "name": "stdout",
     "output_type": "stream",
     "text": [
      "The number of unique tournaments of each file.\n",
      "draft_phase: 79\n",
      "eco_rounds: 101\n",
      "eco_stats: 101\n",
      "kills_stats: 101\n",
      "kills: 101\n",
      "maps_played: 142\n",
      "maps_scores: 142\n",
      "overview: 142\n",
      "rounds_kills: 101\n",
      "scores: 142\n",
      "win_loss_methods_count: 142\n",
      "win_loss_methods_round_number: 142\n"
     ]
    }
   ],
   "source": [
    "print(\"The number of unique tournaments of each file.\")\n",
    "for file, df in tournaments.items():\n",
    "    print(f\"{file}: {len(df)}\")"
   ]
  },
  {
   "attachments": {},
   "cell_type": "markdown",
   "metadata": {},
   "source": [
    "I would like to organize these files with respect to the number of unique tournaments."
   ]
  },
  {
   "cell_type": "code",
   "execution_count": 20,
   "metadata": {},
   "outputs": [
    {
     "data": {
      "text/plain": [
       "{79: ['draft_phase'],\n",
       " 101: ['eco_rounds', 'eco_stats', 'kills_stats', 'kills', 'rounds_kills'],\n",
       " 142: ['maps_played',\n",
       "  'maps_scores',\n",
       "  'overview',\n",
       "  'scores',\n",
       "  'win_loss_methods_count',\n",
       "  'win_loss_methods_round_number']}"
      ]
     },
     "execution_count": 20,
     "metadata": {},
     "output_type": "execute_result"
    }
   ],
   "source": [
    "files_by_tnmt_len = {}\n",
    "\n",
    "for file, df in tournaments.items():\n",
    "    if len(df) in files_by_tnmt_len:\n",
    "        files_by_tnmt_len[len(df)].append(file)\n",
    "    else:\n",
    "        files_by_tnmt_len[len(df)] = [file]\n",
    "\n",
    "files_by_tnmt_len"
   ]
  },
  {
   "attachments": {},
   "cell_type": "markdown",
   "metadata": {},
   "source": [
    "My goal in this note is to find the list of tournaments that every file has or to figure out what tournaments are missing from each file.\n",
    "\n",
    "- `Claim`: If \"file1\" and \"file2\" have the same length of unique tournaments, then they have the same unique tournaments.\n",
    "\n",
    "Let me first define a funtion which will be used to show this claim."
   ]
  },
  {
   "cell_type": "code",
   "execution_count": 21,
   "metadata": {},
   "outputs": [],
   "source": [
    "def not_in_the_other(a: list, b: list) -> list: \n",
    "    '''\n",
    "    input: a pair of lists\n",
    "    return: the list of elements which are in the list a, but not in b.\n",
    "    '''\n",
    "    not_in_b = []\n",
    "    for i in a:\n",
    "        if i not in b:\n",
    "            not_in_b.append(i)\n",
    "            \n",
    "    return not_in_b\n",
    "\n",
    "def all_pairs(k: int) -> list:\n",
    "    '''\n",
    "    input: a postive integer k bigger than 1\n",
    "    return: list of all pairs from 0,1,2,...,k-1.  Two elements in a pair are different.\n",
    "    '''\n",
    "    if k < 2:\n",
    "        return print(\"input needs to be an integer bigger than 1\")\n",
    "    \n",
    "    else:\n",
    "        pairs = []\n",
    "        for i in range(k):\n",
    "            n = i\n",
    "            m = i+1\n",
    "            while m < k:\n",
    "                pairs.append((n,m))\n",
    "                m += 1\n",
    "        return pairs"
   ]
  },
  {
   "cell_type": "code",
   "execution_count": 22,
   "metadata": {},
   "outputs": [
    {
     "name": "stdout",
     "output_type": "stream",
     "text": [
      "Check if all the files, having 79 many tournaments, share the same tournaments.\n",
      "There is only one file with 79 many tournaments.\n",
      "====================\n",
      "Check if all the files, having 101 many tournaments, share the same tournaments.\n",
      "All files have the same tournaments as we want.\n",
      "====================\n",
      "Check if all the files, having 142 many tournaments, share the same tournaments.\n",
      "All files have the same tournaments as we want.\n",
      "====================\n"
     ]
    }
   ],
   "source": [
    "for length, file_list in files_by_tnmt_len.items():\n",
    "    print(f\"Check if all the files, having {length} many tournaments, share the same tournaments.\")\n",
    "    if len(file_list) == 1:\n",
    "        print(f\"There is only one file with {length} many tournaments.\")\n",
    "    else:\n",
    "        pair_ind = all_pairs(len(file_list))\n",
    "        diff_pair_ind = []\n",
    "\n",
    "        for i, j in pair_ind:\n",
    "            not_in_intersection = not_in_the_other(tournaments[file_list[i]], tournaments[file_list[j]])\n",
    "            if not_in_intersection != []:\n",
    "                print(not_in_intersection)\n",
    "                diff_pair_ind.append((i, j))\n",
    "\n",
    "        if len(diff_pair_ind) > 0:\n",
    "            for i, j in diff_pair_ind:\n",
    "                print(f\"{file_list[i]} and {file_list[j]} have different tournaments.\")\n",
    "        else:\n",
    "            print(\"All files have the same tournaments as we want.\")\n",
    "    print(\"====================\")"
   ]
  },
  {
   "attachments": {},
   "cell_type": "markdown",
   "metadata": {},
   "source": [
    "The above observation boils down to the three cases: 79, 101, 142 many tournaments.\n",
    "\n",
    "I will check below if those 79 tournaments are the subset of 101 tournaments and 101 tournaments are the subset of 142 tournaments.\n",
    "\n",
    "To do this, we can simply used the funtion \"not_in_the_other\"\n",
    "\n",
    "Remark: \"draft_phase\" has 79, \"eco_rounds\" has 101 and \"maps_played\" has 142 tournaments, respectively."
   ]
  },
  {
   "cell_type": "code",
   "execution_count": 23,
   "metadata": {},
   "outputs": [
    {
     "name": "stdout",
     "output_type": "stream",
     "text": [
      "['Champions Tour North America Stage 1: Masters'] is not in 101 many tournaments.\n"
     ]
    }
   ],
   "source": [
    "### 79 tournaments are in 101 tournaments?\n",
    "missing_tnmt = not_in_the_other(tournaments[\"draft_phase\"], tournaments[\"eco_rounds\"])\n",
    "if missing_tnmt:\n",
    "    print(missing_tnmt, \"is not in 101 many tournaments.\")\n",
    "else:\n",
    "    print(\"We are good!\")"
   ]
  },
  {
   "cell_type": "code",
   "execution_count": 24,
   "metadata": {},
   "outputs": [
    {
     "name": "stdout",
     "output_type": "stream",
     "text": [
      "We are good!\n"
     ]
    }
   ],
   "source": [
    "### 101 tournaments are in 142 tournaments?\n",
    "missing_tnmt = not_in_the_other(tournaments[\"eco_rounds\"], tournaments[\"maps_played\"])\n",
    "if missing_tnmt:\n",
    "    print(missing_tnmt, \"is not in 101 many tournaments.\")\n",
    "else:\n",
    "    print(\"We are good!\")"
   ]
  },
  {
   "attachments": {},
   "cell_type": "markdown",
   "metadata": {},
   "source": [
    "### Conclusion:\n",
    "'Champions Tour North America Stage 1: Masters' is not in 101 many tournaments.  Thus, we can say we have \"full\" data for 78 tournaments.\\\n",
    "I checked the source website and saw there were total 142 tournaments, so the person who made this kaggle data either forgot to scrape some data or couldn't find them from the source website.\\\n",
    "It's possible that some features, such as \"draft_phase\", \"eco_rounds\", \"kills_stats\", were not provided for some tournaments.\\\n",
    "However, 'Champions Tour North America Stage 1: Masters' was a one of the bigger tournaments, so we should be able to find those missing data.\n",
    "\n",
    "#### We have two options:\n",
    "- work with 79 tournaments (after finding missing data for 'Champions Tour North America Stage 1: Masters') or\n",
    "\n",
    "- find the data of the (142-79 = 63) missing tournaments from the source website or somewhere else."
   ]
  }
 ],
 "metadata": {
  "kernelspec": {
   "display_name": "vct",
   "language": "python",
   "name": "python3"
  },
  "language_info": {
   "codemirror_mode": {
    "name": "ipython",
    "version": 3
   },
   "file_extension": ".py",
   "mimetype": "text/x-python",
   "name": "python",
   "nbconvert_exporter": "python",
   "pygments_lexer": "ipython3",
   "version": "3.10.13"
  },
  "orig_nbformat": 4,
  "vscode": {
   "interpreter": {
    "hash": "dff9a28c025b256e3dd07773b16d01fc7f1d9c1504d50adf5be320b8d91345d8"
   }
  }
 },
 "nbformat": 4,
 "nbformat_minor": 2
}
