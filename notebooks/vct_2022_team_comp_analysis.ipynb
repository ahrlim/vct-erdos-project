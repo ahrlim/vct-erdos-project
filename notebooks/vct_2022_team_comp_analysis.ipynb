{
 "cells": [
  {
   "cell_type": "code",
   "execution_count": 82,
   "metadata": {},
   "outputs": [],
   "source": [
    "import pandas as pd\n",
    "from IPython.display import HTML"
   ]
  },
  {
   "cell_type": "code",
   "execution_count": 83,
   "metadata": {},
   "outputs": [],
   "source": [
    "# The function below is useful when I disply dataframes.\n",
    "# We can display multiple dataframes side by side.\n",
    "def side_by_side(*dfs):\n",
    "    html = '<div style=\"display:flex\">'\n",
    "    for df in dfs:\n",
    "        html += '<div style=\"margin-right: 2em\">'\n",
    "        html += df.to_html()\n",
    "        html += '</div>'\n",
    "    html += '</div>'\n",
    "    display(HTML(html))"
   ]
  },
  {
   "cell_type": "code",
   "execution_count": 84,
   "metadata": {},
   "outputs": [
    {
     "data": {
      "text/html": [
       "<div>\n",
       "<style scoped>\n",
       "    .dataframe tbody tr th:only-of-type {\n",
       "        vertical-align: middle;\n",
       "    }\n",
       "\n",
       "    .dataframe tbody tr th {\n",
       "        vertical-align: top;\n",
       "    }\n",
       "\n",
       "    .dataframe thead th {\n",
       "        text-align: right;\n",
       "    }\n",
       "</style>\n",
       "<table border=\"1\" class=\"dataframe\">\n",
       "  <thead>\n",
       "    <tr style=\"text-align: right;\">\n",
       "      <th></th>\n",
       "      <th>Tournament</th>\n",
       "      <th>Stage</th>\n",
       "      <th>Match Type</th>\n",
       "      <th>Match Name</th>\n",
       "      <th>Map</th>\n",
       "      <th>Team A</th>\n",
       "      <th>Team A Score</th>\n",
       "      <th>Team A Attacker Score</th>\n",
       "      <th>Team A Defender Score</th>\n",
       "      <th>Team A Overtime Score</th>\n",
       "      <th>Team B</th>\n",
       "      <th>Team B Score</th>\n",
       "      <th>Team B Attacker Score</th>\n",
       "      <th>Team B Defender Score</th>\n",
       "      <th>Team B Overtime Score</th>\n",
       "      <th>Duration</th>\n",
       "    </tr>\n",
       "  </thead>\n",
       "  <tbody>\n",
       "    <tr>\n",
       "      <th>0</th>\n",
       "      <td>Valorant Champions 2022</td>\n",
       "      <td>Group Stage</td>\n",
       "      <td>Opening (A)</td>\n",
       "      <td>Paper Rex vs EDward Gaming</td>\n",
       "      <td>Pearl</td>\n",
       "      <td>Paper Rex</td>\n",
       "      <td>13</td>\n",
       "      <td>6</td>\n",
       "      <td>7</td>\n",
       "      <td>NaN</td>\n",
       "      <td>EDward Gaming</td>\n",
       "      <td>11</td>\n",
       "      <td>5</td>\n",
       "      <td>6</td>\n",
       "      <td>NaN</td>\n",
       "      <td>1:16:34</td>\n",
       "    </tr>\n",
       "    <tr>\n",
       "      <th>1</th>\n",
       "      <td>Valorant Champions 2022</td>\n",
       "      <td>Group Stage</td>\n",
       "      <td>Opening (A)</td>\n",
       "      <td>Paper Rex vs EDward Gaming</td>\n",
       "      <td>Icebox</td>\n",
       "      <td>Paper Rex</td>\n",
       "      <td>5</td>\n",
       "      <td>2</td>\n",
       "      <td>3</td>\n",
       "      <td>NaN</td>\n",
       "      <td>EDward Gaming</td>\n",
       "      <td>13</td>\n",
       "      <td>3</td>\n",
       "      <td>10</td>\n",
       "      <td>NaN</td>\n",
       "      <td>40:51</td>\n",
       "    </tr>\n",
       "    <tr>\n",
       "      <th>2</th>\n",
       "      <td>Valorant Champions 2022</td>\n",
       "      <td>Group Stage</td>\n",
       "      <td>Opening (A)</td>\n",
       "      <td>Paper Rex vs EDward Gaming</td>\n",
       "      <td>Haven</td>\n",
       "      <td>Paper Rex</td>\n",
       "      <td>13</td>\n",
       "      <td>7</td>\n",
       "      <td>6</td>\n",
       "      <td>NaN</td>\n",
       "      <td>EDward Gaming</td>\n",
       "      <td>8</td>\n",
       "      <td>3</td>\n",
       "      <td>5</td>\n",
       "      <td>NaN</td>\n",
       "      <td>NaN</td>\n",
       "    </tr>\n",
       "    <tr>\n",
       "      <th>3</th>\n",
       "      <td>Valorant Champions 2022</td>\n",
       "      <td>Group Stage</td>\n",
       "      <td>Opening (A)</td>\n",
       "      <td>Leviatán vs Team Liquid</td>\n",
       "      <td>Haven</td>\n",
       "      <td>Leviatán</td>\n",
       "      <td>13</td>\n",
       "      <td>8</td>\n",
       "      <td>5</td>\n",
       "      <td>NaN</td>\n",
       "      <td>Team Liquid</td>\n",
       "      <td>10</td>\n",
       "      <td>6</td>\n",
       "      <td>4</td>\n",
       "      <td>NaN</td>\n",
       "      <td>1:04:37</td>\n",
       "    </tr>\n",
       "    <tr>\n",
       "      <th>4</th>\n",
       "      <td>Valorant Champions 2022</td>\n",
       "      <td>Group Stage</td>\n",
       "      <td>Opening (A)</td>\n",
       "      <td>Leviatán vs Team Liquid</td>\n",
       "      <td>Ascent</td>\n",
       "      <td>Leviatán</td>\n",
       "      <td>13</td>\n",
       "      <td>6</td>\n",
       "      <td>7</td>\n",
       "      <td>NaN</td>\n",
       "      <td>Team Liquid</td>\n",
       "      <td>10</td>\n",
       "      <td>4</td>\n",
       "      <td>6</td>\n",
       "      <td>NaN</td>\n",
       "      <td>1:05:07</td>\n",
       "    </tr>\n",
       "  </tbody>\n",
       "</table>\n",
       "</div>"
      ],
      "text/plain": [
       "                Tournament        Stage   Match Type  \\\n",
       "0  Valorant Champions 2022  Group Stage  Opening (A)   \n",
       "1  Valorant Champions 2022  Group Stage  Opening (A)   \n",
       "2  Valorant Champions 2022  Group Stage  Opening (A)   \n",
       "3  Valorant Champions 2022  Group Stage  Opening (A)   \n",
       "4  Valorant Champions 2022  Group Stage  Opening (A)   \n",
       "\n",
       "                   Match Name     Map     Team A  Team A Score  \\\n",
       "0  Paper Rex vs EDward Gaming   Pearl  Paper Rex            13   \n",
       "1  Paper Rex vs EDward Gaming  Icebox  Paper Rex             5   \n",
       "2  Paper Rex vs EDward Gaming   Haven  Paper Rex            13   \n",
       "3     Leviatán vs Team Liquid   Haven   Leviatán            13   \n",
       "4     Leviatán vs Team Liquid  Ascent   Leviatán            13   \n",
       "\n",
       "   Team A Attacker Score  Team A Defender Score  Team A Overtime Score  \\\n",
       "0                      6                      7                    NaN   \n",
       "1                      2                      3                    NaN   \n",
       "2                      7                      6                    NaN   \n",
       "3                      8                      5                    NaN   \n",
       "4                      6                      7                    NaN   \n",
       "\n",
       "          Team B  Team B Score  Team B Attacker Score  Team B Defender Score  \\\n",
       "0  EDward Gaming            11                      5                      6   \n",
       "1  EDward Gaming            13                      3                     10   \n",
       "2  EDward Gaming             8                      3                      5   \n",
       "3    Team Liquid            10                      6                      4   \n",
       "4    Team Liquid            10                      4                      6   \n",
       "\n",
       "   Team B Overtime Score Duration  \n",
       "0                    NaN  1:16:34  \n",
       "1                    NaN    40:51  \n",
       "2                    NaN      NaN  \n",
       "3                    NaN  1:04:37  \n",
       "4                    NaN  1:05:07  "
      ]
     },
     "execution_count": 84,
     "metadata": {},
     "output_type": "execute_result"
    }
   ],
   "source": [
    "maps_scores = pd.read_csv(\"../data/vct_2022/matches/maps_scores.csv\")\n",
    "maps_scores.head()"
   ]
  },
  {
   "cell_type": "code",
   "execution_count": 85,
   "metadata": {},
   "outputs": [
    {
     "data": {
      "text/html": [
       "<div>\n",
       "<style scoped>\n",
       "    .dataframe tbody tr th:only-of-type {\n",
       "        vertical-align: middle;\n",
       "    }\n",
       "\n",
       "    .dataframe tbody tr th {\n",
       "        vertical-align: top;\n",
       "    }\n",
       "\n",
       "    .dataframe thead th {\n",
       "        text-align: right;\n",
       "    }\n",
       "</style>\n",
       "<table border=\"1\" class=\"dataframe\">\n",
       "  <thead>\n",
       "    <tr style=\"text-align: right;\">\n",
       "      <th></th>\n",
       "      <th>Tournament</th>\n",
       "      <th>Stage</th>\n",
       "      <th>Match Type</th>\n",
       "      <th>Match Name</th>\n",
       "      <th>Map</th>\n",
       "      <th>Player</th>\n",
       "      <th>Team</th>\n",
       "      <th>Agents</th>\n",
       "      <th>Rating</th>\n",
       "      <th>Average Combat Score</th>\n",
       "      <th>...</th>\n",
       "      <th>Deaths</th>\n",
       "      <th>Assists</th>\n",
       "      <th>Kills - Deaths (KD)</th>\n",
       "      <th>Kill, Assist, Trade, Survive %</th>\n",
       "      <th>Average Damage per Round</th>\n",
       "      <th>Headshot %</th>\n",
       "      <th>First Kills</th>\n",
       "      <th>First Deaths</th>\n",
       "      <th>Kills - Deaths (FKD)</th>\n",
       "      <th>Side</th>\n",
       "    </tr>\n",
       "  </thead>\n",
       "  <tbody>\n",
       "    <tr>\n",
       "      <th>0</th>\n",
       "      <td>Valorant Champions 2022</td>\n",
       "      <td>Group Stage</td>\n",
       "      <td>Opening (A)</td>\n",
       "      <td>Paper Rex vs EDward Gaming</td>\n",
       "      <td>Pearl</td>\n",
       "      <td>Benkai</td>\n",
       "      <td>Paper Rex</td>\n",
       "      <td>fade</td>\n",
       "      <td>1.31</td>\n",
       "      <td>242.0</td>\n",
       "      <td>...</td>\n",
       "      <td>16.0</td>\n",
       "      <td>13.0</td>\n",
       "      <td>6.0</td>\n",
       "      <td>88%</td>\n",
       "      <td>156.0</td>\n",
       "      <td>34%</td>\n",
       "      <td>1.0</td>\n",
       "      <td>0.0</td>\n",
       "      <td>1.0</td>\n",
       "      <td>both</td>\n",
       "    </tr>\n",
       "    <tr>\n",
       "      <th>1</th>\n",
       "      <td>Valorant Champions 2022</td>\n",
       "      <td>Group Stage</td>\n",
       "      <td>Opening (A)</td>\n",
       "      <td>Paper Rex vs EDward Gaming</td>\n",
       "      <td>Pearl</td>\n",
       "      <td>Benkai</td>\n",
       "      <td>Paper Rex</td>\n",
       "      <td>fade</td>\n",
       "      <td>1.18</td>\n",
       "      <td>243.0</td>\n",
       "      <td>...</td>\n",
       "      <td>9.0</td>\n",
       "      <td>5.0</td>\n",
       "      <td>2.0</td>\n",
       "      <td>75%</td>\n",
       "      <td>167.0</td>\n",
       "      <td>32%</td>\n",
       "      <td>0.0</td>\n",
       "      <td>0.0</td>\n",
       "      <td>0.0</td>\n",
       "      <td>attack</td>\n",
       "    </tr>\n",
       "    <tr>\n",
       "      <th>2</th>\n",
       "      <td>Valorant Champions 2022</td>\n",
       "      <td>Group Stage</td>\n",
       "      <td>Opening (A)</td>\n",
       "      <td>Paper Rex vs EDward Gaming</td>\n",
       "      <td>Pearl</td>\n",
       "      <td>Benkai</td>\n",
       "      <td>Paper Rex</td>\n",
       "      <td>fade</td>\n",
       "      <td>1.45</td>\n",
       "      <td>242.0</td>\n",
       "      <td>...</td>\n",
       "      <td>7.0</td>\n",
       "      <td>8.0</td>\n",
       "      <td>4.0</td>\n",
       "      <td>100%</td>\n",
       "      <td>146.0</td>\n",
       "      <td>35%</td>\n",
       "      <td>1.0</td>\n",
       "      <td>0.0</td>\n",
       "      <td>1.0</td>\n",
       "      <td>defend</td>\n",
       "    </tr>\n",
       "    <tr>\n",
       "      <th>3</th>\n",
       "      <td>Valorant Champions 2022</td>\n",
       "      <td>Group Stage</td>\n",
       "      <td>Opening (A)</td>\n",
       "      <td>Paper Rex vs EDward Gaming</td>\n",
       "      <td>Pearl</td>\n",
       "      <td>d4v41</td>\n",
       "      <td>Paper Rex</td>\n",
       "      <td>sage</td>\n",
       "      <td>1.15</td>\n",
       "      <td>219.0</td>\n",
       "      <td>...</td>\n",
       "      <td>16.0</td>\n",
       "      <td>7.0</td>\n",
       "      <td>4.0</td>\n",
       "      <td>88%</td>\n",
       "      <td>140.0</td>\n",
       "      <td>33%</td>\n",
       "      <td>0.0</td>\n",
       "      <td>4.0</td>\n",
       "      <td>-4.0</td>\n",
       "      <td>both</td>\n",
       "    </tr>\n",
       "    <tr>\n",
       "      <th>4</th>\n",
       "      <td>Valorant Champions 2022</td>\n",
       "      <td>Group Stage</td>\n",
       "      <td>Opening (A)</td>\n",
       "      <td>Paper Rex vs EDward Gaming</td>\n",
       "      <td>Pearl</td>\n",
       "      <td>d4v41</td>\n",
       "      <td>Paper Rex</td>\n",
       "      <td>sage</td>\n",
       "      <td>1.04</td>\n",
       "      <td>222.0</td>\n",
       "      <td>...</td>\n",
       "      <td>9.0</td>\n",
       "      <td>4.0</td>\n",
       "      <td>1.0</td>\n",
       "      <td>100%</td>\n",
       "      <td>147.0</td>\n",
       "      <td>29%</td>\n",
       "      <td>0.0</td>\n",
       "      <td>2.0</td>\n",
       "      <td>-2.0</td>\n",
       "      <td>attack</td>\n",
       "    </tr>\n",
       "  </tbody>\n",
       "</table>\n",
       "<p>5 rows × 21 columns</p>\n",
       "</div>"
      ],
      "text/plain": [
       "                Tournament        Stage   Match Type  \\\n",
       "0  Valorant Champions 2022  Group Stage  Opening (A)   \n",
       "1  Valorant Champions 2022  Group Stage  Opening (A)   \n",
       "2  Valorant Champions 2022  Group Stage  Opening (A)   \n",
       "3  Valorant Champions 2022  Group Stage  Opening (A)   \n",
       "4  Valorant Champions 2022  Group Stage  Opening (A)   \n",
       "\n",
       "                   Match Name    Map  Player       Team Agents  Rating  \\\n",
       "0  Paper Rex vs EDward Gaming  Pearl  Benkai  Paper Rex   fade    1.31   \n",
       "1  Paper Rex vs EDward Gaming  Pearl  Benkai  Paper Rex   fade    1.18   \n",
       "2  Paper Rex vs EDward Gaming  Pearl  Benkai  Paper Rex   fade    1.45   \n",
       "3  Paper Rex vs EDward Gaming  Pearl   d4v41  Paper Rex   sage    1.15   \n",
       "4  Paper Rex vs EDward Gaming  Pearl   d4v41  Paper Rex   sage    1.04   \n",
       "\n",
       "   Average Combat Score  ...  Deaths  Assists  Kills - Deaths (KD)  \\\n",
       "0                 242.0  ...    16.0     13.0                  6.0   \n",
       "1                 243.0  ...     9.0      5.0                  2.0   \n",
       "2                 242.0  ...     7.0      8.0                  4.0   \n",
       "3                 219.0  ...    16.0      7.0                  4.0   \n",
       "4                 222.0  ...     9.0      4.0                  1.0   \n",
       "\n",
       "   Kill, Assist, Trade, Survive % Average Damage per Round  Headshot %  \\\n",
       "0                             88%                    156.0         34%   \n",
       "1                             75%                    167.0         32%   \n",
       "2                            100%                    146.0         35%   \n",
       "3                             88%                    140.0         33%   \n",
       "4                            100%                    147.0         29%   \n",
       "\n",
       "  First Kills  First Deaths  Kills - Deaths (FKD)    Side  \n",
       "0         1.0           0.0                   1.0    both  \n",
       "1         0.0           0.0                   0.0  attack  \n",
       "2         1.0           0.0                   1.0  defend  \n",
       "3         0.0           4.0                  -4.0    both  \n",
       "4         0.0           2.0                  -2.0  attack  \n",
       "\n",
       "[5 rows x 21 columns]"
      ]
     },
     "execution_count": 85,
     "metadata": {},
     "output_type": "execute_result"
    }
   ],
   "source": [
    "overview = pd.read_csv(\"../data/vct_2022/matches/overview.csv\")\n",
    "overview[\"Agents\"] = overview[\"Agents\"].apply(lambda x: str(x).replace(\" \",\"\"))\n",
    "overview[\"Player\"] = overview[\"Player\"].apply(lambda x: str(x).replace(\" \",\"\"))\n",
    "overview.head()"
   ]
  },
  {
   "cell_type": "code",
   "execution_count": 86,
   "metadata": {},
   "outputs": [],
   "source": [
    "# We don't need all rows from \"overview\" and the following are index.\n",
    "ind1 = (overview.Map != \"All Maps\")    \n",
    "ind2 = (overview.Side == \"both\")\n",
    "ind = (ind1 & ind2)\n",
    "\n",
    "# We also need only the following features from overview and maps_scores.\n",
    "overview_keystolook = [\"Tournament\", \"Stage\", \"Match Type\", \"Match Name\", \"Map\", \"Team\", \"Agents\"]\n",
    "maps_scores_keystolook = [\"Tournament\", \"Stage\", \"Match Type\", \"Match Name\", \"Map\", \"Team A\", \"Team A Score\", \"Team B\", \"Team B Score\"]"
   ]
  },
  {
   "cell_type": "code",
   "execution_count": 87,
   "metadata": {},
   "outputs": [
    {
     "data": {
      "text/html": [
       "<div>\n",
       "<style scoped>\n",
       "    .dataframe tbody tr th:only-of-type {\n",
       "        vertical-align: middle;\n",
       "    }\n",
       "\n",
       "    .dataframe tbody tr th {\n",
       "        vertical-align: top;\n",
       "    }\n",
       "\n",
       "    .dataframe thead th {\n",
       "        text-align: right;\n",
       "    }\n",
       "</style>\n",
       "<table border=\"1\" class=\"dataframe\">\n",
       "  <thead>\n",
       "    <tr style=\"text-align: right;\">\n",
       "      <th></th>\n",
       "      <th>Tournament</th>\n",
       "      <th>Stage</th>\n",
       "      <th>Match Type</th>\n",
       "      <th>Match Name</th>\n",
       "      <th>Map</th>\n",
       "      <th>Team</th>\n",
       "      <th>Agents</th>\n",
       "    </tr>\n",
       "  </thead>\n",
       "  <tbody>\n",
       "    <tr>\n",
       "      <th>0</th>\n",
       "      <td>Valorant Champions 2022</td>\n",
       "      <td>Group Stage</td>\n",
       "      <td>Opening (A)</td>\n",
       "      <td>Paper Rex vs EDward Gaming</td>\n",
       "      <td>Pearl</td>\n",
       "      <td>Paper Rex</td>\n",
       "      <td>fade</td>\n",
       "    </tr>\n",
       "    <tr>\n",
       "      <th>3</th>\n",
       "      <td>Valorant Champions 2022</td>\n",
       "      <td>Group Stage</td>\n",
       "      <td>Opening (A)</td>\n",
       "      <td>Paper Rex vs EDward Gaming</td>\n",
       "      <td>Pearl</td>\n",
       "      <td>Paper Rex</td>\n",
       "      <td>sage</td>\n",
       "    </tr>\n",
       "    <tr>\n",
       "      <th>6</th>\n",
       "      <td>Valorant Champions 2022</td>\n",
       "      <td>Group Stage</td>\n",
       "      <td>Opening (A)</td>\n",
       "      <td>Paper Rex vs EDward Gaming</td>\n",
       "      <td>Pearl</td>\n",
       "      <td>Paper Rex</td>\n",
       "      <td>astra</td>\n",
       "    </tr>\n",
       "    <tr>\n",
       "      <th>9</th>\n",
       "      <td>Valorant Champions 2022</td>\n",
       "      <td>Group Stage</td>\n",
       "      <td>Opening (A)</td>\n",
       "      <td>Paper Rex vs EDward Gaming</td>\n",
       "      <td>Pearl</td>\n",
       "      <td>Paper Rex</td>\n",
       "      <td>chamber</td>\n",
       "    </tr>\n",
       "    <tr>\n",
       "      <th>12</th>\n",
       "      <td>Valorant Champions 2022</td>\n",
       "      <td>Group Stage</td>\n",
       "      <td>Opening (A)</td>\n",
       "      <td>Paper Rex vs EDward Gaming</td>\n",
       "      <td>Pearl</td>\n",
       "      <td>Paper Rex</td>\n",
       "      <td>raze</td>\n",
       "    </tr>\n",
       "  </tbody>\n",
       "</table>\n",
       "</div>"
      ],
      "text/plain": [
       "                 Tournament        Stage   Match Type  \\\n",
       "0   Valorant Champions 2022  Group Stage  Opening (A)   \n",
       "3   Valorant Champions 2022  Group Stage  Opening (A)   \n",
       "6   Valorant Champions 2022  Group Stage  Opening (A)   \n",
       "9   Valorant Champions 2022  Group Stage  Opening (A)   \n",
       "12  Valorant Champions 2022  Group Stage  Opening (A)   \n",
       "\n",
       "                    Match Name    Map       Team   Agents  \n",
       "0   Paper Rex vs EDward Gaming  Pearl  Paper Rex     fade  \n",
       "3   Paper Rex vs EDward Gaming  Pearl  Paper Rex     sage  \n",
       "6   Paper Rex vs EDward Gaming  Pearl  Paper Rex    astra  \n",
       "9   Paper Rex vs EDward Gaming  Pearl  Paper Rex  chamber  \n",
       "12  Paper Rex vs EDward Gaming  Pearl  Paper Rex     raze  "
      ]
     },
     "metadata": {},
     "output_type": "display_data"
    },
    {
     "data": {
      "text/html": [
       "<div>\n",
       "<style scoped>\n",
       "    .dataframe tbody tr th:only-of-type {\n",
       "        vertical-align: middle;\n",
       "    }\n",
       "\n",
       "    .dataframe tbody tr th {\n",
       "        vertical-align: top;\n",
       "    }\n",
       "\n",
       "    .dataframe thead th {\n",
       "        text-align: right;\n",
       "    }\n",
       "</style>\n",
       "<table border=\"1\" class=\"dataframe\">\n",
       "  <thead>\n",
       "    <tr style=\"text-align: right;\">\n",
       "      <th></th>\n",
       "      <th>Tournament</th>\n",
       "      <th>Stage</th>\n",
       "      <th>Match Type</th>\n",
       "      <th>Match Name</th>\n",
       "      <th>Map</th>\n",
       "      <th>Team A</th>\n",
       "      <th>Team A Score</th>\n",
       "      <th>Team B</th>\n",
       "      <th>Team B Score</th>\n",
       "    </tr>\n",
       "  </thead>\n",
       "  <tbody>\n",
       "    <tr>\n",
       "      <th>0</th>\n",
       "      <td>Valorant Champions 2022</td>\n",
       "      <td>Group Stage</td>\n",
       "      <td>Opening (A)</td>\n",
       "      <td>Paper Rex vs EDward Gaming</td>\n",
       "      <td>Pearl</td>\n",
       "      <td>Paper Rex</td>\n",
       "      <td>13</td>\n",
       "      <td>EDward Gaming</td>\n",
       "      <td>11</td>\n",
       "    </tr>\n",
       "    <tr>\n",
       "      <th>1</th>\n",
       "      <td>Valorant Champions 2022</td>\n",
       "      <td>Group Stage</td>\n",
       "      <td>Opening (A)</td>\n",
       "      <td>Paper Rex vs EDward Gaming</td>\n",
       "      <td>Icebox</td>\n",
       "      <td>Paper Rex</td>\n",
       "      <td>5</td>\n",
       "      <td>EDward Gaming</td>\n",
       "      <td>13</td>\n",
       "    </tr>\n",
       "    <tr>\n",
       "      <th>2</th>\n",
       "      <td>Valorant Champions 2022</td>\n",
       "      <td>Group Stage</td>\n",
       "      <td>Opening (A)</td>\n",
       "      <td>Paper Rex vs EDward Gaming</td>\n",
       "      <td>Haven</td>\n",
       "      <td>Paper Rex</td>\n",
       "      <td>13</td>\n",
       "      <td>EDward Gaming</td>\n",
       "      <td>8</td>\n",
       "    </tr>\n",
       "    <tr>\n",
       "      <th>3</th>\n",
       "      <td>Valorant Champions 2022</td>\n",
       "      <td>Group Stage</td>\n",
       "      <td>Opening (A)</td>\n",
       "      <td>Leviatán vs Team Liquid</td>\n",
       "      <td>Haven</td>\n",
       "      <td>Leviatán</td>\n",
       "      <td>13</td>\n",
       "      <td>Team Liquid</td>\n",
       "      <td>10</td>\n",
       "    </tr>\n",
       "    <tr>\n",
       "      <th>4</th>\n",
       "      <td>Valorant Champions 2022</td>\n",
       "      <td>Group Stage</td>\n",
       "      <td>Opening (A)</td>\n",
       "      <td>Leviatán vs Team Liquid</td>\n",
       "      <td>Ascent</td>\n",
       "      <td>Leviatán</td>\n",
       "      <td>13</td>\n",
       "      <td>Team Liquid</td>\n",
       "      <td>10</td>\n",
       "    </tr>\n",
       "  </tbody>\n",
       "</table>\n",
       "</div>"
      ],
      "text/plain": [
       "                Tournament        Stage   Match Type  \\\n",
       "0  Valorant Champions 2022  Group Stage  Opening (A)   \n",
       "1  Valorant Champions 2022  Group Stage  Opening (A)   \n",
       "2  Valorant Champions 2022  Group Stage  Opening (A)   \n",
       "3  Valorant Champions 2022  Group Stage  Opening (A)   \n",
       "4  Valorant Champions 2022  Group Stage  Opening (A)   \n",
       "\n",
       "                   Match Name     Map     Team A  Team A Score         Team B  \\\n",
       "0  Paper Rex vs EDward Gaming   Pearl  Paper Rex            13  EDward Gaming   \n",
       "1  Paper Rex vs EDward Gaming  Icebox  Paper Rex             5  EDward Gaming   \n",
       "2  Paper Rex vs EDward Gaming   Haven  Paper Rex            13  EDward Gaming   \n",
       "3     Leviatán vs Team Liquid   Haven   Leviatán            13    Team Liquid   \n",
       "4     Leviatán vs Team Liquid  Ascent   Leviatán            13    Team Liquid   \n",
       "\n",
       "   Team B Score  \n",
       "0            11  \n",
       "1            13  \n",
       "2             8  \n",
       "3            10  \n",
       "4            10  "
      ]
     },
     "metadata": {},
     "output_type": "display_data"
    }
   ],
   "source": [
    "overview_subset = overview[ind][overview_keystolook]\n",
    "maps_scores_subset = maps_scores[maps_scores_keystolook]\n",
    "\n",
    "display(overview_subset.head())\n",
    "display(maps_scores_subset.head())"
   ]
  },
  {
   "cell_type": "code",
   "execution_count": 88,
   "metadata": {},
   "outputs": [],
   "source": [
    "# I want to define a funtion to get columns of individual characters to do linear regression on maps and agents.\n",
    "# The following dictionary has all available characters in 2022 tournaments.  Characters played in other years are contained in this dictionary.\n",
    "roles = {\"duelist\": {\"jett\", \"phoenix\", \"reyna\", \"raze\", \"yoru\", \"neon\"},\n",
    "             \"initiator\": {\"sova\", \"breach\", \"skye\", \"kayo\", \"fade\"},\n",
    "             \"controller\": {\"brimstone\", \"omen\", \"viper\", \"astra\"},\n",
    "             \"sentinel\": {\"cypher\", \"sage\", \"killjoy\", \"chamber\"}}  \n",
    "allagents = set()\n",
    "for role, agents in roles.items():\n",
    "    allagents = allagents.union(roles[role])"
   ]
  },
  {
   "cell_type": "code",
   "execution_count": 89,
   "metadata": {},
   "outputs": [
    {
     "data": {
      "text/html": [
       "<div>\n",
       "<style scoped>\n",
       "    .dataframe tbody tr th:only-of-type {\n",
       "        vertical-align: middle;\n",
       "    }\n",
       "\n",
       "    .dataframe tbody tr th {\n",
       "        vertical-align: top;\n",
       "    }\n",
       "\n",
       "    .dataframe thead th {\n",
       "        text-align: right;\n",
       "    }\n",
       "</style>\n",
       "<table border=\"1\" class=\"dataframe\">\n",
       "  <thead>\n",
       "    <tr style=\"text-align: right;\">\n",
       "      <th></th>\n",
       "      <th>Tournament</th>\n",
       "      <th>Stage</th>\n",
       "      <th>Match Type</th>\n",
       "      <th>Match Name</th>\n",
       "      <th>Map</th>\n",
       "      <th>Team</th>\n",
       "      <th>Agents</th>\n",
       "    </tr>\n",
       "  </thead>\n",
       "  <tbody>\n",
       "    <tr>\n",
       "      <th>0</th>\n",
       "      <td>Valorant Champions 2022</td>\n",
       "      <td>Group Stage</td>\n",
       "      <td>Opening (A)</td>\n",
       "      <td>Paper Rex vs EDward Gaming</td>\n",
       "      <td>Pearl</td>\n",
       "      <td>Paper Rex</td>\n",
       "      <td>fade</td>\n",
       "    </tr>\n",
       "    <tr>\n",
       "      <th>3</th>\n",
       "      <td>Valorant Champions 2022</td>\n",
       "      <td>Group Stage</td>\n",
       "      <td>Opening (A)</td>\n",
       "      <td>Paper Rex vs EDward Gaming</td>\n",
       "      <td>Pearl</td>\n",
       "      <td>Paper Rex</td>\n",
       "      <td>sage</td>\n",
       "    </tr>\n",
       "    <tr>\n",
       "      <th>6</th>\n",
       "      <td>Valorant Champions 2022</td>\n",
       "      <td>Group Stage</td>\n",
       "      <td>Opening (A)</td>\n",
       "      <td>Paper Rex vs EDward Gaming</td>\n",
       "      <td>Pearl</td>\n",
       "      <td>Paper Rex</td>\n",
       "      <td>astra</td>\n",
       "    </tr>\n",
       "    <tr>\n",
       "      <th>9</th>\n",
       "      <td>Valorant Champions 2022</td>\n",
       "      <td>Group Stage</td>\n",
       "      <td>Opening (A)</td>\n",
       "      <td>Paper Rex vs EDward Gaming</td>\n",
       "      <td>Pearl</td>\n",
       "      <td>Paper Rex</td>\n",
       "      <td>chamber</td>\n",
       "    </tr>\n",
       "    <tr>\n",
       "      <th>12</th>\n",
       "      <td>Valorant Champions 2022</td>\n",
       "      <td>Group Stage</td>\n",
       "      <td>Opening (A)</td>\n",
       "      <td>Paper Rex vs EDward Gaming</td>\n",
       "      <td>Pearl</td>\n",
       "      <td>Paper Rex</td>\n",
       "      <td>raze</td>\n",
       "    </tr>\n",
       "    <tr>\n",
       "      <th>...</th>\n",
       "      <td>...</td>\n",
       "      <td>...</td>\n",
       "      <td>...</td>\n",
       "      <td>...</td>\n",
       "      <td>...</td>\n",
       "      <td>...</td>\n",
       "      <td>...</td>\n",
       "    </tr>\n",
       "    <tr>\n",
       "      <th>379827</th>\n",
       "      <td>Champions Tour CIS Stage 1: Challengers 1</td>\n",
       "      <td>Closed Qualifier</td>\n",
       "      <td>Grand Final</td>\n",
       "      <td>Natus Vincere vs FunPlus Phoenix</td>\n",
       "      <td>Split</td>\n",
       "      <td>FunPlus Phoenix</td>\n",
       "      <td>raze</td>\n",
       "    </tr>\n",
       "    <tr>\n",
       "      <th>379830</th>\n",
       "      <td>Champions Tour CIS Stage 1: Challengers 1</td>\n",
       "      <td>Closed Qualifier</td>\n",
       "      <td>Grand Final</td>\n",
       "      <td>Natus Vincere vs FunPlus Phoenix</td>\n",
       "      <td>Split</td>\n",
       "      <td>FunPlus Phoenix</td>\n",
       "      <td>kayo</td>\n",
       "    </tr>\n",
       "    <tr>\n",
       "      <th>379833</th>\n",
       "      <td>Champions Tour CIS Stage 1: Challengers 1</td>\n",
       "      <td>Closed Qualifier</td>\n",
       "      <td>Grand Final</td>\n",
       "      <td>Natus Vincere vs FunPlus Phoenix</td>\n",
       "      <td>Split</td>\n",
       "      <td>FunPlus Phoenix</td>\n",
       "      <td>viper</td>\n",
       "    </tr>\n",
       "    <tr>\n",
       "      <th>379836</th>\n",
       "      <td>Champions Tour CIS Stage 1: Challengers 1</td>\n",
       "      <td>Closed Qualifier</td>\n",
       "      <td>Grand Final</td>\n",
       "      <td>Natus Vincere vs FunPlus Phoenix</td>\n",
       "      <td>Split</td>\n",
       "      <td>FunPlus Phoenix</td>\n",
       "      <td>astra</td>\n",
       "    </tr>\n",
       "    <tr>\n",
       "      <th>379839</th>\n",
       "      <td>Champions Tour CIS Stage 1: Challengers 1</td>\n",
       "      <td>Closed Qualifier</td>\n",
       "      <td>Grand Final</td>\n",
       "      <td>Natus Vincere vs FunPlus Phoenix</td>\n",
       "      <td>Split</td>\n",
       "      <td>FunPlus Phoenix</td>\n",
       "      <td>killjoy</td>\n",
       "    </tr>\n",
       "  </tbody>\n",
       "</table>\n",
       "<p>88362 rows × 7 columns</p>\n",
       "</div>"
      ],
      "text/plain": [
       "                                       Tournament             Stage  \\\n",
       "0                         Valorant Champions 2022       Group Stage   \n",
       "3                         Valorant Champions 2022       Group Stage   \n",
       "6                         Valorant Champions 2022       Group Stage   \n",
       "9                         Valorant Champions 2022       Group Stage   \n",
       "12                        Valorant Champions 2022       Group Stage   \n",
       "...                                           ...               ...   \n",
       "379827  Champions Tour CIS Stage 1: Challengers 1  Closed Qualifier   \n",
       "379830  Champions Tour CIS Stage 1: Challengers 1  Closed Qualifier   \n",
       "379833  Champions Tour CIS Stage 1: Challengers 1  Closed Qualifier   \n",
       "379836  Champions Tour CIS Stage 1: Challengers 1  Closed Qualifier   \n",
       "379839  Champions Tour CIS Stage 1: Challengers 1  Closed Qualifier   \n",
       "\n",
       "         Match Type                        Match Name    Map             Team  \\\n",
       "0       Opening (A)        Paper Rex vs EDward Gaming  Pearl        Paper Rex   \n",
       "3       Opening (A)        Paper Rex vs EDward Gaming  Pearl        Paper Rex   \n",
       "6       Opening (A)        Paper Rex vs EDward Gaming  Pearl        Paper Rex   \n",
       "9       Opening (A)        Paper Rex vs EDward Gaming  Pearl        Paper Rex   \n",
       "12      Opening (A)        Paper Rex vs EDward Gaming  Pearl        Paper Rex   \n",
       "...             ...                               ...    ...              ...   \n",
       "379827  Grand Final  Natus Vincere vs FunPlus Phoenix  Split  FunPlus Phoenix   \n",
       "379830  Grand Final  Natus Vincere vs FunPlus Phoenix  Split  FunPlus Phoenix   \n",
       "379833  Grand Final  Natus Vincere vs FunPlus Phoenix  Split  FunPlus Phoenix   \n",
       "379836  Grand Final  Natus Vincere vs FunPlus Phoenix  Split  FunPlus Phoenix   \n",
       "379839  Grand Final  Natus Vincere vs FunPlus Phoenix  Split  FunPlus Phoenix   \n",
       "\n",
       "         Agents  \n",
       "0          fade  \n",
       "3          sage  \n",
       "6         astra  \n",
       "9       chamber  \n",
       "12         raze  \n",
       "...         ...  \n",
       "379827     raze  \n",
       "379830     kayo  \n",
       "379833    viper  \n",
       "379836    astra  \n",
       "379839  killjoy  \n",
       "\n",
       "[88362 rows x 7 columns]"
      ]
     },
     "execution_count": 89,
     "metadata": {},
     "output_type": "execute_result"
    }
   ],
   "source": [
    "overview_subset = overview_subset[overview_subset[\"Agents\"].isin(allagents)]\n",
    "overview_subset"
   ]
  },
  {
   "cell_type": "code",
   "execution_count": 90,
   "metadata": {},
   "outputs": [],
   "source": [
    "agentpick = {}  # Create dictionary with agent pick information.\n",
    "for agent in allagents:\n",
    "    agentpick[agent] = overview_subset.groupby([\"Tournament\", \"Stage\", \"Match Type\", \"Match Name\", \"Map\", \"Team\"], as_index=False).agg(lambda x: int(agent in set(x)))[\"Agents\"]\n"
   ]
  },
  {
   "cell_type": "code",
   "execution_count": 91,
   "metadata": {},
   "outputs": [
    {
     "data": {
      "text/html": [
       "<div>\n",
       "<style scoped>\n",
       "    .dataframe tbody tr th:only-of-type {\n",
       "        vertical-align: middle;\n",
       "    }\n",
       "\n",
       "    .dataframe tbody tr th {\n",
       "        vertical-align: top;\n",
       "    }\n",
       "\n",
       "    .dataframe thead th {\n",
       "        text-align: right;\n",
       "    }\n",
       "</style>\n",
       "<table border=\"1\" class=\"dataframe\">\n",
       "  <thead>\n",
       "    <tr style=\"text-align: right;\">\n",
       "      <th></th>\n",
       "      <th>Tournament</th>\n",
       "      <th>Stage</th>\n",
       "      <th>Match Type</th>\n",
       "      <th>Match Name</th>\n",
       "      <th>Map</th>\n",
       "      <th>Team</th>\n",
       "      <th>brimstone</th>\n",
       "      <th>sage</th>\n",
       "      <th>omen</th>\n",
       "      <th>phoenix</th>\n",
       "      <th>...</th>\n",
       "      <th>astra</th>\n",
       "      <th>breach</th>\n",
       "      <th>reyna</th>\n",
       "      <th>viper</th>\n",
       "      <th>chamber</th>\n",
       "      <th>neon</th>\n",
       "      <th>jett</th>\n",
       "      <th>killjoy</th>\n",
       "      <th>kayo</th>\n",
       "      <th>fade</th>\n",
       "    </tr>\n",
       "  </thead>\n",
       "  <tbody>\n",
       "    <tr>\n",
       "      <th>0</th>\n",
       "      <td>Champions Tour Asia-Pacific Stage 1: Challenge...</td>\n",
       "      <td>Group Stage</td>\n",
       "      <td>Decider (A)</td>\n",
       "      <td>Made in Thailand vs CERBERUS Esports</td>\n",
       "      <td>Ascent</td>\n",
       "      <td>CERBERUS Esports</td>\n",
       "      <td>0</td>\n",
       "      <td>0</td>\n",
       "      <td>1</td>\n",
       "      <td>0</td>\n",
       "      <td>...</td>\n",
       "      <td>0</td>\n",
       "      <td>1</td>\n",
       "      <td>0</td>\n",
       "      <td>0</td>\n",
       "      <td>1</td>\n",
       "      <td>0</td>\n",
       "      <td>1</td>\n",
       "      <td>0</td>\n",
       "      <td>0</td>\n",
       "      <td>0</td>\n",
       "    </tr>\n",
       "    <tr>\n",
       "      <th>1</th>\n",
       "      <td>Champions Tour Asia-Pacific Stage 1: Challenge...</td>\n",
       "      <td>Group Stage</td>\n",
       "      <td>Decider (A)</td>\n",
       "      <td>Made in Thailand vs CERBERUS Esports</td>\n",
       "      <td>Ascent</td>\n",
       "      <td>Made in Thailand</td>\n",
       "      <td>0</td>\n",
       "      <td>0</td>\n",
       "      <td>0</td>\n",
       "      <td>0</td>\n",
       "      <td>...</td>\n",
       "      <td>1</td>\n",
       "      <td>0</td>\n",
       "      <td>0</td>\n",
       "      <td>0</td>\n",
       "      <td>0</td>\n",
       "      <td>0</td>\n",
       "      <td>1</td>\n",
       "      <td>1</td>\n",
       "      <td>1</td>\n",
       "      <td>0</td>\n",
       "    </tr>\n",
       "    <tr>\n",
       "      <th>2</th>\n",
       "      <td>Champions Tour Asia-Pacific Stage 1: Challenge...</td>\n",
       "      <td>Group Stage</td>\n",
       "      <td>Decider (A)</td>\n",
       "      <td>Made in Thailand vs CERBERUS Esports</td>\n",
       "      <td>Bind</td>\n",
       "      <td>CERBERUS Esports</td>\n",
       "      <td>0</td>\n",
       "      <td>0</td>\n",
       "      <td>0</td>\n",
       "      <td>0</td>\n",
       "      <td>...</td>\n",
       "      <td>1</td>\n",
       "      <td>1</td>\n",
       "      <td>0</td>\n",
       "      <td>0</td>\n",
       "      <td>1</td>\n",
       "      <td>0</td>\n",
       "      <td>1</td>\n",
       "      <td>0</td>\n",
       "      <td>0</td>\n",
       "      <td>0</td>\n",
       "    </tr>\n",
       "    <tr>\n",
       "      <th>3</th>\n",
       "      <td>Champions Tour Asia-Pacific Stage 1: Challenge...</td>\n",
       "      <td>Group Stage</td>\n",
       "      <td>Decider (A)</td>\n",
       "      <td>Made in Thailand vs CERBERUS Esports</td>\n",
       "      <td>Bind</td>\n",
       "      <td>Made in Thailand</td>\n",
       "      <td>1</td>\n",
       "      <td>1</td>\n",
       "      <td>0</td>\n",
       "      <td>0</td>\n",
       "      <td>...</td>\n",
       "      <td>0</td>\n",
       "      <td>0</td>\n",
       "      <td>0</td>\n",
       "      <td>1</td>\n",
       "      <td>0</td>\n",
       "      <td>0</td>\n",
       "      <td>0</td>\n",
       "      <td>0</td>\n",
       "      <td>0</td>\n",
       "      <td>0</td>\n",
       "    </tr>\n",
       "    <tr>\n",
       "      <th>4</th>\n",
       "      <td>Champions Tour Asia-Pacific Stage 1: Challenge...</td>\n",
       "      <td>Group Stage</td>\n",
       "      <td>Decider (B)</td>\n",
       "      <td>Persija Esports vs Bonkers</td>\n",
       "      <td>Bind</td>\n",
       "      <td>Bonkers</td>\n",
       "      <td>1</td>\n",
       "      <td>0</td>\n",
       "      <td>0</td>\n",
       "      <td>0</td>\n",
       "      <td>...</td>\n",
       "      <td>0</td>\n",
       "      <td>0</td>\n",
       "      <td>0</td>\n",
       "      <td>0</td>\n",
       "      <td>1</td>\n",
       "      <td>1</td>\n",
       "      <td>0</td>\n",
       "      <td>0</td>\n",
       "      <td>0</td>\n",
       "      <td>0</td>\n",
       "    </tr>\n",
       "    <tr>\n",
       "      <th>...</th>\n",
       "      <td>...</td>\n",
       "      <td>...</td>\n",
       "      <td>...</td>\n",
       "      <td>...</td>\n",
       "      <td>...</td>\n",
       "      <td>...</td>\n",
       "      <td>...</td>\n",
       "      <td>...</td>\n",
       "      <td>...</td>\n",
       "      <td>...</td>\n",
       "      <td>...</td>\n",
       "      <td>...</td>\n",
       "      <td>...</td>\n",
       "      <td>...</td>\n",
       "      <td>...</td>\n",
       "      <td>...</td>\n",
       "      <td>...</td>\n",
       "      <td>...</td>\n",
       "      <td>...</td>\n",
       "      <td>...</td>\n",
       "      <td>...</td>\n",
       "    </tr>\n",
       "    <tr>\n",
       "      <th>17683</th>\n",
       "      <td>Valorant Conquerors Championship</td>\n",
       "      <td>Wildcard Qualifier</td>\n",
       "      <td>Upper Bracket Semifinals</td>\n",
       "      <td>Global Esports vs M1syl and friends</td>\n",
       "      <td>Breeze</td>\n",
       "      <td>M1syl and friends</td>\n",
       "      <td>0</td>\n",
       "      <td>0</td>\n",
       "      <td>0</td>\n",
       "      <td>0</td>\n",
       "      <td>...</td>\n",
       "      <td>0</td>\n",
       "      <td>0</td>\n",
       "      <td>0</td>\n",
       "      <td>1</td>\n",
       "      <td>1</td>\n",
       "      <td>0</td>\n",
       "      <td>1</td>\n",
       "      <td>0</td>\n",
       "      <td>0</td>\n",
       "      <td>0</td>\n",
       "    </tr>\n",
       "    <tr>\n",
       "      <th>17684</th>\n",
       "      <td>Valorant Conquerors Championship</td>\n",
       "      <td>Wildcard Qualifier</td>\n",
       "      <td>Upper Bracket Semifinals</td>\n",
       "      <td>Maruti Peek vs God Particles</td>\n",
       "      <td>Ascent</td>\n",
       "      <td>God Particles</td>\n",
       "      <td>0</td>\n",
       "      <td>0</td>\n",
       "      <td>0</td>\n",
       "      <td>0</td>\n",
       "      <td>...</td>\n",
       "      <td>1</td>\n",
       "      <td>0</td>\n",
       "      <td>0</td>\n",
       "      <td>0</td>\n",
       "      <td>0</td>\n",
       "      <td>0</td>\n",
       "      <td>1</td>\n",
       "      <td>1</td>\n",
       "      <td>0</td>\n",
       "      <td>0</td>\n",
       "    </tr>\n",
       "    <tr>\n",
       "      <th>17685</th>\n",
       "      <td>Valorant Conquerors Championship</td>\n",
       "      <td>Wildcard Qualifier</td>\n",
       "      <td>Upper Bracket Semifinals</td>\n",
       "      <td>Maruti Peek vs God Particles</td>\n",
       "      <td>Ascent</td>\n",
       "      <td>Maruti Peek</td>\n",
       "      <td>0</td>\n",
       "      <td>0</td>\n",
       "      <td>0</td>\n",
       "      <td>0</td>\n",
       "      <td>...</td>\n",
       "      <td>1</td>\n",
       "      <td>0</td>\n",
       "      <td>0</td>\n",
       "      <td>0</td>\n",
       "      <td>0</td>\n",
       "      <td>0</td>\n",
       "      <td>1</td>\n",
       "      <td>1</td>\n",
       "      <td>1</td>\n",
       "      <td>0</td>\n",
       "    </tr>\n",
       "    <tr>\n",
       "      <th>17686</th>\n",
       "      <td>Valorant Conquerors Championship</td>\n",
       "      <td>Wildcard Qualifier</td>\n",
       "      <td>Upper Bracket Semifinals</td>\n",
       "      <td>Maruti Peek vs God Particles</td>\n",
       "      <td>Breeze</td>\n",
       "      <td>God Particles</td>\n",
       "      <td>0</td>\n",
       "      <td>0</td>\n",
       "      <td>0</td>\n",
       "      <td>0</td>\n",
       "      <td>...</td>\n",
       "      <td>0</td>\n",
       "      <td>0</td>\n",
       "      <td>0</td>\n",
       "      <td>1</td>\n",
       "      <td>0</td>\n",
       "      <td>0</td>\n",
       "      <td>1</td>\n",
       "      <td>0</td>\n",
       "      <td>0</td>\n",
       "      <td>0</td>\n",
       "    </tr>\n",
       "    <tr>\n",
       "      <th>17687</th>\n",
       "      <td>Valorant Conquerors Championship</td>\n",
       "      <td>Wildcard Qualifier</td>\n",
       "      <td>Upper Bracket Semifinals</td>\n",
       "      <td>Maruti Peek vs God Particles</td>\n",
       "      <td>Breeze</td>\n",
       "      <td>Maruti Peek</td>\n",
       "      <td>0</td>\n",
       "      <td>0</td>\n",
       "      <td>0</td>\n",
       "      <td>0</td>\n",
       "      <td>...</td>\n",
       "      <td>0</td>\n",
       "      <td>0</td>\n",
       "      <td>1</td>\n",
       "      <td>1</td>\n",
       "      <td>1</td>\n",
       "      <td>0</td>\n",
       "      <td>1</td>\n",
       "      <td>0</td>\n",
       "      <td>0</td>\n",
       "      <td>0</td>\n",
       "    </tr>\n",
       "  </tbody>\n",
       "</table>\n",
       "<p>17688 rows × 25 columns</p>\n",
       "</div>"
      ],
      "text/plain": [
       "                                              Tournament               Stage  \\\n",
       "0      Champions Tour Asia-Pacific Stage 1: Challenge...         Group Stage   \n",
       "1      Champions Tour Asia-Pacific Stage 1: Challenge...         Group Stage   \n",
       "2      Champions Tour Asia-Pacific Stage 1: Challenge...         Group Stage   \n",
       "3      Champions Tour Asia-Pacific Stage 1: Challenge...         Group Stage   \n",
       "4      Champions Tour Asia-Pacific Stage 1: Challenge...         Group Stage   \n",
       "...                                                  ...                 ...   \n",
       "17683                   Valorant Conquerors Championship  Wildcard Qualifier   \n",
       "17684                   Valorant Conquerors Championship  Wildcard Qualifier   \n",
       "17685                   Valorant Conquerors Championship  Wildcard Qualifier   \n",
       "17686                   Valorant Conquerors Championship  Wildcard Qualifier   \n",
       "17687                   Valorant Conquerors Championship  Wildcard Qualifier   \n",
       "\n",
       "                     Match Type                            Match Name     Map  \\\n",
       "0                   Decider (A)  Made in Thailand vs CERBERUS Esports  Ascent   \n",
       "1                   Decider (A)  Made in Thailand vs CERBERUS Esports  Ascent   \n",
       "2                   Decider (A)  Made in Thailand vs CERBERUS Esports    Bind   \n",
       "3                   Decider (A)  Made in Thailand vs CERBERUS Esports    Bind   \n",
       "4                   Decider (B)            Persija Esports vs Bonkers    Bind   \n",
       "...                         ...                                   ...     ...   \n",
       "17683  Upper Bracket Semifinals   Global Esports vs M1syl and friends  Breeze   \n",
       "17684  Upper Bracket Semifinals          Maruti Peek vs God Particles  Ascent   \n",
       "17685  Upper Bracket Semifinals          Maruti Peek vs God Particles  Ascent   \n",
       "17686  Upper Bracket Semifinals          Maruti Peek vs God Particles  Breeze   \n",
       "17687  Upper Bracket Semifinals          Maruti Peek vs God Particles  Breeze   \n",
       "\n",
       "                    Team  brimstone  sage  omen  phoenix  ...  astra  breach  \\\n",
       "0       CERBERUS Esports          0     0     1        0  ...      0       1   \n",
       "1       Made in Thailand          0     0     0        0  ...      1       0   \n",
       "2       CERBERUS Esports          0     0     0        0  ...      1       1   \n",
       "3       Made in Thailand          1     1     0        0  ...      0       0   \n",
       "4                Bonkers          1     0     0        0  ...      0       0   \n",
       "...                  ...        ...   ...   ...      ...  ...    ...     ...   \n",
       "17683  M1syl and friends          0     0     0        0  ...      0       0   \n",
       "17684      God Particles          0     0     0        0  ...      1       0   \n",
       "17685        Maruti Peek          0     0     0        0  ...      1       0   \n",
       "17686      God Particles          0     0     0        0  ...      0       0   \n",
       "17687        Maruti Peek          0     0     0        0  ...      0       0   \n",
       "\n",
       "       reyna  viper  chamber  neon  jett  killjoy  kayo  fade  \n",
       "0          0      0        1     0     1        0     0     0  \n",
       "1          0      0        0     0     1        1     1     0  \n",
       "2          0      0        1     0     1        0     0     0  \n",
       "3          0      1        0     0     0        0     0     0  \n",
       "4          0      0        1     1     0        0     0     0  \n",
       "...      ...    ...      ...   ...   ...      ...   ...   ...  \n",
       "17683      0      1        1     0     1        0     0     0  \n",
       "17684      0      0        0     0     1        1     0     0  \n",
       "17685      0      0        0     0     1        1     1     0  \n",
       "17686      0      1        0     0     1        0     0     0  \n",
       "17687      1      1        1     0     1        0     0     0  \n",
       "\n",
       "[17688 rows x 25 columns]"
      ]
     },
     "execution_count": 91,
     "metadata": {},
     "output_type": "execute_result"
    }
   ],
   "source": [
    "# Add agentpick data to overview_subset after removing repeated matches from it.\n",
    "overview_subset = overview_subset.groupby([\"Tournament\", \"Stage\", \"Match Type\", \"Match Name\", \"Map\", \"Team\"], as_index=False).agg(\"sum\")\n",
    "\n",
    "for agent, pick in agentpick.items():\n",
    "    overview_subset.loc[:, agent] = pick\n",
    "\n",
    "overview_subset = overview_subset.drop(columns=\"Agents\")\n",
    "\n",
    "overview_subset"
   ]
  },
  {
   "cell_type": "code",
   "execution_count": 92,
   "metadata": {},
   "outputs": [
    {
     "data": {
      "text/plain": [
       "59"
      ]
     },
     "execution_count": 92,
     "metadata": {},
     "output_type": "execute_result"
    }
   ],
   "source": [
    "# want to check if all agent composition is valid.  That is, it consists of 5 agents.\n",
    "(overview_subset[list(allagents)].sum(axis=1) != 5).sum()\n"
   ]
  },
  {
   "cell_type": "code",
   "execution_count": 93,
   "metadata": {},
   "outputs": [],
   "source": [
    "# 59 is not so big, considering our data size. Let's drop invalid rows\n",
    "overview_valid_comp = overview_subset[overview_subset[list(allagents)].sum(axis=1) == 5]"
   ]
  },
  {
   "cell_type": "code",
   "execution_count": 94,
   "metadata": {},
   "outputs": [],
   "source": [
    "Team_A_agent_name_label = {}\n",
    "Team_B_agent_name_label = {}\n",
    "\n",
    "for agent in allagents:\n",
    "    Team_A_agent_name_label[agent] = f\"{agent}_A\"\n",
    "    Team_B_agent_name_label[agent] = f\"{agent}_B\"\n"
   ]
  },
  {
   "cell_type": "code",
   "execution_count": 95,
   "metadata": {},
   "outputs": [
    {
     "name": "stdout",
     "output_type": "stream",
     "text": [
      "Index(['Tournament', 'Stage', 'Match Type', 'Match Name', 'Map', 'Team',\n",
      "       'brimstone', 'sage', 'omen', 'phoenix', 'cypher', 'raze', 'yoru',\n",
      "       'sova', 'skye', 'astra', 'breach', 'reyna', 'viper', 'chamber', 'neon',\n",
      "       'jett', 'killjoy', 'kayo', 'fade'],\n",
      "      dtype='object')\n",
      "Index(['Tournament', 'Stage', 'Match Type', 'Match Name', 'Map', 'Team A',\n",
      "       'Team A Score', 'Team B', 'Team B Score'],\n",
      "      dtype='object')\n",
      "<class 'pandas.core.frame.DataFrame'>\n",
      "Index: 17629 entries, 0 to 17687\n",
      "Data columns (total 25 columns):\n",
      " #   Column      Non-Null Count  Dtype \n",
      "---  ------      --------------  ----- \n",
      " 0   Tournament  17629 non-null  object\n",
      " 1   Stage       17629 non-null  object\n",
      " 2   Match Type  17629 non-null  object\n",
      " 3   Match Name  17629 non-null  object\n",
      " 4   Map         17629 non-null  object\n",
      " 5   Team        17629 non-null  object\n",
      " 6   brimstone   17629 non-null  int64 \n",
      " 7   sage        17629 non-null  int64 \n",
      " 8   omen        17629 non-null  int64 \n",
      " 9   phoenix     17629 non-null  int64 \n",
      " 10  cypher      17629 non-null  int64 \n",
      " 11  raze        17629 non-null  int64 \n",
      " 12  yoru        17629 non-null  int64 \n",
      " 13  sova        17629 non-null  int64 \n",
      " 14  skye        17629 non-null  int64 \n",
      " 15  astra       17629 non-null  int64 \n",
      " 16  breach      17629 non-null  int64 \n",
      " 17  reyna       17629 non-null  int64 \n",
      " 18  viper       17629 non-null  int64 \n",
      " 19  chamber     17629 non-null  int64 \n",
      " 20  neon        17629 non-null  int64 \n",
      " 21  jett        17629 non-null  int64 \n",
      " 22  killjoy     17629 non-null  int64 \n",
      " 23  kayo        17629 non-null  int64 \n",
      " 24  fade        17629 non-null  int64 \n",
      "dtypes: int64(19), object(6)\n",
      "memory usage: 3.5+ MB\n"
     ]
    }
   ],
   "source": [
    "print(overview_valid_comp.keys())\n",
    "print(maps_scores_subset.keys())\n",
    "overview_valid_comp.info()"
   ]
  },
  {
   "cell_type": "code",
   "execution_count": 96,
   "metadata": {},
   "outputs": [
    {
     "data": {
      "text/plain": [
       "8884"
      ]
     },
     "execution_count": 96,
     "metadata": {},
     "output_type": "execute_result"
    }
   ],
   "source": [
    "vct_2022_team_comp\\\n",
    "    = maps_scores_subset\\\n",
    "        .set_index(['Tournament', 'Stage', 'Match Type', 'Match Name', 'Map', 'Team A'])\\\n",
    "        .join(overview_valid_comp\\\n",
    "            .rename(columns={\"Team\":\"Team A\"})\\\n",
    "                .set_index(['Tournament', 'Stage', 'Match Type', 'Match Name', 'Map', 'Team A'])\\\n",
    "        )\\\n",
    "        .reset_index()\\\n",
    "        .rename(columns=Team_A_agent_name_label)\\\n",
    "        .set_index(['Tournament', 'Stage', 'Match Type', 'Match Name', 'Map', 'Team B'])\\\n",
    "        .join(overview_valid_comp\\\n",
    "            .rename(columns={\"Team\":\"Team B\"})\\\n",
    "                .set_index(['Tournament', 'Stage', 'Match Type', 'Match Name', 'Map', 'Team B'])\\\n",
    "        )\\\n",
    "        .reset_index()\\\n",
    "        .rename(columns=Team_B_agent_name_label)\\\n",
    "\n",
    "len(vct_2022_team_comp)"
   ]
  },
  {
   "cell_type": "code",
   "execution_count": 97,
   "metadata": {},
   "outputs": [
    {
     "name": "stdout",
     "output_type": "stream",
     "text": [
      "8733\n"
     ]
    }
   ],
   "source": [
    "# We have data for 8884 before remove null.  We can check after apply dropna(), we have 8733 matches left, which is not bad.\n",
    "vct_2022_team_comp = vct_2022_team_comp.dropna()\n",
    "print(len(vct_2022_team_comp))\n"
   ]
  },
  {
   "cell_type": "code",
   "execution_count": 98,
   "metadata": {},
   "outputs": [],
   "source": [
    "# Let's add Team_A_win and Team_B_win columns to indicate which team won a given match.\n",
    "vct_2022_team_comp[\"Team_A_win\"] = ((vct_2022_team_comp[\"Team A Score\"] - vct_2022_team_comp[\"Team B Score\"]) > 0)\n",
    "vct_2022_team_comp[\"Team_B_win\"] = ((vct_2022_team_comp[\"Team B Score\"] - vct_2022_team_comp[\"Team A Score\"]) > 0)\n"
   ]
  },
  {
   "cell_type": "code",
   "execution_count": 99,
   "metadata": {},
   "outputs": [],
   "source": [
    "# Let's get dummie variables for \"Map\"\n",
    "onehot = pd.get_dummies(vct_2022_team_comp[\"Map\"], prefix=\"map\", prefix_sep=\"_\")\n",
    "\n",
    "vct_2022_agent_pick = vct_2022_team_comp.drop(columns=\"Map\")\\\n",
    "                                        .join(onehot)\\\n",
    "\n"
   ]
  },
  {
   "cell_type": "code",
   "execution_count": 100,
   "metadata": {},
   "outputs": [
    {
     "data": {
      "text/plain": [
       "Index(['Tournament', 'Stage', 'Match Type', 'Match Name', 'Team B', 'Team A',\n",
       "       'Team A Score', 'Team B Score', 'brimstone_A', 'sage_A', 'omen_A',\n",
       "       'phoenix_A', 'cypher_A', 'raze_A', 'yoru_A', 'sova_A', 'skye_A',\n",
       "       'astra_A', 'breach_A', 'reyna_A', 'viper_A', 'chamber_A', 'neon_A',\n",
       "       'jett_A', 'killjoy_A', 'kayo_A', 'fade_A', 'brimstone_B', 'sage_B',\n",
       "       'omen_B', 'phoenix_B', 'cypher_B', 'raze_B', 'yoru_B', 'sova_B',\n",
       "       'skye_B', 'astra_B', 'breach_B', 'reyna_B', 'viper_B', 'chamber_B',\n",
       "       'neon_B', 'jett_B', 'killjoy_B', 'kayo_B', 'fade_B', 'Team_A_win',\n",
       "       'Team_B_win', 'map_Ascent', 'map_Bind', 'map_Breeze', 'map_Fracture',\n",
       "       'map_Haven', 'map_Icebox', 'map_Pearl', 'map_Split'],\n",
       "      dtype='object')"
      ]
     },
     "execution_count": 100,
     "metadata": {},
     "output_type": "execute_result"
    }
   ],
   "source": [
    "vct_2022_agent_pick.keys()"
   ]
  },
  {
   "cell_type": "markdown",
   "metadata": {},
   "source": [
    "### Let's try some models on this data set.\n",
    "X: team composition information\\\n",
    "y_aw: Team_A_win\\\n",
    "y_bw: Team_B_win\\\n",
    "y_amb: Score difference for A = (Team_A_Score - Team_B_Score)\\\n",
    "y_bma: Score difference for B = (Team_B_Score - Team_A_Score)"
   ]
  },
  {
   "cell_type": "code",
   "execution_count": 101,
   "metadata": {},
   "outputs": [],
   "source": [
    "import numpy as np\n",
    "import matplotlib.pyplot as plt\n",
    "from sklearn.linear_model import LogisticRegression, LinearRegression, Lasso, Ridge\n",
    "from sklearn.ensemble import GradientBoostingClassifier, GradientBoostingRegressor\n",
    "from sklearn.model_selection import train_test_split, GridSearchCV\n",
    "from sklearn.pipeline import Pipeline\n",
    "from sklearn.preprocessing import PolynomialFeatures\n",
    "from sklearn.metrics import accuracy_score, mean_squared_error\n",
    "from sklearn.metrics import confusion_matrix, ConfusionMatrixDisplay\n"
   ]
  },
  {
   "cell_type": "code",
   "execution_count": 102,
   "metadata": {},
   "outputs": [],
   "source": [
    "X_features = ['cypher_A', 'sova_A', 'chamber_A',\n",
    "       'sage_A', 'breach_A', 'neon_A', 'reyna_A', 'fade_A', 'viper_A',\n",
    "       'kayo_A', 'killjoy_A', 'yoru_A', 'brimstone_A', 'astra_A', 'phoenix_A',\n",
    "       'skye_A', 'omen_A', 'raze_A', 'jett_A', 'cypher_B', 'sova_B',\n",
    "       'chamber_B', 'sage_B', 'breach_B', 'neon_B', 'reyna_B', 'fade_B',\n",
    "       'viper_B', 'kayo_B', 'killjoy_B', 'yoru_B', 'brimstone_B', 'astra_B',\n",
    "       'phoenix_B', 'skye_B', 'omen_B', 'raze_B', 'jett_B',\n",
    "       'map_Ascent', 'map_Bind', 'map_Breeze', 'map_Fracture',\n",
    "       'map_Haven', 'map_Icebox', 'map_Pearl', 'map_Split']\n",
    "\n",
    "\n",
    "X = vct_2022_agent_pick[X_features]\n",
    "y_aw = vct_2022_agent_pick[\"Team_A_win\"]\n",
    "y_bw = vct_2022_agent_pick[\"Team_B_win\"]\n",
    "y_amb = vct_2022_agent_pick[\"Team A Score\"] - vct_2022_agent_pick[\"Team B Score\"]\n",
    "y_bma = vct_2022_agent_pick[\"Team B Score\"] - vct_2022_agent_pick[\"Team A Score\"]"
   ]
  },
  {
   "cell_type": "markdown",
   "metadata": {},
   "source": [
    "`predicting win`: classification"
   ]
  },
  {
   "cell_type": "code",
   "execution_count": 103,
   "metadata": {},
   "outputs": [],
   "source": [
    "X_aw_train, X_aw_test, y_aw_train, y_aw_test = train_test_split(X, y_aw, test_size=0.2, random_state=1, shuffle=True)\n",
    "X_bw_train, X_bw_test, y_bw_train, y_bw_test = train_test_split(X, y_bw, test_size=0.2, random_state=1, shuffle=True)"
   ]
  },
  {
   "cell_type": "code",
   "execution_count": 104,
   "metadata": {},
   "outputs": [],
   "source": [
    "### Sanity check:\n",
    "assert X_aw_train.shape[0] == y_aw_train.shape[0], \"the number of data points are different\"\n",
    "assert X_aw_test.shape[0] == y_aw_test.shape[0], \"the number of data points are different\""
   ]
  },
  {
   "cell_type": "code",
   "execution_count": 105,
   "metadata": {},
   "outputs": [],
   "source": [
    "lgr_aw = LogisticRegression()\n",
    "lgr_bw = LogisticRegression()\n",
    "\n",
    "gbc_aw = GradientBoostingClassifier()\n",
    "gbc_bw = GradientBoostingClassifier()\n"
   ]
  },
  {
   "cell_type": "code",
   "execution_count": 106,
   "metadata": {},
   "outputs": [
    {
     "name": "stdout",
     "output_type": "stream",
     "text": [
      "lgr_aw accuracy: 0.5821408128219805\n",
      "lgr_bw accuracy: 0.5821408128219805\n",
      "mean of lgr_aw_pred: 0.9376073268460218\n",
      "mean of aw_test: 0.589582140812822\n",
      "mean of lgr_bw_pred: 0.06239267315397825\n",
      "mean of bw_test: 0.41041785918717805\n",
      "coefficients: [[ 0.12712856 -0.03741702  0.06590221  0.04965759 -0.03783502  0.08403364\n",
      "  -0.07956608 -0.00225652  0.1995589  -0.10204819  0.18244564  0.28798472\n",
      "  -0.14774517 -0.07605865  0.18769138 -0.07186157 -0.18872931  0.15529609\n",
      "   0.03878352 -0.0067627   0.02637954  0.07297748 -0.03137138  0.20285648\n",
      "  -0.21635502  0.3400021  -0.10641147 -0.14798043  0.22860229 -0.08227948\n",
      "   0.15995024 -0.17274302 -0.09197121  0.46010401  0.22462937 -0.24481239\n",
      "  -0.08299167  0.10314198  0.08717222  0.10652066 -0.22426103  0.09726282\n",
      "   0.1168072  -0.17283803  0.18506244 -0.06873335]]\n"
     ]
    }
   ],
   "source": [
    "lgr_aw.fit(X_aw_train, y_aw_train)\n",
    "lgr_aw_pred = lgr_aw.predict(X_aw_test)\n",
    "lgr_aw_acc = accuracy_score(y_aw_test, lgr_aw_pred)\n",
    "\n",
    "lgr_bw.fit(X_bw_train, y_bw_train)\n",
    "lgr_bw_pred = lgr_bw.predict(X_bw_test)\n",
    "lgr_bw_acc = accuracy_score(y_bw_test, lgr_bw_pred)\n",
    "\n",
    "print(\"lgr_aw accuracy:\", lgr_aw_acc)\n",
    "print(\"lgr_bw accuracy:\", lgr_bw_acc)\n",
    "print(\"mean of lgr_aw_pred: {}\".format(np.mean(lgr_aw_pred)))\n",
    "print(\"mean of aw_test: {}\".format(np.mean(y_aw_test)))\n",
    "print(\"mean of lgr_bw_pred: {}\".format(np.mean(lgr_bw_pred)))\n",
    "print(\"mean of bw_test: {}\".format(np.mean(y_bw_test)))\n",
    "print(\"coefficients:\", lgr_aw.coef_)"
   ]
  },
  {
   "cell_type": "code",
   "execution_count": 107,
   "metadata": {},
   "outputs": [
    {
     "name": "stdout",
     "output_type": "stream",
     "text": [
      "gbc_aw accuracy: 0.5787063537492845\n",
      "gbc_bw accuracy: 0.5781339439038351\n",
      "mean of gbc_aw_pred: 0.9124212936462507\n",
      "mean of aw_test: 0.589582140812822\n",
      "mean of gbc_bw_pred: 0.08700629650829994\n",
      "mean of bw_test: 0.41041785918717805\n"
     ]
    }
   ],
   "source": [
    "gbc_aw.fit(X_aw_train, y_aw_train)\n",
    "gbc_aw_pred = gbc_aw.predict(X_aw_test)\n",
    "gbc_aw_acc = accuracy_score(y_aw_test, gbc_aw_pred)\n",
    "\n",
    "gbc_bw.fit(X_bw_train, y_bw_train)\n",
    "gbc_bw_pred = gbc_bw.predict(X_bw_test)\n",
    "gbc_bw_acc = accuracy_score(y_bw_test, gbc_bw_pred)\n",
    "\n",
    "print(\"gbc_aw accuracy:\", gbc_aw_acc)\n",
    "print(\"gbc_bw accuracy:\", gbc_bw_acc)\n",
    "print(\"mean of gbc_aw_pred: {}\".format(np.mean(gbc_aw_pred)))\n",
    "print(\"mean of aw_test: {}\".format(np.mean(y_aw_test)))\n",
    "print(\"mean of gbc_bw_pred: {}\".format(np.mean(gbc_bw_pred)))\n",
    "print(\"mean of bw_test: {}\".format(np.mean(y_bw_test)))"
   ]
  },
  {
   "cell_type": "code",
   "execution_count": 108,
   "metadata": {},
   "outputs": [
    {
     "data": {
      "image/png": "[encoded data removed]",
      "text/plain": [
       "<Figure size 640x480 with 2 Axes>"
      ]
     },
     "metadata": {},
     "output_type": "display_data"
    },
    {
     "data": {
      "image/png": "[encoded data removed]",
      "text/plain": [
       "<Figure size 640x480 with 2 Axes>"
      ]
     },
     "metadata": {},
     "output_type": "display_data"
    }
   ],
   "source": [
    "cm_aw_lgr = confusion_matrix(y_aw_test, lgr_aw_pred)\n",
    "disp = ConfusionMatrixDisplay(confusion_matrix=cm_aw_lgr)\n",
    "disp.plot()\n",
    "plt.show()\n",
    "\n",
    "cm_bw_lgr = confusion_matrix(y_bw_test, lgr_bw_pred)\n",
    "disp = ConfusionMatrixDisplay(confusion_matrix=cm_bw_lgr)\n",
    "disp.plot()\n",
    "plt.show()"
   ]
  },
  {
   "cell_type": "code",
   "execution_count": 109,
   "metadata": {},
   "outputs": [
    {
     "data": {
      "image/png": "[encoded data removed]",
      "text/plain": [
       "<Figure size 640x480 with 2 Axes>"
      ]
     },
     "metadata": {},
     "output_type": "display_data"
    },
    {
     "data": {
      "image/png": "[encoded data removed]",
      "text/plain": [
       "<Figure size 640x480 with 2 Axes>"
      ]
     },
     "metadata": {},
     "output_type": "display_data"
    }
   ],
   "source": [
    "cm_aw_gbc = confusion_matrix(y_aw_test, gbc_aw_pred)\n",
    "disp = ConfusionMatrixDisplay(confusion_matrix=cm_aw_gbc)\n",
    "disp.plot()\n",
    "plt.show()\n",
    "\n",
    "cm_bw_gbc = confusion_matrix(y_bw_test, gbc_bw_pred)\n",
    "disp = ConfusionMatrixDisplay(confusion_matrix=cm_bw_gbc)\n",
    "disp.plot()\n",
    "plt.show()"
   ]
  },
  {
   "cell_type": "markdown",
   "metadata": {},
   "source": [
    "`predicting score difference`: regression"
   ]
  },
  {
   "cell_type": "code",
   "execution_count": 110,
   "metadata": {},
   "outputs": [],
   "source": [
    "X_amb_train, X_amb_test, y_amb_train, y_amb_test = train_test_split(X, y_amb, test_size=0.2, shuffle=True, random_state=1)\n",
    "\n",
    "# Sanity check:\n",
    "assert X_amb_train.shape[0] == y_amb_train.shape[0], \"the number of data points are different\"\n",
    "assert X_amb_test.shape[0] == y_amb_test.shape[0], \"the number of data points are different\""
   ]
  },
  {
   "cell_type": "code",
   "execution_count": 111,
   "metadata": {},
   "outputs": [
    {
     "data": {
      "text/plain": [
       "43.72947388044684"
      ]
     },
     "execution_count": 111,
     "metadata": {},
     "output_type": "execute_result"
    }
   ],
   "source": [
    "lr_amb = LinearRegression()\n",
    "lr_amb.fit(X_amb_train, y_amb_train)\n",
    "lr_amb_pred = lr_amb.predict(X_amb_test)\n",
    "lr_amb_mse = mean_squared_error(y_amb_test, lr_amb_pred)\n",
    "\n",
    "lr_amb_mse"
   ]
  },
  {
   "cell_type": "code",
   "execution_count": 112,
   "metadata": {},
   "outputs": [
    {
     "name": "stdout",
     "output_type": "stream",
     "text": [
      "min of pred: -1.53125\n",
      "max of pred: 5.1796875\n",
      "====================\n",
      "coefficients:\n"
     ]
    },
    {
     "data": {
      "text/plain": [
       "array([ 2.40220557e+12,  2.40220557e+12,  2.40220557e+12,  2.40220557e+12,\n",
       "        2.40220557e+12,  2.40220557e+12,  2.40220557e+12,  2.40220557e+12,\n",
       "        2.40220557e+12,  2.40220557e+12,  2.40220557e+12,  2.40220557e+12,\n",
       "        2.40220557e+12,  2.40220557e+12,  2.40220557e+12,  2.40220557e+12,\n",
       "        2.40220557e+12,  2.40220557e+12,  2.40220557e+12,  7.34612313e+12,\n",
       "        7.34612313e+12,  7.34612313e+12,  7.34612313e+12,  7.34612313e+12,\n",
       "        7.34612313e+12,  7.34612313e+12,  7.34612313e+12,  7.34612313e+12,\n",
       "        7.34612313e+12,  7.34612313e+12,  7.34612313e+12,  7.34612313e+12,\n",
       "        7.34612313e+12,  7.34612313e+12,  7.34612313e+12,  7.34612313e+12,\n",
       "        7.34612313e+12,  7.34612313e+12, -1.10923381e+13, -1.10923381e+13,\n",
       "       -1.10923381e+13, -1.10923381e+13, -1.10923381e+13, -1.10923381e+13,\n",
       "       -1.10923381e+13, -1.10923381e+13])"
      ]
     },
     "execution_count": 112,
     "metadata": {},
     "output_type": "execute_result"
    }
   ],
   "source": [
    "print(\"min of pred:\", np.min(lr_amb_pred))\n",
    "print(\"max of pred:\", np.max(lr_amb_pred))\n",
    "print(\"====================\")\n",
    "print(\"coefficients:\")\n",
    "lr_amb.coef_"
   ]
  },
  {
   "cell_type": "code",
   "execution_count": 113,
   "metadata": {},
   "outputs": [
    {
     "data": {
      "image/png": "[encoded data removed]",
      "text/plain": [
       "<Figure size 640x480 with 1 Axes>"
      ]
     },
     "metadata": {},
     "output_type": "display_data"
    }
   ],
   "source": [
    "plt.scatter(lr_amb_pred, y_amb_test)\n",
    "plt.xlabel = \"prediction\"\n",
    "plt.ylabel = \"true value\"\n",
    "plt.show()"
   ]
  },
  {
   "cell_type": "markdown",
   "metadata": {},
   "source": [
    "### Work with smaller set of tournaments?"
   ]
  },
  {
   "cell_type": "code",
   "execution_count": 114,
   "metadata": {},
   "outputs": [],
   "source": [
    "stage1 = [\"Champions Tour Stage 1: EMEA Challengers\",\n",
    "\"Champions Tour North America Stage 1: Challengers\",\n",
    "\"Champions Tour Latin America Stage 1: Playoffs\",\n",
    "\"Champions Tour LATAM/BR Stage 1: Last Chance Qualifier\",\n",
    "\"Champions Tour Asia-Pacific Stage 1: Challengers Playoffs\",\n",
    "\"Champions Tour Korea Stage 1: Challengers\",\n",
    "\"Champions Tour Japan Stage 1: Challengers Playoffs\",\n",
    "\"Valorant Champions Tour Stage 1: Masters Reykjavík\"]\n",
    "\n",
    "# Stage 2\n",
    "stage2 = [\"Champions Tour EMEA Stage 2: Challengers\",\n",
    "\"Champions Tour North America Stage 2: Challengers\",\n",
    "\"Champions Tour LATAM/BR Stage 2: Last Chance Qualifier\",\n",
    "\"Champions Tour Brazil Stage 2: Challengers\",\n",
    "\"Champions Tour Asia-Pacific Stage 2: Challengers Playoffs\",\n",
    "\"Champions Tour Korea Stage 2: Challengers\",\n",
    "\"Champions Tour Japan Stage 2: Challengers Playoffs\",\n",
    "\"Valorant Champions Tour Stage 2: Masters Copenhagen\"]\n",
    "\n",
    "# Champions\n",
    "champions = [\"Champions Tour EMEA: Last Chance Qualifier\",\n",
    "\"Champions Tour North America: Last Chance Qualifier\",\n",
    "\"Champions Tour South America: Last Chance Qualifier\",\n",
    "\"Champions Tour Asia-Pacific: Last Chance Qualifier\",\n",
    "\"Champions Tour East Asia: Last Chance Qualifier\",\n",
    "\"Valorant Champions 2022\"]\n",
    "\n",
    "vct_2022_stages = {\"stage 1\": stage1, \"stage 2\": stage2, \"champions\": champions}"
   ]
  },
  {
   "cell_type": "code",
   "execution_count": 115,
   "metadata": {},
   "outputs": [
    {
     "data": {
      "text/plain": [
       "22"
      ]
     },
     "execution_count": 115,
     "metadata": {},
     "output_type": "execute_result"
    }
   ],
   "source": [
    "tier1_tournaments = set()\n",
    "\n",
    "for stage, tournaments in vct_2022_stages.items():\n",
    "    tier1_tournaments = tier1_tournaments.union(set(vct_2022_stages[stage]))\n",
    "                                                \n",
    "len(tier1_tournaments)"
   ]
  },
  {
   "cell_type": "code",
   "execution_count": 116,
   "metadata": {},
   "outputs": [],
   "source": [
    "tier1_vct_2022_agent_pick = vct_2022_agent_pick[vct_2022_agent_pick[\"Tournament\"].isin(tier1_tournaments)]\n"
   ]
  },
  {
   "cell_type": "code",
   "execution_count": 117,
   "metadata": {},
   "outputs": [],
   "source": [
    "high_score_diff_vct_2022_agent_pick = vct_2022_agent_pick[abs(vct_2022_agent_pick[\"Team A Score\"] - vct_2022_agent_pick[\"Team B Score\"]) > 6]"
   ]
  },
  {
   "cell_type": "code",
   "execution_count": 118,
   "metadata": {},
   "outputs": [],
   "source": [
    "Z_features = ['cypher_A', 'sova_A', 'chamber_A',\n",
    "       'sage_A', 'breach_A', 'neon_A', 'reyna_A', 'fade_A', 'viper_A',\n",
    "       'kayo_A', 'killjoy_A', 'yoru_A', 'brimstone_A', 'astra_A', 'phoenix_A',\n",
    "       'skye_A', 'omen_A', 'raze_A', 'jett_A', 'cypher_B', 'sova_B',\n",
    "       'chamber_B', 'sage_B', 'breach_B', 'neon_B', 'reyna_B', 'fade_B',\n",
    "       'viper_B', 'kayo_B', 'killjoy_B', 'yoru_B', 'brimstone_B', 'astra_B',\n",
    "       'phoenix_B', 'skye_B', 'omen_B', 'raze_B', 'jett_B',\n",
    "       'map_Ascent', 'map_Bind', 'map_Breeze', 'map_Fracture',\n",
    "       'map_Haven', 'map_Icebox', 'map_Pearl', 'map_Split']\n",
    "\n",
    "\n",
    "Z = high_score_diff_vct_2022_agent_pick[X_features]\n",
    "w_aw = high_score_diff_vct_2022_agent_pick[\"Team_A_win\"]\n",
    "w_bw = high_score_diff_vct_2022_agent_pick[\"Team_B_win\"]\n",
    "w_amb = high_score_diff_vct_2022_agent_pick[\"Team A Score\"] - high_score_diff_vct_2022_agent_pick[\"Team B Score\"]\n",
    "w_bma = high_score_diff_vct_2022_agent_pick[\"Team B Score\"] - high_score_diff_vct_2022_agent_pick[\"Team A Score\"]"
   ]
  },
  {
   "cell_type": "code",
   "execution_count": 119,
   "metadata": {},
   "outputs": [],
   "source": [
    "lgr_aw2 = LogisticRegression()\n",
    "lgr_bw2 = LogisticRegression()\n",
    "\n",
    "gbc_aw2 = GradientBoostingClassifier()\n",
    "gbc_bw2 = GradientBoostingClassifier()"
   ]
  },
  {
   "cell_type": "code",
   "execution_count": 120,
   "metadata": {},
   "outputs": [],
   "source": [
    "Z_aw_train, Z_aw_test, w_aw_train, w_aw_test = train_test_split(Z, w_aw, test_size=0.2, random_state=1, shuffle=True)\n",
    "Z_bw_train, Z_bw_test, w_bw_train, w_bw_test = train_test_split(Z, w_bw, test_size=0.2, random_state=1, shuffle=True)"
   ]
  },
  {
   "cell_type": "code",
   "execution_count": 121,
   "metadata": {},
   "outputs": [
    {
     "name": "stdout",
     "output_type": "stream",
     "text": [
      "lgr_aw accuracy: 0.6156914893617021\n",
      "lgr_bw accuracy: 0.625\n",
      "mean of lgr_aw_pred: 0.9321808510638298\n",
      "mean of aw_test: 0.6223404255319149\n",
      "mean of lgr_bw_pred: 0.061170212765957445\n",
      "mean of bw_test: 0.3776595744680851\n",
      "coefficients: [[ 0.31938142  0.28250723  0.17949606  0.03562811 -0.17557324 -0.09284241\n",
      "  -0.12740358 -0.26364285  0.13831405 -0.13236569  0.24702504  1.1331388\n",
      "  -0.0601049   0.06543685 -0.55227239 -0.05800103 -0.16429248  0.1885808\n",
      "  -0.11845053 -0.06316856 -0.23412975  0.15634544  0.04871773  0.15701352\n",
      "   0.07416369  0.3581144  -0.09327585 -0.08844763  0.28007067 -0.24609425\n",
      "   0.19629568 -0.24982285 -0.00135166  0.45963432  0.3724758  -0.26995153\n",
      "  -0.02478676  0.01275689  0.20782293 -0.08158098 -0.1342492   0.0243091\n",
      "   0.20667365  0.11579242  0.11323148 -0.28308756]]\n"
     ]
    }
   ],
   "source": [
    "lgr_aw2.fit(Z_aw_train, w_aw_train)\n",
    "lgr_aw2_pred = lgr_aw2.predict(Z_aw_test)\n",
    "lgr_aw2_acc = accuracy_score(w_aw_test, lgr_aw2_pred)\n",
    "\n",
    "lgr_bw2.fit(Z_bw_train, w_bw_train)\n",
    "lgr_bw2_pred = lgr_bw.predict(Z_bw_test)\n",
    "lgr_bw2_acc = accuracy_score(w_bw_test, lgr_bw2_pred)\n",
    "\n",
    "print(\"lgr_aw accuracy:\", lgr_aw2_acc)\n",
    "print(\"lgr_bw accuracy:\", lgr_bw2_acc)\n",
    "print(\"mean of lgr_aw_pred: {}\".format(np.mean(lgr_aw2_pred)))\n",
    "print(\"mean of aw_test: {}\".format(np.mean(w_aw_test)))\n",
    "print(\"mean of lgr_bw_pred: {}\".format(np.mean(lgr_bw2_pred)))\n",
    "print(\"mean of bw_test: {}\".format(np.mean(w_bw_test)))\n",
    "print(\"coefficients:\", lgr_aw2.coef_)"
   ]
  },
  {
   "cell_type": "code",
   "execution_count": 122,
   "metadata": {},
   "outputs": [
    {
     "name": "stdout",
     "output_type": "stream",
     "text": [
      "gbc_aw accuracy: 0.6303191489361702\n",
      "gbc_bw accuracy: 0.6303191489361702\n",
      "mean of gbc_aw_pred: 0.9361702127659575\n",
      "mean of aw_test: 0.6223404255319149\n",
      "mean of gbc_bw_pred: 0.06382978723404255\n",
      "mean of bw_test: 0.3776595744680851\n"
     ]
    }
   ],
   "source": [
    "gbc_aw2.fit(Z_aw_train, w_aw_train)\n",
    "gbc_aw2_pred = gbc_aw.predict(Z_aw_test)\n",
    "gbc_aw2_acc = accuracy_score(w_aw_test, gbc_aw2_pred)\n",
    "\n",
    "gbc_bw2.fit(Z_bw_train, w_bw_train)\n",
    "gbc_bw2_pred = gbc_bw.predict(Z_bw_test)\n",
    "gbc_bw2_acc = accuracy_score(w_bw_test, gbc_bw2_pred)\n",
    "\n",
    "print(\"gbc_aw accuracy:\", gbc_aw2_acc)\n",
    "print(\"gbc_bw accuracy:\", gbc_bw2_acc)\n",
    "print(\"mean of gbc_aw_pred: {}\".format(np.mean(gbc_aw2_pred)))\n",
    "print(\"mean of aw_test: {}\".format(np.mean(w_aw_test)))\n",
    "print(\"mean of gbc_bw_pred: {}\".format(np.mean(gbc_bw2_pred)))\n",
    "print(\"mean of bw_test: {}\".format(np.mean(w_bw_test)))"
   ]
  },
  {
   "cell_type": "code",
   "execution_count": 123,
   "metadata": {},
   "outputs": [
    {
     "data": {
      "image/png": "[encoded data removed]",
      "text/plain": [
       "<Figure size 640x480 with 2 Axes>"
      ]
     },
     "metadata": {},
     "output_type": "display_data"
    },
    {
     "data": {
      "image/png": "[encoded data removed]",
      "text/plain": [
       "<Figure size 640x480 with 2 Axes>"
      ]
     },
     "metadata": {},
     "output_type": "display_data"
    }
   ],
   "source": [
    "cm_aw2_lgr = confusion_matrix(w_aw_test, lgr_aw2_pred)\n",
    "disp = ConfusionMatrixDisplay(confusion_matrix=cm_aw2_lgr)\n",
    "disp.plot()\n",
    "plt.show()\n",
    "\n",
    "cm_bw2_lgr = confusion_matrix(w_bw_test, lgr_bw2_pred)\n",
    "disp = ConfusionMatrixDisplay(confusion_matrix=cm_bw2_lgr)\n",
    "disp.plot()\n",
    "plt.show()"
   ]
  },
  {
   "cell_type": "code",
   "execution_count": 125,
   "metadata": {},
   "outputs": [
    {
     "data": {
      "image/png": "[encoded data removed]",
      "text/plain": [
       "<Figure size 640x480 with 2 Axes>"
      ]
     },
     "metadata": {},
     "output_type": "display_data"
    },
    {
     "data": {
      "image/png": "[encoded data removed]",
      "text/plain": [
       "<Figure size 640x480 with 2 Axes>"
      ]
     },
     "metadata": {},
     "output_type": "display_data"
    }
   ],
   "source": [
    "cm_aw2_gbc = confusion_matrix(w_aw_test, gbc_aw2_pred)\n",
    "disp = ConfusionMatrixDisplay(confusion_matrix=cm_aw2_gbc)\n",
    "disp.plot()\n",
    "plt.show()\n",
    "\n",
    "cm_bw2_gbc = confusion_matrix(w_bw_test, gbc_bw2_pred)\n",
    "disp = ConfusionMatrixDisplay(confusion_matrix=cm_bw2_gbc)\n",
    "disp.plot()\n",
    "plt.show()"
   ]
  },
  {
   "cell_type": "markdown",
   "metadata": {},
   "source": [
    "### Try LinearRegresson"
   ]
  },
  {
   "cell_type": "code",
   "execution_count": 126,
   "metadata": {},
   "outputs": [],
   "source": [
    "Z_amb_train, Z_amb_test, w_amb_train, w_amb_test = train_test_split(Z, w_amb, test_size=0.2, shuffle=True, random_state=1)\n",
    "\n",
    "# Sanity check:\n",
    "assert Z_amb_train.shape[0] == w_amb_train.shape[0], \"the number of data points are different\"\n",
    "assert Z_amb_test.shape[0] == w_amb_test.shape[0], \"the number of data points are different\""
   ]
  },
  {
   "cell_type": "code",
   "execution_count": 127,
   "metadata": {},
   "outputs": [
    {
     "data": {
      "text/plain": [
       "82.06611690115422"
      ]
     },
     "execution_count": 127,
     "metadata": {},
     "output_type": "execute_result"
    }
   ],
   "source": [
    "# Linear regression on score diff\n",
    "lr_amb2 = LinearRegression()\n",
    "lr_amb2.fit(Z_amb_train, w_amb_train)\n",
    "lr_amb2_pred = lr_amb.predict(Z_amb_test)\n",
    "lr_amb2_mse = mean_squared_error(w_amb_test, lr_amb2_pred)\n",
    "\n",
    "lr_amb2_mse"
   ]
  },
  {
   "cell_type": "code",
   "execution_count": 128,
   "metadata": {},
   "outputs": [
    {
     "name": "stdout",
     "output_type": "stream",
     "text": [
      "min of pred: -1.4296875\n",
      "max of pred: 4.3125\n",
      "====================\n",
      "coefficients:\n"
     ]
    },
    {
     "data": {
      "text/plain": [
       "array([ 9.37096428e+12,  9.37096428e+12,  9.37096428e+12,  9.37096428e+12,\n",
       "        9.37096428e+12,  9.37096428e+12,  9.37096428e+12,  9.37096428e+12,\n",
       "        9.37096428e+12,  9.37096428e+12,  9.37096428e+12,  9.37096428e+12,\n",
       "        9.37096428e+12,  9.37096428e+12,  9.37096428e+12,  9.37096428e+12,\n",
       "        9.37096428e+12,  9.37096428e+12,  9.37096428e+12, -6.14493126e+13,\n",
       "       -6.14493126e+13, -6.14493126e+13, -6.14493126e+13, -6.14493126e+13,\n",
       "       -6.14493126e+13, -6.14493126e+13, -6.14493126e+13, -6.14493126e+13,\n",
       "       -6.14493126e+13, -6.14493126e+13, -6.14493126e+13, -6.14493126e+13,\n",
       "       -6.14493126e+13, -6.14493126e+13, -6.14493126e+13, -6.14493126e+13,\n",
       "       -6.14493126e+13, -6.14493126e+13, -5.55172633e+13, -5.55172633e+13,\n",
       "       -5.55172633e+13, -5.55172633e+13, -5.55172633e+13, -5.55172633e+13,\n",
       "       -5.55172633e+13, -5.55172633e+13])"
      ]
     },
     "execution_count": 128,
     "metadata": {},
     "output_type": "execute_result"
    }
   ],
   "source": [
    "print(\"min of pred:\", np.min(lr_amb2_pred))\n",
    "print(\"max of pred:\", np.max(lr_amb2_pred))\n",
    "print(\"====================\")\n",
    "print(\"coefficients:\")\n",
    "lr_amb2.coef_"
   ]
  },
  {
   "cell_type": "code",
   "execution_count": 129,
   "metadata": {},
   "outputs": [
    {
     "data": {
      "image/png": "[encoded data removed]",
      "text/plain": [
       "<Figure size 640x480 with 1 Axes>"
      ]
     },
     "metadata": {},
     "output_type": "display_data"
    }
   ],
   "source": [
    "plt.scatter(lr_amb2_pred, w_amb_test)\n",
    "plt.xlabel = \"prediction\"\n",
    "plt.ylabel = \"true value\"\n",
    "plt.show()"
   ]
  },
  {
   "cell_type": "code",
   "execution_count": null,
   "metadata": {},
   "outputs": [],
   "source": [
    "raise ValueError(\"Stop here!\")"
   ]
  },
  {
   "cell_type": "code",
   "execution_count": null,
   "metadata": {},
   "outputs": [],
   "source": [
    "X_train, X_test, y_train, y_test = train_test_split(X, y, test_size=0.2, random_state=1, shuffle=True)\n",
    "Xz_train, Xz_test, z_train, z_test = train_test_split(X, z, test_size=0.2, random_state=1, shuffle=True)"
   ]
  },
  {
   "cell_type": "markdown",
   "metadata": {},
   "source": [
    "### LogisticRegression to predict \"Team A win\""
   ]
  },
  {
   "cell_type": "code",
   "execution_count": null,
   "metadata": {},
   "outputs": [],
   "source": [
    "lr = LogisticRegression(penalty='l2')\n",
    "lr.fit(X_train, y_train)\n",
    "pred = lr.predict(X_test)\n",
    "acc = accuracy_score(y_test, pred)\n",
    "\n",
    "acc"
   ]
  },
  {
   "cell_type": "code",
   "execution_count": null,
   "metadata": {},
   "outputs": [],
   "source": [
    "np.mean(pred)"
   ]
  },
  {
   "cell_type": "code",
   "execution_count": null,
   "metadata": {},
   "outputs": [],
   "source": [
    "print(np.min(lr.coef_), np.max(lr.coef_))"
   ]
  },
  {
   "cell_type": "markdown",
   "metadata": {},
   "source": [
    "### GradientBoostingClassifier to predict \"Team A win\""
   ]
  },
  {
   "cell_type": "code",
   "execution_count": null,
   "metadata": {},
   "outputs": [],
   "source": [
    "gb = GradientBoostingClassifier(n_estimators=200, max_depth=1, learning_rate=0.1)\n",
    "gb.fit(X_train, y_train)\n",
    "gb_pred = gb.predict(X_test)\n",
    "gb_acc = accuracy_score(y_test, gb_pred)\n",
    "\n",
    "gb_acc"
   ]
  },
  {
   "cell_type": "code",
   "execution_count": null,
   "metadata": {},
   "outputs": [],
   "source": [
    "np.mean(gb_pred)"
   ]
  },
  {
   "cell_type": "markdown",
   "metadata": {},
   "source": [
    "### LinearRegression to predict score difference"
   ]
  },
  {
   "cell_type": "code",
   "execution_count": null,
   "metadata": {},
   "outputs": [],
   "source": [
    "lnr = LinearRegression()\n",
    "lnr.fit(Xz_train, z_train)\n",
    "lnr_pred = lnr.predict(Xz_test)\n",
    "lnr_mse = MSE(z_test, lnr_pred)\n",
    "\n",
    "lnr_mse"
   ]
  },
  {
   "cell_type": "code",
   "execution_count": null,
   "metadata": {},
   "outputs": [],
   "source": [
    "print(np.min(lnr_pred), np.max(lnr_pred))"
   ]
  },
  {
   "cell_type": "code",
   "execution_count": null,
   "metadata": {},
   "outputs": [],
   "source": [
    "lnr_pred"
   ]
  },
  {
   "cell_type": "code",
   "execution_count": null,
   "metadata": {},
   "outputs": [],
   "source": [
    "lnr.coef_"
   ]
  },
  {
   "cell_type": "code",
   "execution_count": null,
   "metadata": {},
   "outputs": [],
   "source": [
    "print(len(np.unique(lnr.coef_)), len(lnr.coef_))"
   ]
  },
  {
   "cell_type": "markdown",
   "metadata": {},
   "source": [
    "### GradientBoostingRegressor"
   ]
  },
  {
   "cell_type": "code",
   "execution_count": null,
   "metadata": {},
   "outputs": [],
   "source": [
    "gbr = GradientBoostingRegressor()\n",
    "gbr.fit(Xz_train, z_train)\n",
    "gbr_pred = gbr.predict(Xz_test)\n",
    "gbr_mse = MSE(z_test, gbr_pred)\n",
    "\n",
    "gbr_mse"
   ]
  },
  {
   "cell_type": "markdown",
   "metadata": {},
   "source": [
    "### Polynomial regression"
   ]
  },
  {
   "cell_type": "code",
   "execution_count": null,
   "metadata": {},
   "outputs": [],
   "source": [
    "poly = PolynomialFeatures(2)\n",
    "\n",
    "X_poly = poly.fit_transform(X)\n",
    "\n",
    "X_train_poly, X_test_poly, z_train_poly, z_test_poly = train_test_split(X_poly, z, test_size=0.2, random_state=1, shuffle=True)\n",
    "polylr = LinearRegression()\n",
    "polylr.fit(X_train_poly, z_train_poly)\n",
    "poly_pred = polylr.predict(X_test_poly)\n",
    "poly_mse = MSE(poly_pred, z_test_poly)\n",
    "\n",
    "poly_mse"
   ]
  },
  {
   "cell_type": "code",
   "execution_count": null,
   "metadata": {},
   "outputs": [],
   "source": [
    "import pycaret\n",
    "from pycaret.regression import *\n",
    "from pycaret.regression import RegressionExperiment"
   ]
  },
  {
   "cell_type": "code",
   "execution_count": null,
   "metadata": {},
   "outputs": [],
   "source": [
    "exp = RegressionExperiment()\n",
    "exp.setup(X, target=y)"
   ]
  },
  {
   "cell_type": "code",
   "execution_count": null,
   "metadata": {},
   "outputs": [],
   "source": [
    "best = exp.compare_models()"
   ]
  },
  {
   "cell_type": "code",
   "execution_count": null,
   "metadata": {},
   "outputs": [],
   "source": [
    "plot_model(best, plot=\"residuals\")"
   ]
  },
  {
   "cell_type": "code",
   "execution_count": null,
   "metadata": {},
   "outputs": [],
   "source": [
    "plot_model(best, plot=\"residuals\")"
   ]
  },
  {
   "cell_type": "code",
   "execution_count": null,
   "metadata": {},
   "outputs": [],
   "source": [
    "raise ValueError(\"hello! stop here!\")"
   ]
  }
 ],
 "metadata": {
  "kernelspec": {
   "display_name": "Python 3 (ipykernel)",
   "language": "python",
   "name": "python3"
  },
  "language_info": {
   "codemirror_mode": {
    "name": "ipython",
    "version": 3
   },
   "file_extension": ".py",
   "mimetype": "text/x-python",
   "name": "python",
   "nbconvert_exporter": "python",
   "pygments_lexer": "ipython3",
   "version": "3.9.18"
  },
  "vscode": {
   "interpreter": {
    "hash": "dff9a28c025b256e3dd07773b16d01fc7f1d9c1504d50adf5be320b8d91345d8"
   }
  }
 },
 "nbformat": 4,
 "nbformat_minor": 2
}
