{
 "cells": [
  {
   "attachments": {},
   "cell_type": "markdown",
   "metadata": {},
   "source": [
    "# Part 1: Feature and model selection"
   ]
  },
  {
   "cell_type": "code",
   "execution_count": 1,
   "metadata": {},
   "outputs": [],
   "source": [
    "import pandas as pd\n",
    "import numpy as np\n",
    "import matplotlib.pyplot as plt "
   ]
  },
  {
   "attachments": {},
   "cell_type": "markdown",
   "metadata": {},
   "source": [
    "## 1. Setting train and test set"
   ]
  },
  {
   "cell_type": "code",
   "execution_count": 2,
   "metadata": {},
   "outputs": [],
   "source": [
    "train_data = pd.read_csv(\"../data/vct_2023/processed_data/AvsB_train_data_players_stats_eco_SK_rounds.csv\")\n",
    "test_data = pd.read_csv(\"../data/vct_2023/processed_data/AvsB_test_data_players_stats_eco_SK_rounds.csv\")"
   ]
  },
  {
   "cell_type": "code",
   "execution_count": 3,
   "metadata": {},
   "outputs": [],
   "source": [
    "game_id_columns = [\"Tournament\", \"Stage\", \"Match Type\", \"Match Name\", \"Team_A\", \"Team_B\"]\n",
    "map_composition = [\"Map\", \"Composition_A\", \"Composition_B\"]\n",
    "outcome_columns = [\"Team_A_score_diff\", \"Team_B_score_diff\", \"Team_A_win\", \"Team_B_win\"]"
   ]
  },
  {
   "cell_type": "code",
   "execution_count": 4,
   "metadata": {},
   "outputs": [],
   "source": [
    "train_input = train_data.drop(game_id_columns+map_composition+outcome_columns, axis=1)\n",
    "train_target = train_data[\"Team_A_win\"]\n",
    "\n",
    "test_input = test_data.drop(game_id_columns+map_composition+outcome_columns, axis=1)\n",
    "test_target = test_data[\"Team_A_win\"]"
   ]
  },
  {
   "cell_type": "code",
   "execution_count": 5,
   "metadata": {},
   "outputs": [],
   "source": [
    "# Sanity check\n",
    "assert len(train_input.keys()) == len(test_input.keys()), \"The number of train and test input are different.\"\n",
    "assert set(train_input.keys()) == set(test_input.keys()), \"Train and test have different input feature.\"\n",
    "assert len(train_input) == len(train_target), \"Train input and target sizes are different.\"\n",
    "assert len(test_input) == len(test_target), \"Test input and target sizes are different.\""
   ]
  },
  {
   "cell_type": "code",
   "execution_count": 6,
   "metadata": {},
   "outputs": [],
   "source": [
    "# Check if input has non numeric features.\n",
    "from pandas.api.types import is_numeric_dtype\n",
    "\n",
    "for key in train_input.keys():\n",
    "    if not is_numeric_dtype(train_input[key]):\n",
    "        print(key, \"is not numeric.\")"
   ]
  },
  {
   "attachments": {},
   "cell_type": "markdown",
   "metadata": {},
   "source": [
    "## 2. Feature selection by using XGB"
   ]
  },
  {
   "cell_type": "code",
   "execution_count": 7,
   "metadata": {},
   "outputs": [],
   "source": [
    "from sklearn.linear_model import LogisticRegression\n",
    "from sklearn.neighbors import KNeighborsClassifier\n",
    "from sklearn.tree import DecisionTreeClassifier\n",
    "from sklearn.ensemble import RandomForestClassifier\n",
    "from sklearn.preprocessing import StandardScaler\n",
    "from sklearn.pipeline import Pipeline\n",
    "from sklearn.model_selection import train_test_split\n",
    "from sklearn.metrics import accuracy_score\n",
    "\n",
    "from xgboost import XGBClassifier\n",
    "\n"
   ]
  },
  {
   "cell_type": "code",
   "execution_count": 8,
   "metadata": {},
   "outputs": [
    {
     "name": "stdout",
     "output_type": "stream",
     "text": [
      "Default XGB accuracy: 0.6547619047619048\n",
      "Top 40 important features:\n",
      "['eco_rating_A', 'R1_lo_A', 'Average Combat Score_B', 'cont_Rating_B', 'sent_Rating_B', 'Kills Per Round_B', 'Kills Per Round_A', 'Average Combat Score_A', 'Clutch Success %_A', 'sent_Clutch Success %_A', 'R13_lo_B', 'duel_Average Combat Score_A', 'R6_Special_Kills_B', 'Rating_A', 'R4_Special_Kills_A', 'First Kills Per Round_A', 'Rating_B', 'sent_Rating_A', 'R3_lo_A', 'cont_Assists Per Round_B', 'sent_Kills Per Round_B', 'duel_Rating_A', 'Kill, Assist, Trade, Survive %_A', 'init_First Kills Per Round_A', 'R1_Special_Kills_A', 'duel_Average Damage Per Round_B', 'cont_Headshot %_B', 'R11_lo_B', 'Assists Per Round_A', 'R6_lo_B', 'R3_lo_B', 'prob_eco_rating_A', 'sent_Kills Per Round_A', 'cont_Average Combat Score_A', 'cont_Kills Per Round_B', 'eco_rating_B', 'sent_Average Damage Per Round_B', 'R10_Special_Kills_A', 'init_Assists Per Round_B', 'R4_lo_B']\n"
     ]
    }
   ],
   "source": [
    "xgb = XGBClassifier()\n",
    "xgb.fit(train_input, train_target)\n",
    "y_pred = xgb.predict(test_input)\n",
    "xgb_acc = accuracy_score(test_target, y_pred)\n",
    "print(\"Default XGB accuracy:\", xgb_acc)\n",
    "\n",
    "importance = xgb.feature_importances_\n",
    "feature_importance = dict(zip(train_input.keys(), importance))\n",
    "sorted_features = sorted(feature_importance.items(), key=lambda x: x[1], reverse=True)\n",
    "\n",
    "\n",
    "sorted_important_features = [x[0] for x in sorted_features]\n",
    "most_important_features = sorted_important_features[:40]\n",
    "print(\"Top 40 important features:\")\n",
    "print(most_important_features)"
   ]
  },
  {
   "attachments": {},
   "cell_type": "markdown",
   "metadata": {},
   "source": [
    "### Let's use sorted important features to get the best subset of features."
   ]
  },
  {
   "cell_type": "code",
   "execution_count": 9,
   "metadata": {},
   "outputs": [],
   "source": [
    "# Find accuracy on the test set of each model:\n",
    "# LogisticRegression, KNeighborsClassifier, DecisionTree, RandomForest, GradientBoostingClassifier, and XGBoostClassifier\n",
    "\n",
    "best_acc = 0\n",
    "best_features = None\n",
    "best_clf = None\n",
    "second_best_acc = 0\n",
    "second_best_features = None\n",
    "second_best_clf = None\n",
    "\n",
    "acc_dict = {\n",
    "    \"number_of_features\":[],\n",
    "    \"Logreg_acc\":[],\n",
    "    \"KNN_acc\":[],\n",
    "    \"DTree_acc\":[],\n",
    "    \"RForest_acc\":[],\n",
    "    \"XGB_acc\":[]\n",
    "    }\n",
    "\n",
    "model_acc_df = pd.DataFrame(acc_dict)\n",
    "\n",
    "for i in range(len(sorted_important_features)):\n",
    "    '''\n",
    "    We take only one pair of players' stats at a time and train models.\n",
    "    We will do train test split on the train set to address data leakage issue.\n",
    "    '''\n",
    "    features = sorted_important_features[:i+1]\n",
    "\n",
    "    pipeline = Pipeline([\n",
    "    ('scaler', StandardScaler()),\n",
    "    ('logreg', LogisticRegression())])\n",
    "\n",
    "    pipeline2 = Pipeline([\n",
    "    ('scaler', StandardScaler()),\n",
    "    ('KNN', KNeighborsClassifier())])\n",
    "    \n",
    "    dict_classifiers = {\n",
    "        \"Logreg\": pipeline,\n",
    "        \"KNN\": pipeline2,\n",
    "        \"DTree\": DecisionTreeClassifier(),\n",
    "        \"RForest\": RandomForestClassifier(),\n",
    "        \"XGB\": XGBClassifier()\n",
    "        }\n",
    "    \n",
    "    X_train = train_input[features]\n",
    "    y_train = train_target\n",
    "    X_test = test_input[features]\n",
    "    y_test = test_target\n",
    "\n",
    "    row_dict = {}\n",
    "    row_dict['number_of_features'] = i+1\n",
    "\n",
    "    for clf_name, clf in dict_classifiers.items():\n",
    "        clf.fit(X_train, y_train)\n",
    "        test_pred = clf.predict(X_test)\n",
    "        test_acc = accuracy_score(y_test, test_pred)\n",
    "\n",
    "        row_dict[f\"{clf_name}_acc\"] = test_acc\n",
    "\n",
    "        if test_acc >= best_acc:\n",
    "            temp_acc = best_acc\n",
    "            best_acc = test_acc\n",
    "            second_best_acc = temp_acc\n",
    "\n",
    "            temp_features = best_features\n",
    "            best_features = features\n",
    "            second_best_features = temp_features\n",
    "\n",
    "            temp_clf = best_clf\n",
    "            best_clf = clf\n",
    "            second_best_clf = temp_clf\n",
    "        \n",
    "    # Uncomment the lines below to see\n",
    "    # accuracies and prediction means of validation set and test set in each step\n",
    "    # \n",
    "    #     print(\"----------------------------------------\")\n",
    "    #     print(f\"Classifier: {clf_name}\")\n",
    "    #     print(f\"trained on {features}\")\n",
    "    #     print(\" - - - - - - - - - - - - - - - - -\")\n",
    "    #     print(f\"Validation accuracy: {val_acc}\")\n",
    "    #     print(f\"y_val mean: {np.mean(y_val)}\")\n",
    "    #     print(f\"Validation prediction mean: {np.mean(val_pred)}\")\n",
    "    #     print(\" - - - - - - - - - - - - - - - - -\")\n",
    "    #     print(f\"Test accuracy: {test_acc}\")\n",
    "    #     print(f\"y_test mean: {np.mean(y_test)}\")\n",
    "    #     print(f\"Test prediction mean: {np.mean(test_pred)}\")\n",
    "\n",
    "    # print(\"===============================================\")\n",
    "        \n",
    "    # Add each models accuracies to model_acc_df\n",
    "    model_acc_df = model_acc_df._append(row_dict, ignore_index=True)\n",
    "\n"
   ]
  },
  {
   "cell_type": "code",
   "execution_count": 10,
   "metadata": {},
   "outputs": [
    {
     "data": {
      "text/html": [
       "<div>\n",
       "<style scoped>\n",
       "    .dataframe tbody tr th:only-of-type {\n",
       "        vertical-align: middle;\n",
       "    }\n",
       "\n",
       "    .dataframe tbody tr th {\n",
       "        vertical-align: top;\n",
       "    }\n",
       "\n",
       "    .dataframe thead th {\n",
       "        text-align: right;\n",
       "    }\n",
       "</style>\n",
       "<table border=\"1\" class=\"dataframe\">\n",
       "  <thead>\n",
       "    <tr style=\"text-align: right;\">\n",
       "      <th></th>\n",
       "      <th>number_of_features</th>\n",
       "      <th>Logreg_acc</th>\n",
       "      <th>KNN_acc</th>\n",
       "      <th>DTree_acc</th>\n",
       "      <th>RForest_acc</th>\n",
       "      <th>XGB_acc</th>\n",
       "    </tr>\n",
       "  </thead>\n",
       "  <tbody>\n",
       "    <tr>\n",
       "      <th>0</th>\n",
       "      <td>1.0</td>\n",
       "      <td>0.583333</td>\n",
       "      <td>0.607143</td>\n",
       "      <td>0.607143</td>\n",
       "      <td>0.595238</td>\n",
       "      <td>0.607143</td>\n",
       "    </tr>\n",
       "    <tr>\n",
       "      <th>1</th>\n",
       "      <td>2.0</td>\n",
       "      <td>0.583333</td>\n",
       "      <td>0.571429</td>\n",
       "      <td>0.619048</td>\n",
       "      <td>0.642857</td>\n",
       "      <td>0.559524</td>\n",
       "    </tr>\n",
       "    <tr>\n",
       "      <th>2</th>\n",
       "      <td>3.0</td>\n",
       "      <td>0.559524</td>\n",
       "      <td>0.607143</td>\n",
       "      <td>0.619048</td>\n",
       "      <td>0.571429</td>\n",
       "      <td>0.547619</td>\n",
       "    </tr>\n",
       "    <tr>\n",
       "      <th>3</th>\n",
       "      <td>4.0</td>\n",
       "      <td>0.571429</td>\n",
       "      <td>0.595238</td>\n",
       "      <td>0.583333</td>\n",
       "      <td>0.583333</td>\n",
       "      <td>0.607143</td>\n",
       "    </tr>\n",
       "    <tr>\n",
       "      <th>4</th>\n",
       "      <td>5.0</td>\n",
       "      <td>0.559524</td>\n",
       "      <td>0.619048</td>\n",
       "      <td>0.547619</td>\n",
       "      <td>0.559524</td>\n",
       "      <td>0.571429</td>\n",
       "    </tr>\n",
       "    <tr>\n",
       "      <th>...</th>\n",
       "      <td>...</td>\n",
       "      <td>...</td>\n",
       "      <td>...</td>\n",
       "      <td>...</td>\n",
       "      <td>...</td>\n",
       "      <td>...</td>\n",
       "    </tr>\n",
       "    <tr>\n",
       "      <th>159</th>\n",
       "      <td>160.0</td>\n",
       "      <td>0.583333</td>\n",
       "      <td>0.452381</td>\n",
       "      <td>0.595238</td>\n",
       "      <td>0.559524</td>\n",
       "      <td>0.654762</td>\n",
       "    </tr>\n",
       "    <tr>\n",
       "      <th>160</th>\n",
       "      <td>161.0</td>\n",
       "      <td>0.583333</td>\n",
       "      <td>0.440476</td>\n",
       "      <td>0.630952</td>\n",
       "      <td>0.571429</td>\n",
       "      <td>0.654762</td>\n",
       "    </tr>\n",
       "    <tr>\n",
       "      <th>161</th>\n",
       "      <td>162.0</td>\n",
       "      <td>0.607143</td>\n",
       "      <td>0.452381</td>\n",
       "      <td>0.595238</td>\n",
       "      <td>0.607143</td>\n",
       "      <td>0.654762</td>\n",
       "    </tr>\n",
       "    <tr>\n",
       "      <th>162</th>\n",
       "      <td>163.0</td>\n",
       "      <td>0.607143</td>\n",
       "      <td>0.464286</td>\n",
       "      <td>0.607143</td>\n",
       "      <td>0.571429</td>\n",
       "      <td>0.654762</td>\n",
       "    </tr>\n",
       "    <tr>\n",
       "      <th>163</th>\n",
       "      <td>164.0</td>\n",
       "      <td>0.595238</td>\n",
       "      <td>0.488095</td>\n",
       "      <td>0.607143</td>\n",
       "      <td>0.619048</td>\n",
       "      <td>0.654762</td>\n",
       "    </tr>\n",
       "  </tbody>\n",
       "</table>\n",
       "<p>164 rows × 6 columns</p>\n",
       "</div>"
      ],
      "text/plain": [
       "     number_of_features  Logreg_acc   KNN_acc  DTree_acc  RForest_acc  \\\n",
       "0                   1.0    0.583333  0.607143   0.607143     0.595238   \n",
       "1                   2.0    0.583333  0.571429   0.619048     0.642857   \n",
       "2                   3.0    0.559524  0.607143   0.619048     0.571429   \n",
       "3                   4.0    0.571429  0.595238   0.583333     0.583333   \n",
       "4                   5.0    0.559524  0.619048   0.547619     0.559524   \n",
       "..                  ...         ...       ...        ...          ...   \n",
       "159               160.0    0.583333  0.452381   0.595238     0.559524   \n",
       "160               161.0    0.583333  0.440476   0.630952     0.571429   \n",
       "161               162.0    0.607143  0.452381   0.595238     0.607143   \n",
       "162               163.0    0.607143  0.464286   0.607143     0.571429   \n",
       "163               164.0    0.595238  0.488095   0.607143     0.619048   \n",
       "\n",
       "      XGB_acc  \n",
       "0    0.607143  \n",
       "1    0.559524  \n",
       "2    0.547619  \n",
       "3    0.607143  \n",
       "4    0.571429  \n",
       "..        ...  \n",
       "159  0.654762  \n",
       "160  0.654762  \n",
       "161  0.654762  \n",
       "162  0.654762  \n",
       "163  0.654762  \n",
       "\n",
       "[164 rows x 6 columns]"
      ]
     },
     "execution_count": 10,
     "metadata": {},
     "output_type": "execute_result"
    }
   ],
   "source": [
    "model_acc_df"
   ]
  },
  {
   "cell_type": "code",
   "execution_count": 11,
   "metadata": {},
   "outputs": [
    {
     "data": {
      "image/png": "[encoded data removed]",
      "text/plain": [
       "<Figure size 640x480 with 1 Axes>"
      ]
     },
     "metadata": {},
     "output_type": "display_data"
    }
   ],
   "source": [
    "# Plot accuracy of each model when we increase the number of features.\n",
    "plt.title(\"The number of features vs Accuracy on test set\")\n",
    "plt.plot(model_acc_df.number_of_features, model_acc_df[\"Logreg_acc\"], label=\"Logreg_acc\")\n",
    "plt.plot(model_acc_df.number_of_features, model_acc_df[\"KNN_acc\"], label=\"KNN_acc\")\n",
    "plt.plot(model_acc_df.number_of_features, model_acc_df[\"DTree_acc\"], label=\"DTree_acc\")\n",
    "plt.plot(model_acc_df.number_of_features, model_acc_df[\"RForest_acc\"], label=\"RForest_acc\")\n",
    "plt.plot(model_acc_df.number_of_features, model_acc_df[\"XGB_acc\"], label=\"XGB_acc\")\n",
    "plt.legend(loc='center left', bbox_to_anchor=(1, 0.5))\n",
    "plt.show()\n"
   ]
  },
  {
   "cell_type": "code",
   "execution_count": 12,
   "metadata": {},
   "outputs": [
    {
     "data": {
      "text/plain": [
       "(158, 157)"
      ]
     },
     "execution_count": 12,
     "metadata": {},
     "output_type": "execute_result"
    }
   ],
   "source": [
    "len(best_features), len(second_best_features)"
   ]
  },
  {
   "cell_type": "code",
   "execution_count": 13,
   "metadata": {},
   "outputs": [
    {
     "data": {
      "text/plain": [
       "(XGBClassifier(base_score=None, booster=None, callbacks=None,\n",
       "               colsample_bylevel=None, colsample_bynode=None,\n",
       "               colsample_bytree=None, device=None, early_stopping_rounds=None,\n",
       "               enable_categorical=False, eval_metric=None, feature_types=None,\n",
       "               gamma=None, grow_policy=None, importance_type=None,\n",
       "               interaction_constraints=None, learning_rate=None, max_bin=None,\n",
       "               max_cat_threshold=None, max_cat_to_onehot=None,\n",
       "               max_delta_step=None, max_depth=None, max_leaves=None,\n",
       "               min_child_weight=None, missing=nan, monotone_constraints=None,\n",
       "               multi_strategy=None, n_estimators=None, n_jobs=None,\n",
       "               num_parallel_tree=None, random_state=None, ...),\n",
       " 0.6666666666666666)"
      ]
     },
     "execution_count": 13,
     "metadata": {},
     "output_type": "execute_result"
    }
   ],
   "source": [
    "best_clf, best_acc"
   ]
  },
  {
   "cell_type": "code",
   "execution_count": 14,
   "metadata": {},
   "outputs": [
    {
     "data": {
      "text/plain": [
       "(XGBClassifier(base_score=None, booster=None, callbacks=None,\n",
       "               colsample_bylevel=None, colsample_bynode=None,\n",
       "               colsample_bytree=None, device=None, early_stopping_rounds=None,\n",
       "               enable_categorical=False, eval_metric=None, feature_types=None,\n",
       "               gamma=None, grow_policy=None, importance_type=None,\n",
       "               interaction_constraints=None, learning_rate=None, max_bin=None,\n",
       "               max_cat_threshold=None, max_cat_to_onehot=None,\n",
       "               max_delta_step=None, max_depth=None, max_leaves=None,\n",
       "               min_child_weight=None, missing=nan, monotone_constraints=None,\n",
       "               multi_strategy=None, n_estimators=None, n_jobs=None,\n",
       "               num_parallel_tree=None, random_state=None, ...),\n",
       " 0.6666666666666666)"
      ]
     },
     "execution_count": 14,
     "metadata": {},
     "output_type": "execute_result"
    }
   ],
   "source": [
    "second_best_clf, second_best_acc"
   ]
  },
  {
   "cell_type": "code",
   "execution_count": 15,
   "metadata": {},
   "outputs": [
    {
     "name": "stdout",
     "output_type": "stream",
     "text": [
      "First 10 important features\n"
     ]
    },
    {
     "data": {
      "text/html": [
       "<div>\n",
       "<style scoped>\n",
       "    .dataframe tbody tr th:only-of-type {\n",
       "        vertical-align: middle;\n",
       "    }\n",
       "\n",
       "    .dataframe tbody tr th {\n",
       "        vertical-align: top;\n",
       "    }\n",
       "\n",
       "    .dataframe thead th {\n",
       "        text-align: right;\n",
       "    }\n",
       "</style>\n",
       "<table border=\"1\" class=\"dataframe\">\n",
       "  <thead>\n",
       "    <tr style=\"text-align: right;\">\n",
       "      <th></th>\n",
       "      <th>feature</th>\n",
       "      <th>importance</th>\n",
       "    </tr>\n",
       "  </thead>\n",
       "  <tbody>\n",
       "    <tr>\n",
       "      <th>0</th>\n",
       "      <td>eco_rating_A</td>\n",
       "      <td>0.197997</td>\n",
       "    </tr>\n",
       "    <tr>\n",
       "      <th>1</th>\n",
       "      <td>R1_lo_A</td>\n",
       "      <td>0.034085</td>\n",
       "    </tr>\n",
       "    <tr>\n",
       "      <th>2</th>\n",
       "      <td>Average Combat Score_B</td>\n",
       "      <td>0.031170</td>\n",
       "    </tr>\n",
       "    <tr>\n",
       "      <th>3</th>\n",
       "      <td>cont_Rating_B</td>\n",
       "      <td>0.030136</td>\n",
       "    </tr>\n",
       "    <tr>\n",
       "      <th>4</th>\n",
       "      <td>sent_Rating_B</td>\n",
       "      <td>0.029330</td>\n",
       "    </tr>\n",
       "    <tr>\n",
       "      <th>5</th>\n",
       "      <td>Kills Per Round_B</td>\n",
       "      <td>0.027321</td>\n",
       "    </tr>\n",
       "    <tr>\n",
       "      <th>6</th>\n",
       "      <td>Kills Per Round_A</td>\n",
       "      <td>0.026819</td>\n",
       "    </tr>\n",
       "    <tr>\n",
       "      <th>7</th>\n",
       "      <td>Average Combat Score_A</td>\n",
       "      <td>0.024581</td>\n",
       "    </tr>\n",
       "    <tr>\n",
       "      <th>8</th>\n",
       "      <td>Clutch Success %_A</td>\n",
       "      <td>0.023798</td>\n",
       "    </tr>\n",
       "    <tr>\n",
       "      <th>9</th>\n",
       "      <td>sent_Clutch Success %_A</td>\n",
       "      <td>0.023263</td>\n",
       "    </tr>\n",
       "    <tr>\n",
       "      <th>10</th>\n",
       "      <td>R13_lo_B</td>\n",
       "      <td>0.020544</td>\n",
       "    </tr>\n",
       "  </tbody>\n",
       "</table>\n",
       "</div>"
      ],
      "text/plain": [
       "                    feature  importance\n",
       "0              eco_rating_A    0.197997\n",
       "1                   R1_lo_A    0.034085\n",
       "2    Average Combat Score_B    0.031170\n",
       "3             cont_Rating_B    0.030136\n",
       "4             sent_Rating_B    0.029330\n",
       "5         Kills Per Round_B    0.027321\n",
       "6         Kills Per Round_A    0.026819\n",
       "7    Average Combat Score_A    0.024581\n",
       "8        Clutch Success %_A    0.023798\n",
       "9   sent_Clutch Success %_A    0.023263\n",
       "10                 R13_lo_B    0.020544"
      ]
     },
     "execution_count": 15,
     "metadata": {},
     "output_type": "execute_result"
    }
   ],
   "source": [
    "feature_list = []\n",
    "importance_list = []\n",
    "for feature, importance in sorted_features:\n",
    "    feature_list.append(feature)\n",
    "    importance_list.append(importance)\n",
    "\n",
    "importance_df = pd.DataFrame({\"feature\":feature_list, \"importance\":importance_list})\n",
    "\n",
    "print(\"First 10 important features\")\n",
    "importance_df[:11]"
   ]
  },
  {
   "attachments": {},
   "cell_type": "markdown",
   "metadata": {},
   "source": [
    "### Let's see what happens if we don't use engineered features."
   ]
  },
  {
   "cell_type": "code",
   "execution_count": 16,
   "metadata": {},
   "outputs": [],
   "source": [
    "# The following players_stats are not engineered.\n",
    "# They are directly extracted from \"players_stats.csv\" file from Kaggle.\n",
    "# We simply calculate the sum of the ratings for five players and assign this total to a team.\n",
    "# (See \"vct_2023_final_data_processing.ipynb\")\n",
    "\n",
    "players_stats = [\"Rating_A\", \"Rating_B\",\"Average Combat Score_A\", \"Average Combat Score_B\",\n",
    "                \"Kill, Assist, Trade, Survive %_A\", \"Kill, Assist, Trade, Survive %_B\",\n",
    "                \"Average Damage Per Round_A\", \"Average Damage Per Round_B\",\n",
    "                \"Kills Per Round_A\", \"Kills Per Round_B\",\n",
    "                \"Assists Per Round_A\", \"Assists Per Round_B\",\n",
    "                \"First Kills Per Round_A\", \"First Kills Per Round_B\",\n",
    "                \"First Deaths Per Round_A\", \"First Deaths Per Round_B\",\n",
    "                \"Headshot %_A\", \"Headshot %_B\",\n",
    "                \"Clutch Success %_A\", \"Clutch Success %_B\"]\n",
    "\n",
    "\n",
    "best_acc = 0\n",
    "best_features = None\n",
    "best_clf = None\n",
    "second_best_acc = 0\n",
    "second_best_features = None\n",
    "second_best_clf = None\n",
    "\n",
    "for i in range(len(players_stats)):\n",
    "    '''\n",
    "    We take only one pair of players' stats at a time and train models.\n",
    "    We will do train test split on the train set to address data leakage issue.\n",
    "    '''\n",
    "    features = players_stats[:i+1]\n",
    "\n",
    "    pipeline = Pipeline([\n",
    "    ('scaler', StandardScaler()),\n",
    "    ('logreg', LogisticRegression())])\n",
    "\n",
    "    pipeline2 = Pipeline([\n",
    "    ('scaler', StandardScaler()),\n",
    "    ('KNN', KNeighborsClassifier())])\n",
    "    \n",
    "    dict_classifiers = {\n",
    "        \"Logreg\": pipeline,\n",
    "        \"KNN\": pipeline2,\n",
    "        \"DTree\": DecisionTreeClassifier(),\n",
    "        \"RForest\": RandomForestClassifier(),\n",
    "        \"XGB\": XGBClassifier()\n",
    "        }\n",
    "    \n",
    "    X_train = train_input[features]\n",
    "    y_train = train_target\n",
    "    X_test = test_input[features]\n",
    "    y_test = test_target\n",
    "\n",
    "    for clf_name, clf in dict_classifiers.items():\n",
    "        clf.fit(X_train, y_train)\n",
    "        test_pred = clf.predict(X_test)\n",
    "        test_acc = accuracy_score(y_test, test_pred)\n",
    "\n",
    "\n",
    "        if test_acc >= best_acc:\n",
    "            temp_acc = best_acc\n",
    "            best_acc = test_acc\n",
    "            second_best_acc = temp_acc\n",
    "\n",
    "            temp_features = best_features\n",
    "            best_features = features\n",
    "            second_best_features = temp_features\n",
    "\n",
    "            temp_clf = best_clf\n",
    "            best_clf = clf\n",
    "            second_best_clf = temp_clf\n",
    "\n",
    "    #     print(\"----------------------------------------\")\n",
    "    #     print(f\"Classifier: {clf_name}\")\n",
    "    #     print(f\"trained on {features}\")\n",
    "    #     print(\" - - - - - - - - - - - - - - - - -\")\n",
    "    #     print(f\"Validation accuracy: {val_acc}\")\n",
    "    #     print(f\"y_val mean: {np.mean(y_val)}\")\n",
    "    #     print(f\"Validation prediction mean: {np.mean(val_pred)}\")\n",
    "    #     print(\" - - - - - - - - - - - - - - - - -\")\n",
    "    #     print(f\"Test accuracy: {test_acc}\")\n",
    "    #     print(f\"y_test mean: {np.mean(y_test)}\")\n",
    "    #     print(f\"Test prediction mean: {np.mean(test_pred)}\")\n",
    "        \n",
    "    # print(\"===============================================\")"
   ]
  },
  {
   "cell_type": "code",
   "execution_count": 17,
   "metadata": {},
   "outputs": [
    {
     "data": {
      "text/plain": [
       "(['Rating_A'], ['Rating_A'])"
      ]
     },
     "execution_count": 17,
     "metadata": {},
     "output_type": "execute_result"
    }
   ],
   "source": [
    "best_features, second_best_features"
   ]
  },
  {
   "cell_type": "code",
   "execution_count": 18,
   "metadata": {},
   "outputs": [
    {
     "data": {
      "text/plain": [
       "(RandomForestClassifier(),\n",
       " 0.6785714285714286,\n",
       " Pipeline(steps=[('scaler', StandardScaler()), ('logreg', LogisticRegression())]),\n",
       " 0.6666666666666666)"
      ]
     },
     "execution_count": 18,
     "metadata": {},
     "output_type": "execute_result"
    }
   ],
   "source": [
    "best_clf, best_acc, second_best_clf, second_best_acc"
   ]
  },
  {
   "attachments": {},
   "cell_type": "markdown",
   "metadata": {},
   "source": [
    "### What if we use eco_ratings with not engineered features?"
   ]
  },
  {
   "cell_type": "code",
   "execution_count": 19,
   "metadata": {},
   "outputs": [],
   "source": [
    "eco_players_stats = [\"eco_rating_A\", \"eco_rating_B\"] + [\"Rating_A\", \"Rating_B\",\"Average Combat Score_A\", \"Average Combat Score_B\",\n",
    "                \"Kill, Assist, Trade, Survive %_A\", \"Kill, Assist, Trade, Survive %_B\",\n",
    "                \"Average Damage Per Round_A\", \"Average Damage Per Round_B\",\n",
    "                \"Kills Per Round_A\", \"Kills Per Round_B\",\n",
    "                \"Assists Per Round_A\", \"Assists Per Round_B\",\n",
    "                \"First Kills Per Round_A\", \"First Kills Per Round_B\",\n",
    "                \"First Deaths Per Round_A\", \"First Deaths Per Round_B\",\n",
    "                \"Headshot %_A\", \"Headshot %_B\",\n",
    "                \"Clutch Success %_A\", \"Clutch Success %_B\"]\n",
    "\n",
    "\n",
    "best_acc = 0\n",
    "best_features = None\n",
    "best_clf = None\n",
    "second_best_acc = 0\n",
    "second_best_features = None\n",
    "second_best_clf = None\n",
    "\n",
    "for i in range(len(eco_players_stats)):\n",
    "    '''\n",
    "    We take only one pair of players' stats at a time and train models.\n",
    "    We will do train test split on the train set to address data leakage issue.\n",
    "    '''\n",
    "    features = eco_players_stats[:i+1]\n",
    "\n",
    "    pipeline = Pipeline([\n",
    "    ('scaler', StandardScaler()),\n",
    "    ('logreg', LogisticRegression())])\n",
    "\n",
    "    pipeline2 = Pipeline([\n",
    "    ('scaler', StandardScaler()),\n",
    "    ('KNN', KNeighborsClassifier())])\n",
    "    \n",
    "    dict_classifiers = {\n",
    "        \"Logreg\": pipeline,\n",
    "        \"KNN\": pipeline2,\n",
    "        \"DTree\": DecisionTreeClassifier(),\n",
    "        \"RForest\": RandomForestClassifier(),\n",
    "        \"XGB\": XGBClassifier()\n",
    "        }\n",
    "    \n",
    "    X_train = train_input[features]\n",
    "    y_train = train_target\n",
    "    X_test = test_input[features]\n",
    "    y_test = test_target\n",
    "\n",
    "    for clf_name, clf in dict_classifiers.items():\n",
    "        clf.fit(X_train, y_train)\n",
    "        test_pred = clf.predict(X_test)\n",
    "        test_acc = accuracy_score(y_test, test_pred)\n",
    "\n",
    "        if test_acc >= best_acc:\n",
    "            temp_acc = best_acc\n",
    "            best_acc = test_acc\n",
    "            second_best_acc = temp_acc\n",
    "\n",
    "            temp_features = best_features\n",
    "            best_features = features\n",
    "            second_best_features = temp_features\n",
    "\n",
    "            temp_clf = best_clf\n",
    "            best_clf = clf\n",
    "            second_best_clf = temp_clf\n",
    "\n"
   ]
  },
  {
   "cell_type": "code",
   "execution_count": 20,
   "metadata": {},
   "outputs": [
    {
     "data": {
      "text/plain": [
       "(21, 20)"
      ]
     },
     "execution_count": 20,
     "metadata": {},
     "output_type": "execute_result"
    }
   ],
   "source": [
    "len(best_features), len(second_best_features)"
   ]
  },
  {
   "cell_type": "code",
   "execution_count": 21,
   "metadata": {},
   "outputs": [
    {
     "data": {
      "text/plain": [
       "(XGBClassifier(base_score=None, booster=None, callbacks=None,\n",
       "               colsample_bylevel=None, colsample_bynode=None,\n",
       "               colsample_bytree=None, device=None, early_stopping_rounds=None,\n",
       "               enable_categorical=False, eval_metric=None, feature_types=None,\n",
       "               gamma=None, grow_policy=None, importance_type=None,\n",
       "               interaction_constraints=None, learning_rate=None, max_bin=None,\n",
       "               max_cat_threshold=None, max_cat_to_onehot=None,\n",
       "               max_delta_step=None, max_depth=None, max_leaves=None,\n",
       "               min_child_weight=None, missing=nan, monotone_constraints=None,\n",
       "               multi_strategy=None, n_estimators=None, n_jobs=None,\n",
       "               num_parallel_tree=None, random_state=None, ...),\n",
       " 0.6785714285714286,\n",
       " XGBClassifier(base_score=None, booster=None, callbacks=None,\n",
       "               colsample_bylevel=None, colsample_bynode=None,\n",
       "               colsample_bytree=None, device=None, early_stopping_rounds=None,\n",
       "               enable_categorical=False, eval_metric=None, feature_types=None,\n",
       "               gamma=None, grow_policy=None, importance_type=None,\n",
       "               interaction_constraints=None, learning_rate=None, max_bin=None,\n",
       "               max_cat_threshold=None, max_cat_to_onehot=None,\n",
       "               max_delta_step=None, max_depth=None, max_leaves=None,\n",
       "               min_child_weight=None, missing=nan, monotone_constraints=None,\n",
       "               multi_strategy=None, n_estimators=None, n_jobs=None,\n",
       "               num_parallel_tree=None, random_state=None, ...),\n",
       " 0.6785714285714286)"
      ]
     },
     "execution_count": 21,
     "metadata": {},
     "output_type": "execute_result"
    }
   ],
   "source": [
    "best_clf, best_acc, second_best_clf, second_best_acc"
   ]
  },
  {
   "attachments": {},
   "cell_type": "markdown",
   "metadata": {},
   "source": [
    "### Conclusion of Part 1:\n",
    "\n",
    "With engineered features: XGBoost performed the best with 0.666 accuracy, trained on 158 features.\n",
    "\n",
    "With non_engineered features: RandomForest performed the best with 0.678 accuracy, trained on one feature 'Rating_A'.\n",
    "\n",
    "With eco_rating and non_engineered features: XGBoost performed the best with 0.678 accuracy, trained on 21 features."
   ]
  },
  {
   "attachments": {},
   "cell_type": "markdown",
   "metadata": {},
   "source": [
    "# Part 2: Parameter tuning"
   ]
  },
  {
   "attachments": {},
   "cell_type": "markdown",
   "metadata": {},
   "source": [
    "In Part 1, we found two models, XGBoostClassifier and RandomForest, which performed better than other.\n",
    "\n",
    "Since XGBoostClassifier trained on a lot of features, we will try to do hyperparameter tuning on XGBoost to increase accuracy on the test set.\n",
    "\n",
    "Instead of using 158 engineered features, we will use non_engineered features together with eco_ratings because XGB showed promising performance with this subset."
   ]
  },
  {
   "cell_type": "code",
   "execution_count": 22,
   "metadata": {},
   "outputs": [],
   "source": [
    "eco_players_stats = [\"eco_rating_A\", \"eco_rating_B\"] + [\"Rating_A\", \"Rating_B\",\"Average Combat Score_A\", \"Average Combat Score_B\",\n",
    "                \"Kill, Assist, Trade, Survive %_A\", \"Kill, Assist, Trade, Survive %_B\",\n",
    "                \"Average Damage Per Round_A\", \"Average Damage Per Round_B\",\n",
    "                \"Kills Per Round_A\", \"Kills Per Round_B\",\n",
    "                \"Assists Per Round_A\", \"Assists Per Round_B\",\n",
    "                \"First Kills Per Round_A\", \"First Kills Per Round_B\",\n",
    "                \"First Deaths Per Round_A\", \"First Deaths Per Round_B\",\n",
    "                \"Headshot %_A\", \"Headshot %_B\",\n",
    "                \"Clutch Success %_A\", \"Clutch Success %_B\"]\n",
    "\n",
    "\n",
    "X_train = train_input[eco_players_stats]  \n",
    "X_test = test_input[eco_players_stats]\n",
    "y_train = train_target\n",
    "y_test = test_target"
   ]
  },
  {
   "cell_type": "code",
   "execution_count": 23,
   "metadata": {},
   "outputs": [
    {
     "name": "stdout",
     "output_type": "stream",
     "text": [
      "Best Hyperparameters: {'n_estimators': 250, 'learning_rate': 1.0, 'max_depth': 4}\n",
      "Test Accuracy: 0.6904761904761905\n"
     ]
    }
   ],
   "source": [
    "# Default parameters\n",
    "# n_estimators_list = [100]\n",
    "# learning_rate_list = [0.3]\n",
    "# max_depth_list = [6]\n",
    "# They gave 0.66 accuracy\n",
    "\n",
    "# Set parameter grid\n",
    "n_estimators_list = np.arange(250,1200,50)\n",
    "learning_rate_list = np.arange(1,2,0.1)\n",
    "max_depth_list = np.arange(1,6,1)\n",
    "\n",
    "best_accuracy = 0\n",
    "best_params = {}\n",
    "\n",
    "# Iterate over hyperparameter combinations\n",
    "for n_estimators in n_estimators_list:\n",
    "    for learning_rate in learning_rate_list:\n",
    "        for max_depth in max_depth_list:\n",
    "            # Initialize XGBClassifier with current hyperparameters\n",
    "            clf = XGBClassifier(n_estimators=n_estimators,\n",
    "                                             learning_rate=learning_rate,\n",
    "                                             max_depth=max_depth)\n",
    "            # Train the classifier on the training data\n",
    "            clf.fit(X_train, y_train)\n",
    "            \n",
    "            # Evaluate the classifier on the test set\n",
    "            y_pred = clf.predict(X_test)\n",
    "            accuracy = accuracy_score(y_test, y_pred)\n",
    "            \n",
    "            # Check if current hyperparameters yield better accuracy\n",
    "            if accuracy > best_accuracy:\n",
    "                best_accuracy = accuracy\n",
    "                best_params = {'n_estimators': n_estimators,\n",
    "                               'learning_rate': learning_rate,\n",
    "                               'max_depth': max_depth}\n",
    "\n",
    "# Train the final classifier with the best hyperparameters on the entire training set\n",
    "final_clf = XGBClassifier(**best_params)\n",
    "final_clf.fit(X_train, y_train)\n",
    "\n",
    "# Evaluate the final classifier on the test set\n",
    "y_test_pred = final_clf.predict(X_test)\n",
    "test_accuracy = accuracy_score(y_test, y_test_pred)\n",
    "\n",
    "print(\"Best Hyperparameters:\", best_params)\n",
    "print(\"Test Accuracy:\", test_accuracy)"
   ]
  },
  {
   "attachments": {},
   "cell_type": "markdown",
   "metadata": {},
   "source": [
    "### List of significant parameters and their accuracies\n",
    "```python\n",
    "Best Hyperparameters: {'n_estimators': 100, 'learning_rate': 0.2, 'max_depth': 2}\\\n",
    "Test Accuracy: 0.6785714285714286\n",
    "\n",
    "Best Hyperparameters: {'n_estimators': 250, 'learning_rate': 1, 'max_depth': 4}\\\n",
    "Test Accuracy: 0.6904761904761905\n",
    "\n",
    "Best Hyperparameters: {'n_estimators': 250, 'learning_rate': 0.75, 'max_depth': 5}\\\n",
    "Test Accuracy: 0.6904761904761905\n",
    "\n",
    "Best Hyperparameters: {'n_estimators': 300, 'learning_rate': 0.75, 'max_depth': 5}\\\n",
    "Test Accuracy: 0.6904761904761905\n",
    "\n",
    "Best Hyperparameters: {'n_estimators': 250, 'learning_rate': 1.0, 'max_depth': 4}\\\n",
    "Test Accuracy: 0.6904761904761905\n",
    "\n",
    "Best Hyperparameters: {'n_estimators': 300, 'learning_rate': 1.25, 'max_depth': 1}\\\n",
    "Test Accuracy: 0.7023809523809523\n",
    "```\n",
    "\n"
   ]
  },
  {
   "attachments": {},
   "cell_type": "markdown",
   "metadata": {},
   "source": [
    "### Conclusion of Part 2:\n",
    "\n",
    "*After hyperparameter tuning, `XGBClassifier` performed with up to `70% accuracy`!*\\\n",
    "Interestingly, increasing the number of estimators didn't improve accuracy when it exceeded 300."
   ]
  }
 ],
 "metadata": {
  "kernelspec": {
   "display_name": "vct",
   "language": "python",
   "name": "python3"
  },
  "language_info": {
   "codemirror_mode": {
    "name": "ipython",
    "version": 3
   },
   "file_extension": ".py",
   "mimetype": "text/x-python",
   "name": "python",
   "nbconvert_exporter": "python",
   "pygments_lexer": "ipython3",
   "version": "3.10.13"
  },
  "orig_nbformat": 4,
  "vscode": {
   "interpreter": {
    "hash": "dff9a28c025b256e3dd07773b16d01fc7f1d9c1504d50adf5be320b8d91345d8"
   }
  }
 },
 "nbformat": 4,
 "nbformat_minor": 2
}
